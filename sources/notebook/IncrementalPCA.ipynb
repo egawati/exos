{
 "cells": [
  {
   "cell_type": "code",
   "execution_count": 1,
   "metadata": {},
   "outputs": [],
   "source": [
    "import numpy as np\n",
    "from sklearn.decomposition import IncrementalPCA\n",
    "from sklearn.metrics import mean_squared_error\n",
    "import time"
   ]
  },
  {
   "cell_type": "code",
   "execution_count": 2,
   "metadata": {},
   "outputs": [],
   "source": [
    "def reconstruct_incremental_pca(X, pca, variance_explained=0.9025, profiling=False):\n",
    "    if profiling:\n",
    "        start = time.perf_counter()\n",
    "    \n",
    "    pca.partial_fit(X)\n",
    "    #Y is the projection of X on k dimension\n",
    "    Y = pca.transform(X)\n",
    "    k = len(pca.explained_variance_ratio_)\n",
    "    # check how many principal components we need based on the explained variance\n",
    "    if variance_explained != 1:\n",
    "        var_explained = 0\n",
    "        for i, val in enumerate(pca.explained_variance_ratio_):\n",
    "            var_explained += val\n",
    "            if var_explained >= variance_explained:\n",
    "                k = i\n",
    "    # to reconstruct X, we use the formula X=YW\n",
    "    X_estimate = np.dot(Y[:,0:k],pca.components_[0:k,:]) + np.mean(X, axis=0)\n",
    "    \n",
    "    if profiling:\n",
    "        duration = time.perf_counter() - start\n",
    "        return(X_estimate, duration)\n",
    "    \n",
    "    return(X_estimate)"
   ]
  },
  {
   "cell_type": "code",
   "execution_count": 3,
   "metadata": {},
   "outputs": [],
   "source": [
    "## generate 3 dimension data set of 10 points\n",
    "np.random.seed(1)\n",
    "rng = np.random.RandomState(1999)\n",
    "A = rng.randn(10, 3) + 2\n",
    "# print('A')\n",
    "# print(A)\n",
    "pca = IncrementalPCA()\n",
    "A_estimate = reconstruct_incremental_pca(A, pca, variance_explained=0.9025)\n",
    "# print('A_estimate')\n",
    "# print(A_estimate)"
   ]
  },
  {
   "cell_type": "code",
   "execution_count": 4,
   "metadata": {},
   "outputs": [
    {
     "data": {
      "text/plain": [
       "0.05134517953069396"
      ]
     },
     "execution_count": 4,
     "metadata": {},
     "output_type": "execute_result"
    }
   ],
   "source": [
    "mean_squared_error(A, A_estimate)"
   ]
  },
  {
   "cell_type": "code",
   "execution_count": 5,
   "metadata": {},
   "outputs": [],
   "source": [
    "mse = (np.square(A - A_estimate)).mean(axis=1)"
   ]
  }
 ],
 "metadata": {
  "kernelspec": {
   "display_name": "Python 3 (ipykernel)",
   "language": "python",
   "name": "python3"
  },
  "language_info": {
   "codemirror_mode": {
    "name": "ipython",
    "version": 3
   },
   "file_extension": ".py",
   "mimetype": "text/x-python",
   "name": "python",
   "nbconvert_exporter": "python",
   "pygments_lexer": "ipython3",
   "version": "3.10.2"
  }
 },
 "nbformat": 4,
 "nbformat_minor": 4
}
