{
 "cells": [
  {
   "cell_type": "code",
   "execution_count": 1,
   "metadata": {},
   "outputs": [],
   "source": [
    "import numpy as np\n",
    "from sklearn.decomposition import IncrementalPCA\n",
    "from sklearn.metrics import mean_squared_error"
   ]
  },
  {
   "cell_type": "code",
   "execution_count": 2,
   "metadata": {},
   "outputs": [],
   "source": [
    "def reconstruct_incremental_pca(X, pca, variance_explained=0.9025):\n",
    "    pca.partial_fit(X)\n",
    "    #Y is the projection of X on k dimension\n",
    "    Y = pca.transform(X)\n",
    "    k = 1\n",
    "    # check how many principal components we need based on the explained variance\n",
    "    if variance_explained != 1:\n",
    "        var_explained = 0\n",
    "        for i, val in enumerate(pca.explained_variance_ratio_):\n",
    "            var_explained += val\n",
    "            if var_explained >= variance_explained:\n",
    "                k = i\n",
    "    # to reconstruct X, we use the formula X=YW\n",
    "    X_estimate = np.dot(Y[:,0:k],pca.components_[0:k,:]) + np.mean(X, axis=0)\n",
    "    return(X_estimate)"
   ]
  },
  {
   "cell_type": "code",
   "execution_count": 3,
   "metadata": {},
   "outputs": [
    {
     "name": "stdout",
     "output_type": "stream",
     "text": [
      "A\n",
      "[[1.68251986 2.69206233 0.71562236]\n",
      " [2.39334583 2.21180288 1.58854318]\n",
      " [2.94547341 2.90643341 1.45884194]\n",
      " [3.20463807 1.92962428 2.70887691]\n",
      " [0.96984499 1.03195449 3.3538902 ]\n",
      " [2.80426695 1.64460456 1.19536682]\n",
      " [2.2470435  1.8595206  1.9274096 ]\n",
      " [0.68802366 0.16304126 1.75841876]\n",
      " [1.16916187 0.6220643  1.90347192]\n",
      " [2.09439562 1.49333031 2.62422045]]\n",
      "A_estimate\n",
      "[[2.04434785 2.26673938 0.53477461]\n",
      " [2.43633006 2.16127561 1.56705894]\n",
      " [3.06429519 2.76676034 1.39945281]\n",
      " [3.02607211 2.13952568 2.7981272 ]\n",
      " [1.36203339 0.57094337 3.1578678 ]\n",
      " [2.36306672 2.16322831 1.41588616]\n",
      " [2.25262486 1.85295981 1.92461995]\n",
      " [0.49614614 0.38859019 1.85432239]\n",
      " [1.02704001 0.78912625 1.97450683]\n",
      " [2.12675745 1.45528949 2.60804545]]\n"
     ]
    }
   ],
   "source": [
    "## generate 3 dimension data set of 10 points\n",
    "np.random.seed(1)\n",
    "rng = np.random.RandomState(1999)\n",
    "A = rng.randn(10, 3) + 2\n",
    "print('A')\n",
    "print(A)\n",
    "pca = IncrementalPCA()\n",
    "A_estimate = reconstruct_incremental_pca(A, pca, variance_explained=0.9025)\n",
    "print('A_estimate')\n",
    "print(A_estimate)"
   ]
  },
  {
   "cell_type": "code",
   "execution_count": 4,
   "metadata": {},
   "outputs": [
    {
     "data": {
      "text/plain": [
       "0.05134517953069396"
      ]
     },
     "execution_count": 4,
     "metadata": {},
     "output_type": "execute_result"
    }
   ],
   "source": [
    "mean_squared_error(A, A_estimate)"
   ]
  },
  {
   "cell_type": "code",
   "execution_count": 5,
   "metadata": {},
   "outputs": [
    {
     "data": {
      "text/plain": [
       "array([1.14841670e-01, 1.62074049e-03, 1.23847507e-02, 2.79700051e-02,\n",
       "       1.34922594e-01, 1.70752340e-01, 2.73258735e-05, 3.22956034e-02,\n",
       "       1.77180921e-02, 9.18674222e-04])"
      ]
     },
     "execution_count": 5,
     "metadata": {},
     "output_type": "execute_result"
    }
   ],
   "source": [
    "mse = (np.square(A - A_estimate)).mean(axis=1)\n",
    "mse"
   ]
  }
 ],
 "metadata": {
  "kernelspec": {
   "display_name": "Python 3",
   "language": "python",
   "name": "python3"
  },
  "language_info": {
   "codemirror_mode": {
    "name": "ipython",
    "version": 3
   },
   "file_extension": ".py",
   "mimetype": "text/x-python",
   "name": "python",
   "nbconvert_exporter": "python",
   "pygments_lexer": "ipython3",
   "version": "3.8.5"
  }
 },
 "nbformat": 4,
 "nbformat_minor": 4
}
