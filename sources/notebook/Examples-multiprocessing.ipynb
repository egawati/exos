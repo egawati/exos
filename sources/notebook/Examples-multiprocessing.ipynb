{
 "cells": [
  {
   "cell_type": "code",
   "execution_count": 1,
   "id": "ddd8e084-c6dd-49c8-81d1-28fd35e0791e",
   "metadata": {},
   "outputs": [],
   "source": [
    "# from ipynb.fs.full.mprocess import producer, consumer\n",
    "# from multiprocessing import Process, Queue, Lock\n",
    "# # Some lists with our favorite characters\n",
    "# names = [['Master Shake', 'Meatwad', 'Frylock', 'Carl'],\n",
    "#          ['Early', 'Rusty', 'Sheriff', 'Granny', 'Lil'],\n",
    "#          ['Rick', 'Morty', 'Jerry', 'Summer', 'Beth']]\n",
    "\n",
    "# # Create the Queue object\n",
    "# queue = Queue()\n",
    "\n",
    "# # Create a lock object to synchronize resource access\n",
    "# lock = Lock()\n",
    "\n",
    "# producers = []\n",
    "# consumers = []\n",
    "\n",
    "# for n in names:\n",
    "#     # Create our producer processes by passing the producer function and it's arguments\n",
    "#     producers.append(Process(target=producer, args=(queue, lock, n)))\n",
    "\n",
    "# # Create consumer processes\n",
    "# for i in range(len(names) * 2):\n",
    "#     p = Process(target=consumer, args=(queue, lock))\n",
    "\n",
    "#     # This is critical! The consumer function has an infinite loop\n",
    "#     # Which means it will never exit unless we set daemon to true\n",
    "#     p.daemon = True\n",
    "#     consumers.append(p)\n",
    "\n",
    "# # Start the producers and consumer\n",
    "# # The Python VM will launch new independent processes for each Process object\n",
    "# for p in producers:\n",
    "#     p.start()\n",
    "\n",
    "# for c in consumers:\n",
    "#     c.start()\n",
    "\n",
    "# # Like threading, we have a join() method that synchronizes our program\n",
    "# for p in producers:\n",
    "#     p.join()\n",
    "\n",
    "# print('Parent process exiting...')\n"
   ]
  },
  {
   "cell_type": "code",
   "execution_count": 2,
   "id": "0920ac01-25fd-491c-8a4a-9de12d3bc54a",
   "metadata": {},
   "outputs": [
    {
     "name": "stdout",
     "output_type": "stream",
     "text": [
      "Consumed source id 1 = [[11]\n",
      " [13]]\n",
      "Consumed source id 1 = [[15]\n",
      " [17]]\n",
      "Done\n"
     ]
    }
   ],
   "source": [
    "from ipynb.fs.full.mprocess import stream_producer, stream_consumer\n",
    "from multiprocessing import Process, Queue\n",
    "import numpy as np\n",
    "import pandas as pd\n",
    "from skmultiflow.data import TemporalDataStream\n",
    "\n",
    "data1 = np.array([[1,2],[3,4],[5,6],[7,8], [9,10]])\n",
    "data2 = np.array([[11,12],[13,14],[15,16],[17,18], [19,20]])\n",
    "data3 = np.array([[21,22],[23,24],[25,26],[27,28], [29,30]])\n",
    "ts1 = TemporalDataStream(data1)\n",
    "ts2 = TemporalDataStream(data2)\n",
    "ts3 = TemporalDataStream(data3)\n",
    "\n",
    "sources = (ts1, ts2, ts3)\n",
    "queue = Queue()\n",
    "m = len(sources)\n",
    "\n",
    "producers = [Process(target=stream_producer, args=(queue, sources[i], i, 2)) for i in range(m)]\n",
    "for p in producers:\n",
    "    #p.daemon = True\n",
    "    p.start()\n",
    "        \n",
    "consumer = Process(target=stream_consumer, args=(queue,))\n",
    "#consumer.daemon = True\n",
    "consumer.start()\n",
    "\n",
    "for p in producers:\n",
    "    p.join()\n",
    "\n",
    "#queue.put(None)\n",
    "consumer.join()\n",
    "print(\"Done\")"
   ]
  },
  {
   "cell_type": "code",
   "execution_count": 3,
   "id": "2244a77b-280a-4fac-8b95-4a791817736c",
   "metadata": {},
   "outputs": [
    {
     "data": {
      "text/plain": [
       "(5, 2)"
      ]
     },
     "execution_count": 3,
     "metadata": {},
     "output_type": "execute_result"
    }
   ],
   "source": [
    "data1.shape"
   ]
  },
  {
   "cell_type": "code",
   "execution_count": 4,
   "id": "640fe7dc-f8d8-48ca-8425-d42881a7056a",
   "metadata": {},
   "outputs": [
    {
     "name": "stdout",
     "output_type": "stream",
     "text": [
      "Produced 0\n",
      "Produced 1\n",
      "Produced 4\n",
      "Produced 9\n",
      "Produced 16\n",
      "Produced 25\n",
      "Produced 36\n",
      "Produced 49\n",
      "Produced 64\n",
      "Produced 81\n",
      "Consumed 0\n",
      "Consumed 1\n",
      "Consumed 4\n",
      "Consumed 9\n",
      "Consumed 16\n",
      "Consumed 25\n",
      "Consumed 36\n",
      "Consumed 49\n",
      "Consumed 64\n",
      "Consumed 81\n",
      "All done\n"
     ]
    }
   ],
   "source": [
    "from ipynb.fs.full.mprocess import square_producer, consumer\n",
    "from multiprocessing import Process, Queue\n",
    "num_producers = 3\n",
    "\n",
    "# Generate input\n",
    "# Generate input\n",
    "inputqueue = Queue()\n",
    "for i in range(10):\n",
    "    inputqueue.put(i)\n",
    "for _ in range(num_producers):\n",
    "    inputqueue.put(None)  # Ensures that producers terminate\n",
    "\n",
    "resultqueue = Queue()  # For transfer of data from producer to consumer\n",
    "\n",
    "# Set up and start producer processes\n",
    "producers = [Process(target=square_producer, args=(inputqueue, resultqueue)) for _ in range(num_producers)]\n",
    "for p in producers:\n",
    "    p.start()\n",
    "\n",
    "# Set up and start consumer process\n",
    "consumer = Process(target=consumer, args=(resultqueue,))\n",
    "consumer.start()\n",
    "\n",
    "# Wait for producers to finish\n",
    "for p in producers:\n",
    "    p.join()\n",
    "\n",
    "# Wait for consumer to finish\n",
    "resultqueue.put(None)\n",
    "consumer.join()\n",
    "\n",
    "print(\"All done\")"
   ]
  },
  {
   "cell_type": "code",
   "execution_count": 5,
   "id": "0dd3821b-a0e0-4009-9fc0-8f70c8c2613d",
   "metadata": {},
   "outputs": [
    {
     "ename": "NameError",
     "evalue": "name 'DataStream' is not defined",
     "output_type": "error",
     "traceback": [
      "\u001b[0;31m---------------------------------------------------------------------------\u001b[0m",
      "\u001b[0;31mNameError\u001b[0m                                 Traceback (most recent call last)",
      "Input \u001b[0;32mIn [5]\u001b[0m, in \u001b[0;36m<module>\u001b[0;34m\u001b[0m\n\u001b[1;32m      1\u001b[0m data \u001b[38;5;241m=\u001b[39m pd\u001b[38;5;241m.\u001b[39mDataFrame(np\u001b[38;5;241m.\u001b[39marray([[\u001b[38;5;241m1\u001b[39m, \u001b[38;5;241m2\u001b[39m, \u001b[38;5;241m3\u001b[39m, \u001b[38;5;241m4\u001b[39m, \u001b[38;5;241m5\u001b[39m],\n\u001b[1;32m      2\u001b[0m                                   [\u001b[38;5;241m6\u001b[39m, \u001b[38;5;241m7\u001b[39m, \u001b[38;5;241m8\u001b[39m, \u001b[38;5;241m9\u001b[39m, \u001b[38;5;241m10\u001b[39m],\n\u001b[1;32m      3\u001b[0m                                   [\u001b[38;5;241m11\u001b[39m, \u001b[38;5;241m12\u001b[39m, \u001b[38;5;241m13\u001b[39m, \u001b[38;5;241m14\u001b[39m, \u001b[38;5;241m15\u001b[39m]]))\n\u001b[0;32m----> 4\u001b[0m ds \u001b[38;5;241m=\u001b[39m \u001b[43mDataStream\u001b[49m(data\u001b[38;5;241m=\u001b[39mdata, allow_nan\u001b[38;5;241m=\u001b[39m\u001b[38;5;28;01mFalse\u001b[39;00m)\n\u001b[1;32m      5\u001b[0m \u001b[38;5;28;01mwhile\u001b[39;00m ds\u001b[38;5;241m.\u001b[39mhas_more_samples():\n\u001b[1;32m      6\u001b[0m     X, y \u001b[38;5;241m=\u001b[39m ds\u001b[38;5;241m.\u001b[39mnext_sample(\u001b[38;5;241m2\u001b[39m)\n",
      "\u001b[0;31mNameError\u001b[0m: name 'DataStream' is not defined"
     ]
    }
   ],
   "source": [
    "data = pd.DataFrame(np.array([[1, 2, 3, 4, 5],\n",
    "                                  [6, 7, 8, 9, 10],\n",
    "                                  [11, 12, 13, 14, 15]]))\n",
    "ds = DataStream(data=data, allow_nan=False)\n",
    "while ds.has_more_samples():\n",
    "    X, y = ds.next_sample(2)\n",
    "    print(X)"
   ]
  },
  {
   "cell_type": "code",
   "execution_count": null,
   "id": "3d98fdc6-3472-4430-a810-01c7a6720118",
   "metadata": {},
   "outputs": [],
   "source": []
  }
 ],
 "metadata": {
  "kernelspec": {
   "display_name": "Python 3 (ipykernel)",
   "language": "python",
   "name": "python3"
  },
  "language_info": {
   "codemirror_mode": {
    "name": "ipython",
    "version": 3
   },
   "file_extension": ".py",
   "mimetype": "text/x-python",
   "name": "python",
   "nbconvert_exporter": "python",
   "pygments_lexer": "ipython3",
   "version": "3.10.2"
  }
 },
 "nbformat": 4,
 "nbformat_minor": 5
}
