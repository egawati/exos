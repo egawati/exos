{
 "cells": [
  {
   "cell_type": "code",
   "execution_count": 1,
   "metadata": {},
   "outputs": [],
   "source": [
    "import numpy as np\n",
    "import time\n",
    "import math\n",
    "from numpy.linalg import qr\n",
    "from sklearn.decomposition import PCA\n",
    "from sklearn.metrics import mean_squared_error\n",
    "from scipy.linalg.interpolative import estimate_spectral_norm\n",
    "from ipynb.fs.full.Traditional_PCA import do_pca\n",
    "from sklearn.metrics import mean_squared_error"
   ]
  },
  {
   "cell_type": "code",
   "execution_count": 2,
   "metadata": {},
   "outputs": [],
   "source": [
    "def memory_restricted_pca(B, X):\n",
    "    \"\"\"\n",
    "    B = block size\n",
    "    X = data matrix d x n, where n is the number of data points and d is the number of attributes\n",
    "    output q = estimated eigen vectors of cov(X)\n",
    "    \"\"\"\n",
    "    # get the number of attributes\n",
    "    d = X.shape[0] \n",
    "    \n",
    "    # create an identity matrix dxd\n",
    "    I = np.identity(d) \n",
    "    \n",
    "    # initialize orthogonal matrix q from random multivariate normal distribution\n",
    "    q = np.random.normal(0, I) \n",
    "    \n",
    "    # get spectral norm of q\n",
    "    spectral_norm_q = estimate_spectral_norm(q)\n",
    "    \n",
    "    # update q\n",
    "    q = q/spectral_norm_q\n",
    "    \n",
    "    # get the number of data point\n",
    "    n = X.shape[1]\n",
    "    \n",
    "    index = 0 \n",
    "    for i in range(int(n/B)):\n",
    "        # initialize matrix s of size dxd\n",
    "        s = np.zeros((d, d))\n",
    "        for j in range(B):\n",
    "            x = X[:,index].reshape((-1,1))\n",
    "            ##s = s + ((1/B) * np.inner(q, x.T).dot(x.T))\n",
    "            s = s + ((1/B) * x.dot(x.T).dot(q))\n",
    "            index += 1\n",
    "        q = s/estimate_spectral_norm(s)\n",
    "    return q"
   ]
  },
  {
   "cell_type": "code",
   "execution_count": 3,
   "metadata": {},
   "outputs": [],
   "source": [
    "np.random.seed(1)\n",
    "rng = np.random.RandomState(1999)\n",
    "d = 3\n",
    "n = 15\n",
    "X = rng.randn(d,n) + 2"
   ]
  },
  {
   "cell_type": "code",
   "execution_count": 4,
   "metadata": {},
   "outputs": [],
   "source": [
    "B = 5 \n",
    "q = memory_restricted_pca(B, X)"
   ]
  },
  {
   "cell_type": "code",
   "execution_count": 5,
   "metadata": {},
   "outputs": [
    {
     "name": "stdout",
     "output_type": "stream",
     "text": [
      "(3, 15)\n",
      "(3, 15)\n"
     ]
    },
    {
     "data": {
      "text/plain": [
       "3.3310078960083445"
      ]
     },
     "execution_count": 5,
     "metadata": {},
     "output_type": "execute_result"
    }
   ],
   "source": [
    "## compute PCA\n",
    "Y = q.T.dot(X)\n",
    "print(Y.shape)\n",
    "## get reconstruction\n",
    "X_est = q.dot(Y)\n",
    "print(X_est.shape)\n",
    "## get reconstruction error\n",
    "mean_squared_error(X, X_est)\n",
    "estimate_spectral_norm((X - X_est))"
   ]
  },
  {
   "cell_type": "code",
   "execution_count": 6,
   "metadata": {},
   "outputs": [
    {
     "name": "stdout",
     "output_type": "stream",
     "text": [
      "(3, 15)\n",
      "(3, 15)\n"
     ]
    },
    {
     "data": {
      "text/plain": [
       "1.282623750788516e-14"
      ]
     },
     "execution_count": 6,
     "metadata": {},
     "output_type": "execute_result"
    }
   ],
   "source": [
    "## let's compare the memory restricted PCA with traditional PCA\n",
    "M = np.mean(X.T, axis=0) # first pass on X\n",
    "C = X.T - M             # second pass on X\n",
    "Y, eig_vectors, k = do_pca(C) ## Y.T should be the same as reduced_X above\n",
    "eig_vectors.shape\n",
    "## compute PCA\n",
    "Y = eig_vectors.T.dot(X)\n",
    "print(Y.shape)\n",
    "## get reconstruction\n",
    "X_est = eig_vectors.dot(Y)\n",
    "print(X_est.shape)\n",
    "## get reconstruction error\n",
    "##mean_squared_error(X, X_est)\n",
    "estimate_spectral_norm((X - X_est))"
   ]
  },
  {
   "cell_type": "markdown",
   "metadata": {},
   "source": [
    "## Modified Memory Restricted PCA with Forgetting Factor"
   ]
  },
  {
   "cell_type": "code",
   "execution_count": 7,
   "metadata": {},
   "outputs": [],
   "source": [
    "def update_q(X, d, q, B):\n",
    "    print(\"q input is {}\".format(q))\n",
    "    s = np.zeros((d, d))\n",
    "    for j in range(B):\n",
    "        x = X[:,j].reshape((-1, 1))\n",
    "        s = s + ((1/B) * x.dot(x.T).dot(q))\n",
    "    q = s/estimate_spectral_norm(s)\n",
    "    print(\"q output is {}\".format(q))\n",
    "    return q"
   ]
  },
  {
   "cell_type": "code",
   "execution_count": 8,
   "metadata": {},
   "outputs": [],
   "source": [
    "def memory_restricted_pca_all(B, X, f):\n",
    "    \"\"\"\n",
    "    Parameters\n",
    "    ----------\n",
    "    B : int \n",
    "        block size\n",
    "    X : numpy array matrix\n",
    "        data matrix d x n, where n is the number of data points and d is the number of attributes\n",
    "    output q = estimated eigen vectors of cov(X)\n",
    "    f : float \n",
    "        forgetting factor, f's value can be (0,1]\n",
    "    \"\"\"\n",
    "    # get the number of attributes\n",
    "    d = X.shape[0] \n",
    "    \n",
    "    # create an identity matrix dxd\n",
    "    I = np.identity(d) \n",
    "    \n",
    "    # initialize orthogonal matrix q from random multivariate normal distribution\n",
    "    q = np.random.normal(0, I) \n",
    "    print(\"init q {}\".format(q))\n",
    "    # get spectral norm of q\n",
    "    spectral_norm_q = estimate_spectral_norm(q)\n",
    "    \n",
    "    # update q\n",
    "    q = q/spectral_norm_q\n",
    "    \n",
    "    # get the number of data point\n",
    "    n = X.shape[1]\n",
    "    print(\"q {}\".format(q))\n",
    "    for i in range(n//B):\n",
    "        X_window = X[:,i*B:(i + 1)*B]\n",
    "        if i==0:\n",
    "            q = update_q(X_window, d, q, B)\n",
    "        else:\n",
    "            ## applying forgetting factor before updating q\n",
    "            q = q * math.pow(f,2)\n",
    "            print(\"now calling update_q at i={}\".format(i))\n",
    "            q = update_q(X_window, d, q, B)\n",
    "    return q"
   ]
  },
  {
   "cell_type": "code",
   "execution_count": 9,
   "metadata": {},
   "outputs": [
    {
     "name": "stdout",
     "output_type": "stream",
     "text": [
      "init q [[1.62434536 0.         0.        ]\n",
      " [0.         0.86540763 0.        ]\n",
      " [0.         0.         0.3190391 ]]\n",
      "q [[1.         0.         0.        ]\n",
      " [0.         0.53277317 0.        ]\n",
      " [0.         0.         0.19641088]]\n",
      "q input is [[1.         0.         0.        ]\n",
      " [0.         0.53277317 0.        ]\n",
      " [0.         0.         0.19641088]]\n",
      "q output is [[0.52741313 0.25822548 0.09815724]\n",
      " [0.48468184 0.27164119 0.09608449]\n",
      " [0.49975463 0.26063343 0.10213721]]\n",
      "now calling update_q at i=1\n",
      "q input is [[0.52741313 0.25822548 0.09815724]\n",
      " [0.48468184 0.27164119 0.09608449]\n",
      " [0.49975463 0.26063343 0.10213721]]\n",
      "q output is [[0.61140028 0.31348647 0.11909431]\n",
      " [0.27883754 0.1448032  0.05459931]\n",
      " [0.56228273 0.28944645 0.10997421]]\n",
      "now calling update_q at i=2\n",
      "q input is [[0.61140028 0.31348647 0.11909431]\n",
      " [0.27883754 0.1448032  0.05459931]\n",
      " [0.56228273 0.28944645 0.10997421]]\n",
      "q output is [[0.566332   0.29140367 0.11055903]\n",
      " [0.47093686 0.24240225 0.09195249]\n",
      " [0.47430113 0.24411248 0.09263136]]\n"
     ]
    },
    {
     "data": {
      "text/plain": [
       "array([[0.566332  , 0.29140367, 0.11055903],\n",
       "       [0.47093686, 0.24240225, 0.09195249],\n",
       "       [0.47430113, 0.24411248, 0.09263136]])"
      ]
     },
     "execution_count": 9,
     "metadata": {},
     "output_type": "execute_result"
    }
   ],
   "source": [
    "## Test when no forgetting factor (f=1)\n",
    "np.random.seed(1)\n",
    "rng = np.random.RandomState(1999)\n",
    "d = 3\n",
    "n = 15\n",
    "X2 = rng.randn(d,n) + 2\n",
    "B = 5 \n",
    "q = memory_restricted_pca_all(B, X2, f=1)\n",
    "q"
   ]
  },
  {
   "cell_type": "code",
   "execution_count": 10,
   "metadata": {},
   "outputs": [
    {
     "name": "stdout",
     "output_type": "stream",
     "text": [
      "init q [[1.62434536 0.         0.        ]\n",
      " [0.         0.86540763 0.        ]\n",
      " [0.         0.         0.3190391 ]]\n",
      "q [[1.         0.         0.        ]\n",
      " [0.         0.53277317 0.        ]\n",
      " [0.         0.         0.19641088]]\n",
      "q input is [[1.         0.         0.        ]\n",
      " [0.         0.53277317 0.        ]\n",
      " [0.         0.         0.19641088]]\n",
      "q output is [[0.52741313 0.25822548 0.09815724]\n",
      " [0.48468184 0.27164119 0.09608449]\n",
      " [0.49975463 0.26063343 0.10213721]]\n",
      "now calling update_q at i=1\n",
      "q input is [[2.10965254 1.03290193 0.39262898]\n",
      " [1.93872737 1.08656476 0.38433797]\n",
      " [1.9990185  1.04253371 0.40854884]]\n",
      "q output is [[0.61140028 0.31348647 0.11909431]\n",
      " [0.27883754 0.1448032  0.05459931]\n",
      " [0.56228273 0.28944645 0.10997421]]\n",
      "now calling update_q at i=2\n",
      "q input is [[2.44560111 1.25394586 0.47637724]\n",
      " [1.11535015 0.57921282 0.21839725]\n",
      " [2.24913092 1.15778581 0.43989684]]\n",
      "q output is [[0.566332   0.29140367 0.11055903]\n",
      " [0.47093686 0.24240225 0.09195249]\n",
      " [0.47430113 0.24411248 0.09263136]]\n"
     ]
    },
    {
     "data": {
      "text/plain": [
       "array([[0.566332  , 0.29140367, 0.11055903],\n",
       "       [0.47093686, 0.24240225, 0.09195249],\n",
       "       [0.47430113, 0.24411248, 0.09263136]])"
      ]
     },
     "execution_count": 10,
     "metadata": {},
     "output_type": "execute_result"
    }
   ],
   "source": [
    "## Test with forgetting factor (f=0.1)\n",
    "np.random.seed(1)\n",
    "rng = np.random.RandomState(1999)\n",
    "d = 3\n",
    "n = 15\n",
    "X2 = rng.randn(d,n) + 2\n",
    "B = 5 \n",
    "q = memory_restricted_pca_all(B, X2, f=2)\n",
    "q"
   ]
  },
  {
   "cell_type": "code",
   "execution_count": null,
   "metadata": {},
   "outputs": [],
   "source": []
  },
  {
   "cell_type": "code",
   "execution_count": null,
   "metadata": {},
   "outputs": [],
   "source": []
  }
 ],
 "metadata": {
  "kernelspec": {
   "display_name": "Python 3",
   "language": "python",
   "name": "python3"
  },
  "language_info": {
   "codemirror_mode": {
    "name": "ipython",
    "version": 3
   },
   "file_extension": ".py",
   "mimetype": "text/x-python",
   "name": "python",
   "nbconvert_exporter": "python",
   "pygments_lexer": "ipython3",
   "version": "3.8.5"
  }
 },
 "nbformat": 4,
 "nbformat_minor": 4
}
