{
 "cells": [
  {
   "cell_type": "code",
   "execution_count": 1,
   "metadata": {},
   "outputs": [],
   "source": [
    "import numpy as np\n",
    "import time\n",
    "import math\n",
    "from numpy.linalg import qr\n",
    "from numpy.linalg import eig\n",
    "from sklearn.decomposition import PCA\n",
    "from sklearn.metrics import mean_squared_error\n",
    "from scipy.linalg.interpolative import estimate_spectral_norm"
   ]
  },
  {
   "cell_type": "code",
   "execution_count": 2,
   "metadata": {},
   "outputs": [],
   "source": [
    "np.random.seed(1)\n",
    "rng = np.random.RandomState(1999)\n",
    "d = 3\n",
    "n = 1000\n",
    "X = rng.randn(d, n) + 2\n",
    "X = X.reshape(n,d)"
   ]
  },
  {
   "cell_type": "markdown",
   "metadata": {},
   "source": [
    "## PCA using sklearn"
   ]
  },
  {
   "cell_type": "code",
   "execution_count": 3,
   "metadata": {},
   "outputs": [],
   "source": [
    "def traditional_pca(X):\n",
    "    pca = PCA()\n",
    "    pca.fit(X)\n",
    "    return pca"
   ]
  },
  {
   "cell_type": "code",
   "execution_count": 4,
   "metadata": {},
   "outputs": [],
   "source": [
    "## used to compare DBPCA with traditional PCA\n",
    "def sklearn_pca_per_window(B, X, k, d, profiling=False):\n",
    "    \"\"\"\n",
    "    B : int\n",
    "        block size or window size\n",
    "    X : numpy array n x d\n",
    "        n is the number of data points and d is the number of attributes\n",
    "    output q = estimated eigen vectors of cov(X)\n",
    "    k : int\n",
    "        number of principal components\n",
    "    f : float\n",
    "        forgetting factor (0,1], 1 basically means no forgetting factor\n",
    "    \"\"\"\n",
    "    start_time = time.time()\n",
    "    pcas = list()\n",
    "    Ys = list()\n",
    "    n = X.shape[0]\n",
    "    for i in range(int(n/B)):\n",
    "        start = i*B\n",
    "        end = (i*B)+B\n",
    "        W = X[start:end,:]\n",
    "        pca = PCA()\n",
    "        pca.fit(W)\n",
    "        Y = pca.transform(W)\n",
    "        pcas.append(pca)\n",
    "        Ys.append(Y)\n",
    "        \n",
    "    if profiling:\n",
    "        execution_time = time.time() - start_time ## return time in nanosecond\n",
    "        return pcas, Ys, execution_time\n",
    "        \n",
    "    return pcas, Y"
   ]
  },
  {
   "cell_type": "code",
   "execution_count": 5,
   "metadata": {},
   "outputs": [
    {
     "data": {
      "text/plain": [
       "(1000, 3)"
      ]
     },
     "execution_count": 5,
     "metadata": {},
     "output_type": "execute_result"
    }
   ],
   "source": [
    "X = X.reshape(n, d)\n",
    "pca = traditional_pca(X)\n",
    "X.shape"
   ]
  },
  {
   "cell_type": "code",
   "execution_count": 6,
   "metadata": {},
   "outputs": [
    {
     "data": {
      "text/plain": [
       "3"
      ]
     },
     "execution_count": 6,
     "metadata": {},
     "output_type": "execute_result"
    }
   ],
   "source": [
    "pca.n_features_in_"
   ]
  },
  {
   "cell_type": "code",
   "execution_count": 7,
   "metadata": {},
   "outputs": [
    {
     "data": {
      "text/plain": [
       "3"
      ]
     },
     "execution_count": 7,
     "metadata": {},
     "output_type": "execute_result"
    }
   ],
   "source": [
    "pca.n_components_"
   ]
  },
  {
   "cell_type": "code",
   "execution_count": 8,
   "metadata": {},
   "outputs": [
    {
     "data": {
      "text/plain": [
       "(3, 3)"
      ]
     },
     "execution_count": 8,
     "metadata": {},
     "output_type": "execute_result"
    }
   ],
   "source": [
    "Y = pca.components_\n",
    "Y.shape"
   ]
  },
  {
   "cell_type": "code",
   "execution_count": 9,
   "metadata": {},
   "outputs": [
    {
     "data": {
      "text/plain": [
       "array([[-1.09737919,  1.02337033, -0.11475864],\n",
       "       [-0.55413522, -0.03185881,  0.18405721],\n",
       "       [-1.34500491, -0.42872754,  0.03845774],\n",
       "       ...,\n",
       "       [-0.55085044,  1.57277561, -0.1119256 ],\n",
       "       [ 1.95726631, -0.96695499, -1.18815944],\n",
       "       [-0.01062   ,  0.48998912, -0.90431295]])"
      ]
     },
     "execution_count": 9,
     "metadata": {},
     "output_type": "execute_result"
    }
   ],
   "source": [
    "## Project x on the principal components\n",
    "reduced_X = pca.transform(X)\n",
    "reduced_X"
   ]
  },
  {
   "cell_type": "code",
   "execution_count": 10,
   "metadata": {},
   "outputs": [
    {
     "data": {
      "text/plain": [
       "array([[1.68251986, 2.69206233, 0.71562236],\n",
       "       [2.39334583, 2.21180288, 1.58854318],\n",
       "       [2.94547341, 2.90643341, 1.45884194],\n",
       "       ...,\n",
       "       [1.04565381, 2.25293917, 0.66957513],\n",
       "       [1.3170083 , 1.53965394, 4.31878756],\n",
       "       [1.21058426, 2.55385917, 2.07470798]])"
      ]
     },
     "execution_count": 10,
     "metadata": {},
     "output_type": "execute_result"
    }
   ],
   "source": [
    "back_X = pca.inverse_transform(reduced_X)\n",
    "back_X"
   ]
  },
  {
   "cell_type": "code",
   "execution_count": 11,
   "metadata": {},
   "outputs": [
    {
     "data": {
      "text/plain": [
       "array([[ 0.98768423,  0.02860169, -0.01309278],\n",
       "       [ 0.02860169,  1.00540082, -0.03614379],\n",
       "       [-0.01309278, -0.03614379,  1.0004561 ]])"
      ]
     },
     "execution_count": 11,
     "metadata": {},
     "output_type": "execute_result"
    }
   ],
   "source": [
    "np.cov(X.T)"
   ]
  },
  {
   "cell_type": "markdown",
   "metadata": {},
   "source": [
    "## Manual PCA"
   ]
  },
  {
   "cell_type": "code",
   "execution_count": 12,
   "metadata": {},
   "outputs": [],
   "source": [
    "def compute_principal_components(cov, C, variance_explained=1, profiling=False):\n",
    "    eig_values, eig_vectors = eig(cov)\n",
    "    k = len(eig_values)\n",
    "    if variance_explained != 1:\n",
    "        trace = sum(eig_values)\n",
    "        var_explained = 0\n",
    "        for i, val in enumerate(eig_values):\n",
    "            var_explained += val/trace\n",
    "#             print(f'{i} - {var_explained}')\n",
    "            if var_explained >= variance_explained:\n",
    "                k = i\n",
    "    return eig_vectors, k"
   ]
  },
  {
   "cell_type": "code",
   "execution_count": 13,
   "metadata": {},
   "outputs": [],
   "source": [
    "def project_data(C, eig_vectors, k, profiling=False):\n",
    "    \"\"\"\n",
    "    C is a matrix n x d, where n is number of data points, d is number of attributes\n",
    "    eig_vectors of d x k\n",
    "    \"\"\"\n",
    "    # now project X \n",
    "    Y = eig_vectors[:,0:k].T.dot(C.T)\n",
    "    return Y"
   ]
  },
  {
   "cell_type": "code",
   "execution_count": 14,
   "metadata": {},
   "outputs": [],
   "source": [
    "def do_pca(C, variance_explained=1, profiling=False):\n",
    "    \"\"\"\n",
    "    C is a matrix n x d, where n is number of data points, d is number of attributes\n",
    "    \"\"\"\n",
    "    cov = np.cov(C.T)\n",
    "    eig_vectors, k = compute_principal_components(cov, C, variance_explained, profiling)\n",
    "    Y = project_data(C, eig_vectors, k, profiling)\n",
    "    return Y, eig_vectors, k"
   ]
  },
  {
   "cell_type": "code",
   "execution_count": 15,
   "metadata": {},
   "outputs": [],
   "source": [
    "def reconstruct_X(Y, eig_vectors, k):\n",
    "    return eig_vectors[:,0:k].dot(Y)"
   ]
  },
  {
   "cell_type": "code",
   "execution_count": 16,
   "metadata": {},
   "outputs": [],
   "source": [
    "def project_a_data_point(x, eig_vectors, k):\n",
    "    \"\"\"\n",
    "    x is a vector of length d, d is number of attributes\n",
    "    eig_vectors of d x k\n",
    "    \"\"\"\n",
    "    # now project X \n",
    "    y = eig_vectors[:,0:k].T.dot(x)\n",
    "    return y"
   ]
  },
  {
   "cell_type": "code",
   "execution_count": 17,
   "metadata": {},
   "outputs": [],
   "source": [
    "def reconstruct_x(y, eig_vectors, k):\n",
    "    \"\"\"\n",
    "    y is a vector of length k, k is the number of principal components\n",
    "    eig_vectors of d x k\n",
    "    \"\"\"\n",
    "    return eig_vectors[:,0:k].dot(y)"
   ]
  },
  {
   "cell_type": "code",
   "execution_count": 18,
   "metadata": {},
   "outputs": [],
   "source": [
    "## used to compare DBPCA with traditional PCA\n",
    "def naive_pca_per_window(B, X, k, d, profiling=False):\n",
    "    \"\"\"\n",
    "    B : int\n",
    "        block size or window size\n",
    "    X : numpy array n x d\n",
    "        n is the number of data points and d is the number of attributes\n",
    "    output q = estimated eigen vectors of cov(X)\n",
    "    k : int\n",
    "        number of principal components\n",
    "    f : float\n",
    "        forgetting factor (0,1], 1 basically means no forgetting factor\n",
    "    \"\"\"\n",
    "    start_time = time.time()\n",
    "    eig_vectors = list()\n",
    "    Ys = list()\n",
    "    Ms = list()\n",
    "    n = X.shape[0]\n",
    "    for i in range(int(n/B)):\n",
    "        start = i*B\n",
    "        end = (i*B)+B\n",
    "        W = X[start:end,:]\n",
    "        M = np.mean(W, axis=0) # first pass on X\n",
    "        C = W - M              # second pass on X\n",
    "        Y, eig_vector, k = do_pca(C) ## Y.T should be the same as reduced_X above\n",
    "        Ys.append(Y)\n",
    "        eig_vectors.append(eig_vector)\n",
    "        Ms.append(M)\n",
    "        \n",
    "    if profiling:\n",
    "        execution_time = time.time() - start_time ## return time in nanosecond\n",
    "        return eig_vectors, Ys, Ms, execution_time\n",
    "        \n",
    "    return eig_vectors, Ys, Ms"
   ]
  },
  {
   "cell_type": "code",
   "execution_count": 19,
   "metadata": {},
   "outputs": [],
   "source": [
    "## used to compare DBPCA with traditional PCA\n",
    "def naive_pca_per_window_with_f(B, X, k, d, f, profiling=False):\n",
    "    \"\"\"\n",
    "    B : int\n",
    "        block size or window size\n",
    "    X : numpy array n x d\n",
    "        n is the number of data points and d is the number of attributes\n",
    "    output q = estimated eigen vectors of cov(X)\n",
    "    k : int\n",
    "        number of principal components\n",
    "    f : float\n",
    "        forgetting factor (0,1], 1 basically means no forgetting factor\n",
    "    \"\"\"\n",
    "    start_time = time.time()\n",
    "    eig_vectors = list()\n",
    "    Ys = list()\n",
    "    Ms = list()\n",
    "    n = X.shape[0]\n",
    "    t0 = B\n",
    "    for i in range(int(n/B)):\n",
    "        start = i*B\n",
    "        end = (i*B)+B\n",
    "        delta_t = t0-i ## delta_t represent the age of the point\n",
    "        W = X[start:end,:] * (math.pow(2, -f*delta_t))\n",
    "        M = np.mean(W, axis=0) # first pass on X\n",
    "        C = W - M              # second pass on X\n",
    "        Y, eig_vector, k = do_pca(C) ## Y.T should be the same as reduced_X above\n",
    "        Ys.append(Y)\n",
    "        eig_vectors.append(eig_vector)\n",
    "        Ms.append(M)\n",
    "        \n",
    "    if profiling:\n",
    "        execution_time = time.time() - start_time ## return time in nanosecond\n",
    "        return eig_vectors, Ys, Ms, execution_time\n",
    "        \n",
    "    return eig_vectors, Ys, Ms"
   ]
  },
  {
   "cell_type": "code",
   "execution_count": 20,
   "metadata": {},
   "outputs": [
    {
     "data": {
      "text/plain": [
       "array([[-0.42101852, -0.74305996, -0.52019737],\n",
       "       [-0.69509016, -0.10415108,  0.71133833],\n",
       "       [ 0.58274614, -0.66107069,  0.47264413]])"
      ]
     },
     "execution_count": 20,
     "metadata": {},
     "output_type": "execute_result"
    }
   ],
   "source": [
    "M = np.mean(X, axis=0) # first pass on X\n",
    "C = X - M              # second pass on X\n",
    "Y, eig_vectors, k = do_pca(C) ## Y.T should be the same as reduced_X above\n",
    "eig_vectors"
   ]
  },
  {
   "cell_type": "code",
   "execution_count": 21,
   "metadata": {},
   "outputs": [
    {
     "data": {
      "text/plain": [
       "array([[1.68251986, 2.69206233, 0.71562236],\n",
       "       [2.39334583, 2.21180288, 1.58854318],\n",
       "       [2.94547341, 2.90643341, 1.45884194],\n",
       "       ...,\n",
       "       [1.04565381, 2.25293917, 0.66957513],\n",
       "       [1.3170083 , 1.53965394, 4.31878756],\n",
       "       [1.21058426, 2.55385917, 2.07470798]])"
      ]
     },
     "execution_count": 21,
     "metadata": {},
     "output_type": "execute_result"
    }
   ],
   "source": [
    "back_X = reconstruct_X(Y, eig_vectors, k).T + M\n",
    "back_X"
   ]
  },
  {
   "cell_type": "markdown",
   "metadata": {},
   "source": [
    "## How we can reconstruct one data point only, for example data point at index 9?"
   ]
  },
  {
   "cell_type": "code",
   "execution_count": 22,
   "metadata": {},
   "outputs": [],
   "source": [
    "x_9 = X[9,:].reshape((-1,1))\n",
    "y_9 = project_a_data_point(x_9, eig_vectors, k)"
   ]
  },
  {
   "cell_type": "code",
   "execution_count": 23,
   "metadata": {},
   "outputs": [
    {
     "data": {
      "text/plain": [
       "array([[2.09439562],\n",
       "       [1.49333031],\n",
       "       [2.62422045]])"
      ]
     },
     "execution_count": 23,
     "metadata": {},
     "output_type": "execute_result"
    }
   ],
   "source": [
    "back_x_9 = reconstruct_x(y_9, eig_vectors, k) \n",
    "back_x_9"
   ]
  },
  {
   "cell_type": "code",
   "execution_count": 24,
   "metadata": {},
   "outputs": [
    {
     "data": {
      "text/plain": [
       "array([[2.09439562],\n",
       "       [1.49333031],\n",
       "       [2.62422045]])"
      ]
     },
     "execution_count": 24,
     "metadata": {},
     "output_type": "execute_result"
    }
   ],
   "source": [
    "x_9"
   ]
  },
  {
   "cell_type": "code",
   "execution_count": 25,
   "metadata": {},
   "outputs": [
    {
     "data": {
      "text/plain": [
       "array([[-0.42101852, -0.74305996, -0.52019737],\n",
       "       [-0.69509016, -0.10415108,  0.71133833],\n",
       "       [ 0.58274614, -0.66107069,  0.47264413]])"
      ]
     },
     "execution_count": 25,
     "metadata": {},
     "output_type": "execute_result"
    }
   ],
   "source": [
    "eig_vectors"
   ]
  },
  {
   "cell_type": "code",
   "execution_count": null,
   "metadata": {},
   "outputs": [],
   "source": []
  }
 ],
 "metadata": {
  "kernelspec": {
   "display_name": "Python 3",
   "language": "python",
   "name": "python3"
  },
  "language_info": {
   "codemirror_mode": {
    "name": "ipython",
    "version": 3
   },
   "file_extension": ".py",
   "mimetype": "text/x-python",
   "name": "python",
   "nbconvert_exporter": "python",
   "pygments_lexer": "ipython3",
   "version": "3.8.5"
  }
 },
 "nbformat": 4,
 "nbformat_minor": 4
}
