{
 "cells": [
  {
   "cell_type": "code",
   "execution_count": 1,
   "metadata": {},
   "outputs": [],
   "source": [
    "import numpy as np\n",
    "import time\n",
    "import math\n",
    "from numpy.linalg import qr\n",
    "from sklearn.decomposition import PCA\n",
    "from sklearn.metrics import mean_squared_error\n",
    "from scipy.linalg.interpolative import estimate_spectral_norm\n",
    "from ipynb.fs.full.Traditional_PCA import do_pca\n",
    "from sklearn.metrics import mean_squared_error"
   ]
  },
  {
   "cell_type": "code",
   "execution_count": 2,
   "metadata": {},
   "outputs": [],
   "source": [
    "def dbpca(X, B, k, d):\n",
    "    \"\"\"\n",
    "    B = block size\n",
    "    X = data matrix d x n, where n is the number of data points and d is the number of attributes\n",
    "    output q = estimated eigen vectors of cov(X)\n",
    "    k = number of principal components\n",
    "    \"\"\"\n",
    "    S0 = None\n",
    "    for i in range(k):\n",
    "        normal1 = np.random.normal(0, 1, d).reshape((-1,1))\n",
    "        if S0 is None:\n",
    "            S0 = normal1\n",
    "        else:\n",
    "            S0 = np.hstack((S0,normal1))\n",
    "    Q, R = np.linalg.qr(S0)\n",
    "    index = 0\n",
    "    for i in range(int(n/B)):\n",
    "        # initialize matrix S of size dxk\n",
    "        S = np.zeros((d, k))\n",
    "        for j in range(B):\n",
    "            x = X[:,index].reshape((-1,1))\n",
    "            S = S + (1/B) * x.dot(x.T).dot(Q)\n",
    "            index += 1\n",
    "        Q, R = np.linalg.qr(S)\n",
    "    return Q"
   ]
  },
  {
   "cell_type": "code",
   "execution_count": 3,
   "metadata": {},
   "outputs": [
    {
     "data": {
      "text/plain": [
       "(3, 3)"
      ]
     },
     "execution_count": 3,
     "metadata": {},
     "output_type": "execute_result"
    }
   ],
   "source": [
    "np.random.seed(1)\n",
    "rng = np.random.RandomState(1999)\n",
    "d = 3\n",
    "k = 3\n",
    "n = 15\n",
    "B = 5\n",
    "X = rng.randn(d,n) + 2\n",
    "Q = dbpca(X, B, k, d)\n",
    "Q.shape ## dxk"
   ]
  },
  {
   "cell_type": "code",
   "execution_count": 4,
   "metadata": {},
   "outputs": [
    {
     "name": "stdout",
     "output_type": "stream",
     "text": [
      "(5, 3)\n",
      "(5, 3)\n"
     ]
    },
    {
     "data": {
      "text/plain": [
       "1.9992518204711002e-15"
      ]
     },
     "execution_count": 4,
     "metadata": {},
     "output_type": "execute_result"
    }
   ],
   "source": [
    "## compute PCA\n",
    "Y = X[:,10:15].T.dot(Q)\n",
    "print(Y.shape)\n",
    "## get reconstruction\n",
    "X_est = Y.dot(Q.T)\n",
    "print(X_est.shape)\n",
    "## get reconstruction error\n",
    "estimate_spectral_norm((X[:,10:15].T - X_est))\n",
    "##mean_squared_error(X[:,10:15].T, X_est)"
   ]
  },
  {
   "cell_type": "code",
   "execution_count": 5,
   "metadata": {},
   "outputs": [
    {
     "name": "stdout",
     "output_type": "stream",
     "text": [
      "(15, 3)\n",
      "(15, 3)\n"
     ]
    },
    {
     "data": {
      "text/plain": [
       "3.337475443511184e-15"
      ]
     },
     "execution_count": 5,
     "metadata": {},
     "output_type": "execute_result"
    }
   ],
   "source": [
    "## compute PCA\n",
    "Y = X.T.dot(Q)\n",
    "print(Y.shape)\n",
    "## get reconstruction\n",
    "X_est = Y.dot(Q.T)\n",
    "print(X_est.shape)\n",
    "## get reconstruction error\n",
    "estimate_spectral_norm((X.T - X_est))\n",
    "##mean_squared_error(X[:,10:15].T, X_est)"
   ]
  },
  {
   "cell_type": "code",
   "execution_count": null,
   "metadata": {},
   "outputs": [],
   "source": []
  }
 ],
 "metadata": {
  "kernelspec": {
   "display_name": "Python 3",
   "language": "python",
   "name": "python3"
  },
  "language_info": {
   "codemirror_mode": {
    "name": "ipython",
    "version": 3
   },
   "file_extension": ".py",
   "mimetype": "text/x-python",
   "name": "python",
   "nbconvert_exporter": "python",
   "pygments_lexer": "ipython3",
   "version": "3.8.5"
  }
 },
 "nbformat": 4,
 "nbformat_minor": 4
}
