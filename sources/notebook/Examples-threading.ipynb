{
 "cells": [
  {
   "cell_type": "code",
   "execution_count": 1,
   "id": "9ef64328-ab75-4377-9b5a-253650f02023",
   "metadata": {},
   "outputs": [
    {
     "name": "stdout",
     "output_type": "stream",
     "text": [
      "hello world!hello world!\n",
      "\n",
      "hello world!\n",
      "hello world!hello world!\n",
      "\n",
      "hello world!\n",
      "hello world!\n",
      "hello world!\n",
      "hello world!\n",
      "hello world!\n",
      "foo foo foo foo foo foo foo foo foo foo\n"
     ]
    }
   ],
   "source": [
    "def foo(bar, result, index):\n",
    "    print('hello {0}'.format(bar))\n",
    "    result[index] = \"foo\"\n",
    "\n",
    "from threading import Thread\n",
    "\n",
    "threads = [None] * 10\n",
    "results = [None] * 10\n",
    "\n",
    "for i in range(len(threads)):\n",
    "    threads[i] = Thread(target=foo, args=('world!', results, i))\n",
    "    threads[i].start()\n",
    "\n",
    "# do some other stuff\n",
    "\n",
    "for i in range(len(threads)):\n",
    "    threads[i].join()\n",
    "\n",
    "print(\" \".join(results))  # what sound does a metasyntactic locomotive make?"
   ]
  },
  {
   "cell_type": "code",
   "execution_count": 2,
   "id": "1ea6df97-ac1f-4573-bb54-a97559f97166",
   "metadata": {},
   "outputs": [
    {
     "name": "stdout",
     "output_type": "stream",
     "text": [
      "hello world!\n",
      "foo\n"
     ]
    }
   ],
   "source": [
    "from threading import Thread\n",
    "\n",
    "def foo(bar):\n",
    "    print('hello {0}'.format(bar))\n",
    "    return \"foo\"\n",
    "\n",
    "class ThreadWithReturnValue(Thread):\n",
    "    def __init__(self, group=None, target=None, name=None,\n",
    "                 args=(), kwargs={}, Verbose=None):\n",
    "        Thread.__init__(self, group, target, name, args, kwargs)\n",
    "        self._return = None\n",
    "    def run(self):\n",
    "        if self._target is not None:\n",
    "            self._return = self._target(*self._args,\n",
    "                                                **self._kwargs)\n",
    "    def join(self, *args):\n",
    "        Thread.join(self, *args)\n",
    "        return self._return\n",
    "    \n",
    "twrv = ThreadWithReturnValue(target=foo, args=('world!',))\n",
    "\n",
    "twrv.start()\n",
    "print (twrv.join())   # prints foo"
   ]
  },
  {
   "cell_type": "code",
   "execution_count": 6,
   "id": "12981cf3-6ae8-4656-b17c-70002a08c1ef",
   "metadata": {},
   "outputs": [
    {
     "name": "stdout",
     "output_type": "stream",
     "text": [
      "(0, (1, 2, 3))\n",
      "(1, (4, 5))\n",
      "(2, (6, 7, 8, 9))\n",
      "(3, (10, 11))\n",
      "(4, (12, 13))\n",
      "(5, 14)\n",
      "(6, (15, 16))\n"
     ]
    }
   ],
   "source": [
    "sources = ((1,2,3), (4,5), (6,7,8,9), (10, 11), (12, 13), (14), (15, 16))\n",
    "threads = [None] * len(sources)\n",
    "\n",
    "def check_sources(srcs, index):\n",
    "    return (index, srcs[index])\n",
    "\n",
    "for i in range(len(threads)):\n",
    "    threads[i] = ThreadWithReturnValue(target=check_sources, args=(sources,i))\n",
    "    threads[i].start()\n",
    "\n",
    "for i in range(len(threads)):\n",
    "    result = threads[i].join()\n",
    "    print(result)"
   ]
  },
  {
   "cell_type": "code",
   "execution_count": 4,
   "id": "231bb661-b39b-4cf7-b6b6-d7f15d2c2b67",
   "metadata": {},
   "outputs": [
    {
     "name": "stdout",
     "output_type": "stream",
     "text": [
      "hello world\n"
     ]
    }
   ],
   "source": [
    "def foo(bar, baz):\n",
    "  print('hello {0}'.format(bar))\n",
    "  return 'foo' + baz\n",
    "\n",
    "from multiprocessing.pool import ThreadPool\n",
    "pool = ThreadPool(processes=2)\n",
    "\n",
    "async_result = pool.apply_async(foo, ('world', 'foo')) # tuple of args for foo\n",
    "\n",
    "# do some other stuff in the main process\n",
    "\n",
    "return_val = async_result.get()  # get the return value from your function."
   ]
  },
  {
   "cell_type": "code",
   "execution_count": 5,
   "id": "2cef5a62-d885-46d0-805c-c4f3bdf129b3",
   "metadata": {},
   "outputs": [
    {
     "name": "stdout",
     "output_type": "stream",
     "text": [
      "MainThread\n",
      "Thread-4\n",
      "Thread-5\n",
      "Thread-6\n",
      "Thread-7\n",
      "Thread-3\n",
      "IPythonHistorySavingThread\n",
      "Thread-2\n",
      "Thread-26\n",
      "Thread-27\n",
      "Thread-28\n",
      "Thread-29\n",
      "Thread-30\n"
     ]
    }
   ],
   "source": [
    "import threading\n",
    "for t in threading.enumerate():\n",
    "    print(t.getName())"
   ]
  },
  {
   "cell_type": "code",
   "execution_count": 3,
   "id": "bf53c45e-6988-46c5-8a9e-b74db0193909",
   "metadata": {},
   "outputs": [
    {
     "name": "stdout",
     "output_type": "stream",
     "text": [
      "Main - Starting\n",
      "Main - Creating the DataResource object\n",
      "DataResource - Initialising the empty data\n",
      "DataResource - Setting up the Condition object\n",
      "Main - Create the Consumer Threads\n",
      "Main - Create the Producer Thread\n",
      "Main - Starting consumer threads\n",
      "DataResource - Starting consumer method in Consumer1\n",
      "DataResource - Starting consumer method in Consumer2\n",
      "Main - Starting producer thread\n",
      "DataResource - Starting producer method\n",
      "DataResource - Producer setting data\n",
      "DataResource - Producer notifying all waiting threads\n",
      "DataResource - Resource is available toMain - Done\n",
      " Consumer1\n",
      "DataResource - Data read in Consumer1 : 75\n",
      "DataResource - Resource is available to Consumer2\n",
      "DataResource - Data read in Consumer2 : 75\n"
     ]
    }
   ],
   "source": [
    "from threading import Thread, Condition, current_thread \n",
    "from time import sleep\n",
    "from random import randint\n",
    "class DataResource:\n",
    "    def __init__(self):\n",
    "        print('DataResource - Initialising the empty data')\n",
    "        self.data = None\n",
    "        print('DataResource - Setting up the Condition object') \n",
    "        self.condition = Condition()\n",
    "    def consumer(self):\n",
    "        \"\"\"wait for the condition and use the resource\"\"\" \n",
    "        print('DataResource - Starting consumer method in', current_thread().name) \n",
    "        with self.condition:\n",
    "            self.condition.wait()\n",
    "            print('DataResource - Resource is available to',current_thread().name) \n",
    "            print('DataResource - Data read in', current_thread().name, ':', self.data)\n",
    "    def producer(self):\n",
    "        \"\"\"set up the resource to be used by the consumer\"\"\" \n",
    "        print('DataResource - Starting producer method') \n",
    "        with self.condition:\n",
    "            print('DataResource - Producer setting data') \n",
    "            self.data = randint(1, 100) \n",
    "            print('DataResource - Producer notifying all waiting threads') \n",
    "            self.condition.notify_all()\n",
    "\n",
    "print('Main - Starting')\n",
    "print('Main - Creating the DataResource object') \n",
    "resource = DataResource()\n",
    "print('Main - Create the Consumer Threads') \n",
    "c1 = Thread(target=resource.consumer) \n",
    "c1.name = 'Consumer1'\n",
    "c2 = Thread(target=resource.consumer) \n",
    "c2.name = 'Consumer2'\n",
    "\n",
    "print('Main - Create the Producer Thread') \n",
    "p = Thread(target=resource.producer)\n",
    "print('Main - Starting consumer threads') \n",
    "c1.start()\n",
    "c2.start()\n",
    "sleep(1)\n",
    "print('Main - Starting producer thread') \n",
    "p.start()\n",
    "print('Main - Done')"
   ]
  },
  {
   "cell_type": "code",
   "execution_count": null,
   "id": "e7d05a39-603c-465a-bd61-80b0691b22d3",
   "metadata": {},
   "outputs": [],
   "source": []
  }
 ],
 "metadata": {
  "kernelspec": {
   "display_name": "Python 3 (ipykernel)",
   "language": "python",
   "name": "python3"
  },
  "language_info": {
   "codemirror_mode": {
    "name": "ipython",
    "version": 3
   },
   "file_extension": ".py",
   "mimetype": "text/x-python",
   "name": "python",
   "nbconvert_exporter": "python",
   "pygments_lexer": "ipython3",
   "version": "3.10.2"
  }
 },
 "nbformat": 4,
 "nbformat_minor": 5
}
