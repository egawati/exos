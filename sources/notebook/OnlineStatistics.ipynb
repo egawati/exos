{
 "cells": [
  {
   "cell_type": "markdown",
   "metadata": {},
   "source": [
    "## Online Statistics"
   ]
  },
  {
   "cell_type": "code",
   "execution_count": 1,
   "metadata": {},
   "outputs": [],
   "source": [
    "import numpy as np\n",
    "import logging "
   ]
  },
  {
   "cell_type": "code",
   "execution_count": 2,
   "metadata": {},
   "outputs": [],
   "source": [
    "class OnlineStatistics(object):\n",
    "    def __init__(self, order):\n",
    "        \"\"\"\n",
    "        Parameters\n",
    "        ----------\n",
    "        order: int, the number of attributes\n",
    "        \"\"\"\n",
    "        self._order = order\n",
    "        self._shape = (order, order)\n",
    "        self._identity = np.identity(order)\n",
    "        self._count = 0\n",
    "        self._mean = np.zeros(order)\n",
    "        self._cov = np.zeros(self._shape)\n",
    "    \n",
    "    def update(self, X):\n",
    "        if X.shape[1] != self._order:\n",
    "            logging.warning(\"Incorrect dimension\")\n",
    "            return \n",
    "             \n",
    "        if X.shape[0] == 1:\n",
    "            self._update_stats(X.flatten())\n",
    "        else:\n",
    "            for x in X:\n",
    "                self._update_stats(x)\n",
    "    \n",
    "    def _update_stats(self, observation):\n",
    "        \"\"\"\n",
    "        Incremental update on mean and covariance matrix\n",
    "        Original source https://carstenschelp.github.io/2019/05/12/Online_Covariance_Algorithm_002.html\n",
    "        \n",
    "        Parameters\n",
    "        ----------\n",
    "        observation: array_like, The observation to add.\n",
    "        \"\"\"\n",
    "        if self._order != len(observation):\n",
    "            raise ValueError(f'Observation to add must be of size {self._order}')\n",
    "         \n",
    "        # update the number of objects seen so far\n",
    "        self._count += 1\n",
    "        # compute the difference between the given object and observed mean\n",
    "        delta_at_nMin1 = np.array(observation - self._mean)\n",
    "        \n",
    "        # update mean\n",
    "        self._mean += delta_at_nMin1 / self._count\n",
    "        \n",
    "        weighted_delta_at_n = np.array(observation - self._mean) / self._count\n",
    "        D_at_n = np.broadcast_to(weighted_delta_at_n, self._shape)\n",
    "        \n",
    "        ## diagonal matrix\n",
    "        D = (delta_at_nMin1 * self._identity).dot(D_at_n)\n",
    "        self._cov = self._cov * (self._count - 1) / self._count + D\n",
    "        \n",
    "    @property\n",
    "    def cov(self):\n",
    "        return self._cov\n",
    "    \n",
    "    @property\n",
    "    def mean(self):\n",
    "        return self._mean"
   ]
  },
  {
   "cell_type": "code",
   "execution_count": null,
   "metadata": {},
   "outputs": [],
   "source": []
  }
 ],
 "metadata": {
  "kernelspec": {
   "display_name": "Python 3",
   "language": "python",
   "name": "python3"
  },
  "language_info": {
   "codemirror_mode": {
    "name": "ipython",
    "version": 3
   },
   "file_extension": ".py",
   "mimetype": "text/x-python",
   "name": "python",
   "nbconvert_exporter": "python",
   "pygments_lexer": "ipython3",
   "version": "3.8.5"
  }
 },
 "nbformat": 4,
 "nbformat_minor": 4
}
