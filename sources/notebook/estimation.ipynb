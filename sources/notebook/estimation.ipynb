{
 "cells": [
  {
   "cell_type": "code",
   "execution_count": 1,
   "metadata": {},
   "outputs": [],
   "source": [
    "import numpy as np\n",
    "import pandas as pd\n",
    "from numpy.linalg import eig"
   ]
  },
  {
   "cell_type": "code",
   "execution_count": 2,
   "metadata": {},
   "outputs": [],
   "source": [
    "#covariance\n",
    "A = [45,37,42,35,39]\n",
    "B = [38,31,26,28,33]\n",
    "C = [10,15,17,21,12]\n",
    "\n",
    "data = np.array([A,B,C])"
   ]
  },
  {
   "cell_type": "code",
   "execution_count": 3,
   "metadata": {},
   "outputs": [
    {
     "name": "stdout",
     "output_type": "stream",
     "text": [
      "X (6, 2)\n",
      "A.shape (6, 2)\n",
      "M.shape (2,)\n",
      "C.shape (6, 2)\n",
      "(2, 2)\n",
      "Eigen vectors (2, 2)\n",
      "Principal Component (2, 6)\n",
      "[[-1. -2. -3.  1.  2.  3.]\n",
      " [-1. -1. -2.  1.  1.  2.]]\n"
     ]
    }
   ],
   "source": [
    "X = np.array([[-1, -1], [-2, -1], [-3, -2], [1, 1], [2, 1], [3, 2]])\n",
    "print(f'X {X.shape}')\n",
    "# define a matrix\n",
    "A = X\n",
    "print(f'A.shape {A.shape}')\n",
    "# calculate the mean of each row\n",
    "M = np.mean(A, axis=0)\n",
    "print(f'M.shape {M.shape}')\n",
    "# center columns by subtracting column means\n",
    "C = A - M\n",
    "print(f'C.shape {C.shape}')\n",
    "# calculate covariance matrix of centered matrix\n",
    "V = np.cov(C.T)\n",
    "print(V.shape)\n",
    "#eigendecomposition of covariance matrix\n",
    "values, vectors = eig(V)\n",
    "print(f'Eigen vectors {vectors.shape}')\n",
    "\n",
    "# project data\n",
    "k = 2\n",
    "P = vectors[:,0:k].T.dot(C.T)\n",
    "print(f'Principal Component {P.shape}')\n",
    "A_estimate = vectors[:,0:k].dot(P)\n",
    "print((A_estimate.T + M).T)"
   ]
  },
  {
   "cell_type": "code",
   "execution_count": 8,
   "metadata": {},
   "outputs": [],
   "source": [
    "def pca_reconstruction(cov, C, variance_explained=1):\n",
    "    eig_values, eig_vectors = eig(cov)\n",
    "    k = len(eig_values)\n",
    "    if variance_explained != 1:\n",
    "        trace = sum(eig_values)\n",
    "        var_explained = 0\n",
    "        for i, val in enumerate(eig_values):\n",
    "            var_explained += val/trace\n",
    "            if var_explained >= variance_explained:\n",
    "                k = i\n",
    "    Y = eig_vectors[:,0:k].T.dot(C.T)\n",
    "    C_estimate = eig_vectors[:,0:k].dot(Y)\n",
    "    return C_estimate"
   ]
  },
  {
   "cell_type": "code",
   "execution_count": 14,
   "metadata": {},
   "outputs": [],
   "source": [
    "X = np.array([[-1, -1], [-2, -1], [-3, -2], [1, 1], [2, 1], [3, 2]])\n",
    "M = np.mean(X, axis=0)\n",
    "C = X - M\n",
    "cov = np.cov(C.T)\n",
    "C_estimate = pca_reconstruction(cov, C, variance_explained=1)\n",
    "X_estimate = C_estimate.T + M"
   ]
  },
  {
   "cell_type": "code",
   "execution_count": null,
   "metadata": {},
   "outputs": [],
   "source": []
  }
 ],
 "metadata": {
  "kernelspec": {
   "display_name": "Python 3",
   "language": "python",
   "name": "python3"
  },
  "language_info": {
   "codemirror_mode": {
    "name": "ipython",
    "version": 3
   },
   "file_extension": ".py",
   "mimetype": "text/x-python",
   "name": "python",
   "nbconvert_exporter": "python",
   "pygments_lexer": "ipython3",
   "version": "3.8.5"
  }
 },
 "nbformat": 4,
 "nbformat_minor": 4
}
