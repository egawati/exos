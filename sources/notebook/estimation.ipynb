{
 "cells": [
  {
   "cell_type": "code",
   "execution_count": 1,
   "metadata": {},
   "outputs": [],
   "source": [
    "import numpy as np\n",
    "import pandas as pd\n",
    "from numpy.linalg import eig"
   ]
  },
  {
   "cell_type": "code",
   "execution_count": 2,
   "metadata": {},
   "outputs": [],
   "source": [
    "#covariance\n",
    "A = [45,37,42,35,39]\n",
    "B = [38,31,26,28,33]\n",
    "C = [10,15,17,21,12]\n",
    "\n",
    "data = np.array([A,B,C])"
   ]
  },
  {
   "cell_type": "code",
   "execution_count": 8,
   "metadata": {},
   "outputs": [
    {
     "name": "stdout",
     "output_type": "stream",
     "text": [
      "X (6, 2)\n",
      "M.shape (3,)\n",
      "C.shape (5, 3)\n",
      "(3, 3)\n",
      "Eigen vectors (3, 3)\n",
      "Principal Component (2, 5)\n",
      "[[44.569391   37.281906   42.14752752 34.5138843  39.48729118]\n",
      " [37.25309646 31.48897395 26.25589068 27.15681853 33.84522038]\n",
      " [ 8.90681984 15.71567022 17.37452576 19.76590588 13.2370783 ]]\n"
     ]
    }
   ],
   "source": [
    "X = np.array([[-1, -1], [-2, -1], [-3, -2], [1, 1], [2, 1], [3, 2]])\n",
    "print(f'X {X.shape}')\n",
    "# define a matrix\n",
    "A = data.T\n",
    "# calculate the mean of each column\n",
    "M = np.mean(A, axis=0)\n",
    "print(f'M.shape {M.shape}')\n",
    "# center columns by subtracting column means\n",
    "C = A - M\n",
    "print(f'C.shape {C.shape}')\n",
    "# calculate covariance matrix of centered matrix\n",
    "V = np.cov(C.T)\n",
    "print(V.shape)\n",
    "#eigendecomposition of covariance matrix\n",
    "values, vectors = eig(V)\n",
    "print(f'Eigen vectors {vectors.shape}')\n",
    "\n",
    "# project data\n",
    "k = 2\n",
    "P = vectors[:,0:k].T.dot(C.T)\n",
    "print(f'Principal Component {P.shape}')\n",
    "A_estimate = vectors[:,0:k].dot(P)\n",
    "print((A_estimate.T + M).T)"
   ]
  },
  {
   "cell_type": "code",
   "execution_count": 4,
   "metadata": {},
   "outputs": [
    {
     "data": {
      "text/plain": [
       "array([39.6, 31.2, 15. ])"
      ]
     },
     "execution_count": 4,
     "metadata": {},
     "output_type": "execute_result"
    }
   ],
   "source": [
    "M"
   ]
  },
  {
   "cell_type": "code",
   "execution_count": null,
   "metadata": {},
   "outputs": [],
   "source": []
  }
 ],
 "metadata": {
  "kernelspec": {
   "display_name": "Python 3",
   "language": "python",
   "name": "python3"
  },
  "language_info": {
   "codemirror_mode": {
    "name": "ipython",
    "version": 3
   },
   "file_extension": ".py",
   "mimetype": "text/x-python",
   "name": "python",
   "nbconvert_exporter": "python",
   "pygments_lexer": "ipython3",
   "version": "3.8.5"
  }
 },
 "nbformat": 4,
 "nbformat_minor": 4
}
