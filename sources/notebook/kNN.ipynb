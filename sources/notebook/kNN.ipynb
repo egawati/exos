{
 "cells": [
  {
   "cell_type": "code",
   "execution_count": 1,
   "metadata": {},
   "outputs": [],
   "source": [
    "import numpy as np\n",
    "from scipy import spatial\n",
    "\n",
    "def euclidian_distance(v1, v2):\n",
    "    dist = np.linalg.norm(v1-v2)\n",
    "    return dist\n",
    "\n",
    "def cosine_distance(v1, v2):\n",
    "    dist = spatial.distance.cosine(v1, v2)\n",
    "    return dist\n",
    "\n",
    "def cosine_distance2(v1, v2):\n",
    "    dist = 1 - np.dot(v1, v2)/(np.linalg.norm(v1)*np.linalg.norm(v2))\n",
    "    return dist\n",
    "\n",
    "def get_neighbors(k, v, data, dist_function = 'euclidian'):\n",
    "    \"\"\"\n",
    "    k : the number of neighbors\n",
    "    v : a vector looking for k neigbor vectors\n",
    "    data : a matrix of data contains rows of potential neighbors\n",
    "    \"\"\"\n",
    "    distances = list()\n",
    "    for row in data:\n",
    "        if dist_function == 'euclidian':\n",
    "            dist = euclidian_distance(v, row)\n",
    "        elif dist_function == 'cosine':\n",
    "            dist = cosine_distance(v, row)\n",
    "        distances.append((row, dist))\n",
    "    distances.sort(key=lambda tup: tup[1])\n",
    "    neighbors = list()\n",
    "    for i in range(k):\n",
    "        neighbors.append(distances[i][0])\n",
    "    return neighbors"
   ]
  },
  {
   "cell_type": "code",
   "execution_count": 2,
   "metadata": {},
   "outputs": [
    {
     "data": {
      "text/plain": [
       "array([[ 2.7810836 ,  2.550537  ,  0.        ],\n",
       "       [ 1.46548937,  2.36212508,  0.        ],\n",
       "       [ 3.39656169,  4.40029353,  0.        ],\n",
       "       [ 1.38807019,  1.85022032,  0.        ],\n",
       "       [ 3.06407232,  3.00530597,  0.        ],\n",
       "       [ 7.62753121,  2.75926224,  1.        ],\n",
       "       [ 5.33244125,  2.08862677,  1.        ],\n",
       "       [ 6.92259672,  1.77106367,  1.        ],\n",
       "       [ 8.67541865, -0.24206865,  1.        ],\n",
       "       [ 7.67375647,  3.50856301,  1.        ]])"
      ]
     },
     "execution_count": 2,
     "metadata": {},
     "output_type": "execute_result"
    }
   ],
   "source": [
    "dataset = [[2.7810836,2.550537003,0],\n",
    "           [1.465489372,2.362125076,0],\n",
    "           [3.396561688,4.400293529,0],\n",
    "           [1.38807019,1.850220317,0],\n",
    "           [3.06407232,3.005305973,0],\n",
    "           [7.627531214,2.759262235,1],\n",
    "           [5.332441248,2.088626775,1],\n",
    "           [6.922596716,1.77106367,1],\n",
    "           [8.675418651,-0.242068655,1],\n",
    "           [7.673756466,3.508563011,1]]\n",
    "dataset = np.array(dataset)\n",
    "dataset"
   ]
  },
  {
   "cell_type": "code",
   "execution_count": 3,
   "metadata": {},
   "outputs": [
    {
     "data": {
      "text/plain": [
       "[array([2.7810836, 2.550537 , 0.       ]),\n",
       " array([3.06407232, 3.00530597, 0.        ]),\n",
       " array([1.46548937, 2.36212508, 0.        ])]"
      ]
     },
     "execution_count": 3,
     "metadata": {},
     "output_type": "execute_result"
    }
   ],
   "source": [
    "get_neighbors(3, dataset[0], dataset, dist_function = 'euclidian')"
   ]
  },
  {
   "cell_type": "code",
   "execution_count": null,
   "metadata": {},
   "outputs": [],
   "source": []
  },
  {
   "cell_type": "code",
   "execution_count": null,
   "metadata": {},
   "outputs": [],
   "source": []
  }
 ],
 "metadata": {
  "kernelspec": {
   "display_name": "Python 3",
   "language": "python",
   "name": "python3"
  },
  "language_info": {
   "codemirror_mode": {
    "name": "ipython",
    "version": 3
   },
   "file_extension": ".py",
   "mimetype": "text/x-python",
   "name": "python",
   "nbconvert_exporter": "python",
   "pygments_lexer": "ipython3",
   "version": "3.8.5"
  }
 },
 "nbformat": 4,
 "nbformat_minor": 4
}
