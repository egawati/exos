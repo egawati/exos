{
 "cells": [
  {
   "cell_type": "code",
   "execution_count": 1,
   "metadata": {},
   "outputs": [],
   "source": [
    "import numpy as np\n",
    "from scipy import spatial\n",
    "\n",
    "def euclidian_distance(v1, v2):\n",
    "    dist = np.linalg.norm(v1-v2)\n",
    "    return dist\n",
    "\n",
    "def cosine_distance(v1, v2):\n",
    "    dist = spatial.distance.cosine(v1, v2)\n",
    "    return dist\n",
    "\n",
    "def cosine_distance2(v1, v2):\n",
    "    dist = 1 - np.dot(v1, v2)/(np.linalg.norm(v1)*np.linalg.norm(v2))\n",
    "    return dist\n",
    "\n",
    "def get_neighbors(k, v, data, dist_function = 'euclidian'):\n",
    "    \"\"\"\n",
    "    k : the number of neighbors\n",
    "    v : a vector of which k nearest neigbor vectors are searched for \n",
    "    data : n by d matrix where n is a number of objects and d is the object's dimension\n",
    "    \"\"\"\n",
    "    distances = list()\n",
    "    for row in data:\n",
    "        if dist_function == 'euclidian':\n",
    "            dist = euclidian_distance(v, row)\n",
    "        elif dist_function == 'cosine':\n",
    "            dist = cosine_distance(v, row)\n",
    "        elif dist_function == 'cosine2':\n",
    "            dist = cosine_distance2(v, row)\n",
    "        distances.append((row, dist))\n",
    "    distances.sort(key=lambda tup: tup[1])\n",
    "    neighbors = list()\n",
    "    for i in range(k+1):\n",
    "        neighbors.append(distances[i][0])\n",
    "    return neighbors"
   ]
  },
  {
   "cell_type": "code",
   "execution_count": 2,
   "metadata": {},
   "outputs": [
    {
     "data": {
      "text/plain": [
       "array([[ 2.7810836 ,  2.550537  ,  0.        ],\n",
       "       [ 1.46548937,  2.36212508,  0.        ],\n",
       "       [ 3.39656169,  4.40029353,  0.        ],\n",
       "       [ 1.38807019,  1.85022032,  0.        ],\n",
       "       [ 3.06407232,  3.00530597,  0.        ],\n",
       "       [ 7.62753121,  2.75926224,  1.        ],\n",
       "       [ 5.33244125,  2.08862677,  1.        ],\n",
       "       [ 6.92259672,  1.77106367,  1.        ],\n",
       "       [ 8.67541865, -0.24206865,  1.        ],\n",
       "       [ 7.67375647,  3.50856301,  1.        ]])"
      ]
     },
     "execution_count": 2,
     "metadata": {},
     "output_type": "execute_result"
    }
   ],
   "source": [
    "dataset = [[2.7810836,2.550537003,0],\n",
    "           [1.465489372,2.362125076,0],\n",
    "           [3.396561688,4.400293529,0],\n",
    "           [1.38807019,1.850220317,0],\n",
    "           [3.06407232,3.005305973,0],\n",
    "           [7.627531214,2.759262235,1],\n",
    "           [5.332441248,2.088626775,1],\n",
    "           [6.922596716,1.77106367,1],\n",
    "           [8.675418651,-0.242068655,1],\n",
    "           [7.673756466,3.508563011,1]]\n",
    "dataset = np.array(dataset)\n",
    "dataset"
   ]
  },
  {
   "cell_type": "code",
   "execution_count": 3,
   "metadata": {},
   "outputs": [
    {
     "data": {
      "text/plain": [
       "[array([2.7810836, 2.550537 , 0.       ]),\n",
       " array([3.06407232, 3.00530597, 0.        ]),\n",
       " array([1.46548937, 2.36212508, 0.        ]),\n",
       " array([1.38807019, 1.85022032, 0.        ])]"
      ]
     },
     "execution_count": 3,
     "metadata": {},
     "output_type": "execute_result"
    }
   ],
   "source": [
    "get_neighbors(3, dataset[0], dataset, dist_function = 'euclidian')"
   ]
  },
  {
   "cell_type": "code",
   "execution_count": 4,
   "metadata": {},
   "outputs": [
    {
     "data": {
      "text/plain": [
       "[array([2.7810836, 2.550537 , 0.       ]),\n",
       " array([3.06407232, 3.00530597, 0.        ]),\n",
       " array([3.39656169, 4.40029353, 0.        ]),\n",
       " array([1.38807019, 1.85022032, 0.        ])]"
      ]
     },
     "execution_count": 4,
     "metadata": {},
     "output_type": "execute_result"
    }
   ],
   "source": [
    "get_neighbors(3, dataset[0], dataset, dist_function = 'cosine')"
   ]
  },
  {
   "cell_type": "code",
   "execution_count": 5,
   "metadata": {},
   "outputs": [
    {
     "data": {
      "text/plain": [
       "[array([2.7810836, 2.550537 , 0.       ]),\n",
       " array([3.06407232, 3.00530597, 0.        ]),\n",
       " array([3.39656169, 4.40029353, 0.        ]),\n",
       " array([1.38807019, 1.85022032, 0.        ])]"
      ]
     },
     "execution_count": 5,
     "metadata": {},
     "output_type": "execute_result"
    }
   ],
   "source": [
    "get_neighbors(3, dataset[0], dataset, dist_function = 'cosine2')"
   ]
  },
  {
   "cell_type": "code",
   "execution_count": 6,
   "metadata": {},
   "outputs": [],
   "source": [
    "def generate_random_data(nobjects=10, ndim=3):\n",
    "    np.random.seed(2)\n",
    "    rng = np.random.RandomState(1999)\n",
    "    A = rng.randn(nobjects, ndim) + 2\n",
    "    return A"
   ]
  },
  {
   "cell_type": "code",
   "execution_count": 7,
   "metadata": {},
   "outputs": [],
   "source": [
    "def get_temporal_nearest_neighbors(k, v, vt, data, t, dist_function = 'euclidian'):\n",
    "    \"\"\"\n",
    "    k : the number of neighbors\n",
    "    v : a vector looking for k neigbor vectors\n",
    "    vt: time tick of v\n",
    "    data : n by d matrix where n is a number of objects and d is the object's dimension\n",
    "    t : an array of data's time tick\n",
    "    return list of neighbors of v and the time tick of each corresponding neighbor, the first element in the list is v itself\n",
    "    \"\"\"\n",
    "    distances = list()\n",
    "    v = np.hstack((v,vt))\n",
    "    data = np.hstack((data, t))\n",
    "    for i, row in enumerate(data):\n",
    "        if dist_function == 'euclidian':        \n",
    "            dist = euclidian_distance(v, row)\n",
    "        elif dist_function == 'cosine':\n",
    "            dist = cosine_distance(v, row)\n",
    "        distances.append((row, dist, t[i]))\n",
    "    distances.sort(key=lambda tup: tup[1])\n",
    "    neighbors = list()\n",
    "    timeticks = list()\n",
    "    for i in range(k+1):\n",
    "        neighbors.append(distances[i][0])\n",
    "        timeticks.append(distances[i][2])\n",
    "    return neighbors, timeticks"
   ]
  },
  {
   "cell_type": "code",
   "execution_count": 8,
   "metadata": {},
   "outputs": [
    {
     "name": "stdout",
     "output_type": "stream",
     "text": [
      "Nearest neighbors time tick [array([30]), array([29]), array([32]), array([28])]\n"
     ]
    }
   ],
   "source": [
    "A = generate_random_data(nobjects=60, ndim=3)\n",
    "k = 3\n",
    "v = A[29,:]\n",
    "vt = 30\n",
    "data = A\n",
    "t = np.arange(1,A.shape[0]+1).reshape(-1,1)\n",
    "neighbors, timeticks = get_temporal_nearest_neighbors(k, v, vt, data, t, dist_function = 'euclidian')\n",
    "print(f'Nearest neighbors time tick {timeticks}')"
   ]
  },
  {
   "cell_type": "code",
   "execution_count": 9,
   "metadata": {},
   "outputs": [],
   "source": [
    "def get_weighted_temporal_nearest_neighbors(k, v, vt, data, t, dist_function = 'euclidian'):\n",
    "    \"\"\"\n",
    "    k : the number of neighbors\n",
    "    v : a vector looking for k neigbor vectors\n",
    "    vt: time tick of v\n",
    "    data : n by d matrix where n is a number of objects and d is the object's dimension\n",
    "    t : an array of data's time tick\n",
    "    return list of neighbors of v and the time tick of each corresponding neighbor, the first element in the list is v itself\n",
    "    \"\"\"\n",
    "    distances = list()\n",
    "    for i, row in enumerate(data):\n",
    "        if dist_function == 'euclidian':        \n",
    "            dist = abs(t[i]-vt) * euclidian_distance(v, row)\n",
    "        elif dist_function == 'cosine':\n",
    "            dist = abs(t[i]-vt)* cosine_distance(v, row)\n",
    "        distances.append((row, dist, t[i]))\n",
    "    distances.sort(key=lambda tup: tup[1])\n",
    "    neighbors = list()\n",
    "    timeticks = list()\n",
    "    for i in range(k+1):\n",
    "        neighbors.append(distances[i][0])\n",
    "        timeticks.append(distances[i][2])\n",
    "    return neighbors, timeticks"
   ]
  },
  {
   "cell_type": "code",
   "execution_count": 10,
   "metadata": {},
   "outputs": [
    {
     "name": "stdout",
     "output_type": "stream",
     "text": [
      "Nearest neighbors time tick [array([30]), array([29]), array([34]), array([31])]\n"
     ]
    }
   ],
   "source": [
    "neighbors, timeticks = get_weighted_temporal_nearest_neighbors(k, v, vt, data, t, dist_function = 'euclidian')\n",
    "print(f'Nearest neighbors time tick {timeticks}')"
   ]
  }
 ],
 "metadata": {
  "kernelspec": {
   "display_name": "Python 3",
   "language": "python",
   "name": "python3"
  },
  "language_info": {
   "codemirror_mode": {
    "name": "ipython",
    "version": 3
   },
   "file_extension": ".py",
   "mimetype": "text/x-python",
   "name": "python",
   "nbconvert_exporter": "python",
   "pygments_lexer": "ipython3",
   "version": "3.8.5"
  }
 },
 "nbformat": 4,
 "nbformat_minor": 4
}
