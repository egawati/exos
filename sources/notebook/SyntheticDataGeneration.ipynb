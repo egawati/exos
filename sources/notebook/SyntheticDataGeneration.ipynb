{
 "cells": [
  {
   "cell_type": "code",
   "execution_count": 1,
   "metadata": {},
   "outputs": [],
   "source": [
    "import numpy as np\n",
    "import time\n",
    "import math\n",
    "from sklearn.datasets import make_spd_matrix\n",
    "from scipy.stats import multivariate_normal \n",
    "from sklearn.datasets import make_blobs"
   ]
  },
  {
   "cell_type": "code",
   "execution_count": 2,
   "metadata": {},
   "outputs": [],
   "source": [
    "def generate_gaussian_dataset_concept_drift(nattr, ndist, nobjects):\n",
    "    \"\"\"\n",
    "    Generating multivariate gaussian dataset to simulate concept drift\n",
    "    \n",
    "    Parameters\n",
    "    ----------\n",
    "    nattr: int\n",
    "        number of attributes\n",
    "    ndist: int\n",
    "        number of different data distribution to generate\n",
    "    nobjects: int\n",
    "        number of objects for each data distribution\n",
    "    \n",
    "    Returns\n",
    "    -------\n",
    "    X : a matrix, numpy array of size (ndist * nobjects) x nattr\n",
    "    \"\"\"\n",
    "    X = None\n",
    "    for _ in range(ndist):\n",
    "        mean = np.random.rand(nattr)\n",
    "        Sigma = make_spd_matrix(n_dim = nattr) ## need to ensure that Sigma is a positive-definite matrix\n",
    "        Y = np.random.multivariate_normal(mean, Sigma, nobjects)\n",
    "        if X is None:\n",
    "            X = Y\n",
    "        else:\n",
    "            X = np.vstack([X,Y])\n",
    "    return X"
   ]
  },
  {
   "cell_type": "code",
   "execution_count": 3,
   "metadata": {},
   "outputs": [],
   "source": [
    "X = generate_gaussian_dataset_concept_drift(nattr=3, ndist=5, nobjects=50)"
   ]
  },
  {
   "cell_type": "code",
   "execution_count": 4,
   "metadata": {},
   "outputs": [],
   "source": [
    "def generate_data_of_multiple_cluster(centers = [(-5, -5), (5, 5)],\n",
    "                                     cluster_std = [0.8, 1],\n",
    "                                     nfeatures = 2,\n",
    "                                     nsamples = 100):\n",
    "    X, y = make_blobs(n_samples=100, \n",
    "                      cluster_std=cluster_std, \n",
    "                      centers=centers, \n",
    "                      n_features=2, random_state=1)\n",
    "    return X, y"
   ]
  }
 ],
 "metadata": {
  "kernelspec": {
   "display_name": "Python 3 (ipykernel)",
   "language": "python",
   "name": "python3"
  },
  "language_info": {
   "codemirror_mode": {
    "name": "ipython",
    "version": 3
   },
   "file_extension": ".py",
   "mimetype": "text/x-python",
   "name": "python",
   "nbconvert_exporter": "python",
   "pygments_lexer": "ipython3",
   "version": "3.9.7"
  }
 },
 "nbformat": 4,
 "nbformat_minor": 4
}
