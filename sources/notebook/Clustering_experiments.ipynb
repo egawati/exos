{
 "cells": [
  {
   "cell_type": "code",
   "execution_count": 1,
   "metadata": {},
   "outputs": [],
   "source": [
    "import matplotlib.pyplot as plt; plt.rcdefaults()\n",
    "import numpy as np\n",
    "import time\n",
    "import math\n",
    "from sklearn.datasets import make_blobs\n",
    "from ipynb.fs.full.Clustering import SequentialKMeans\n",
    "from ipynb.fs.full.Clustering import SequentialKMeansB\n",
    "from ipynb.fs.full.SyntheticDataGeneration import generate_data_of_multiple_cluster"
   ]
  },
  {
   "cell_type": "markdown",
   "metadata": {},
   "source": [
    "Clustering performance evaluation: https://scikit-learn.org/stable/modules/clustering.html (Part 2.3.10)"
   ]
  },
  {
   "cell_type": "markdown",
   "metadata": {},
   "source": [
    "# Testing on higly separated clusters"
   ]
  },
  {
   "cell_type": "code",
   "execution_count": 2,
   "metadata": {},
   "outputs": [
    {
     "data": {
      "text/plain": [
       "(100, 2)"
      ]
     },
     "execution_count": 2,
     "metadata": {},
     "output_type": "execute_result"
    }
   ],
   "source": [
    "X, y = generate_data_of_multiple_cluster(centers = [(-5, -5), (5, 5)],\n",
    "                                         cluster_std = [0.8, 1],\n",
    "                                         nfeatures = 2,\n",
    "                                         nsamples = 100)\n",
    "X.shape"
   ]
  },
  {
   "cell_type": "code",
   "execution_count": 3,
   "metadata": {},
   "outputs": [
    {
     "data": {
      "text/plain": [
       "<matplotlib.collections.PathCollection at 0x12065f610>"
      ]
     },
     "execution_count": 3,
     "metadata": {},
     "output_type": "execute_result"
    },
    {
     "data": {
      "image/png": "[encoded data removed]",
      "text/plain": [
       "<Figure size 640x480 with 1 Axes>"
      ]
     },
     "metadata": {},
     "output_type": "display_data"
    }
   ],
   "source": [
    "plt.scatter(X[y == 0, 0], X[y == 0, 1], color=\"red\", s=10, label=\"Cluster1\")\n",
    "plt.scatter(X[y == 1, 0], X[y == 1, 1], color=\"blue\", s=10, label=\"Cluster2\")"
   ]
  },
  {
   "cell_type": "markdown",
   "metadata": {},
   "source": [
    "## Approach 1 Sequential K-Means"
   ]
  },
  {
   "cell_type": "code",
   "execution_count": 4,
   "metadata": {},
   "outputs": [],
   "source": [
    "clustering = SequentialKMeans(k=2, d=2)\n",
    "for i in range(X.shape[0]):\n",
    "    x = X[i,:]\n",
    "    clustering.absorb_incoming_datum(x, label=True)"
   ]
  },
  {
   "cell_type": "code",
   "execution_count": 5,
   "metadata": {},
   "outputs": [
    {
     "data": {
      "text/plain": [
       "<matplotlib.collections.PathCollection at 0x12094a700>"
      ]
     },
     "execution_count": 5,
     "metadata": {},
     "output_type": "execute_result"
    },
    {
     "data": {
      "image/png": "[encoded data removed]",
      "text/plain": [
       "<Figure size 640x480 with 1 Axes>"
      ]
     },
     "metadata": {},
     "output_type": "display_data"
    }
   ],
   "source": [
    "y_est = np.array(clustering.y)\n",
    "plt.scatter(X[y_est == 0, 0], X[y_est == 0, 1], color=\"red\", s=10, label=\"Cluster1\")\n",
    "plt.scatter(X[y_est == 1, 0], X[y_est == 1, 1], color=\"blue\", s=10, label=\"Cluster2\")"
   ]
  },
  {
   "cell_type": "code",
   "execution_count": null,
   "metadata": {},
   "outputs": [
    {
     "data": {
      "text/plain": [
       "<matplotlib.collections.PathCollection at 0x120a9ba30>"
      ]
     },
     "execution_count": 6,
     "metadata": {},
     "output_type": "execute_result"
    }
   ],
   "source": [
    "clusters = clustering.clusters\n",
    "plt.scatter(clusters[0].centroid[0], clusters[0].centroid[1], color=\"red\", s=10, label=\"Cluster1\")\n",
    "plt.scatter(clusters[1].centroid[0], clusters[1].centroid[1], color=\"blue\", s=10, label=\"Cluster2\")"
   ]
  },
  {
   "cell_type": "markdown",
   "metadata": {},
   "source": [
    "## Approach 2 Sequential K-Means with Temporary Buffers"
   ]
  },
  {
   "cell_type": "code",
   "execution_count": null,
   "metadata": {},
   "outputs": [],
   "source": [
    "clustering = SequentialKMeansB(k=2, d=2)\n",
    "for i in range(X.shape[0]):\n",
    "    x = X[i,:]\n",
    "    clustering.absorb_incoming_datum(x)\n",
    "    if i % 10 == 0:\n",
    "        clustering.reset_buffer()"
   ]
  },
  {
   "cell_type": "markdown",
   "metadata": {},
   "source": [
    "However the actual buffers are:"
   ]
  },
  {
   "cell_type": "code",
   "execution_count": null,
   "metadata": {},
   "outputs": [],
   "source": [
    "X_buf = None\n",
    "y_buf = None\n",
    "for i in range(clustering.k):\n",
    "    buf = np.array(clustering.clusters[i].points)\n",
    "    labels = [clustering.clusters[i].label] * buf.shape[0]\n",
    "    print(labels)\n",
    "    if X_buf is None:\n",
    "        X_buf = buf\n",
    "        y_buf = labels\n",
    "    else:\n",
    "        X_buf = np.vstack((X_buf, buf))\n",
    "        y_buf = y_buf + labels\n",
    "y_buf = np.array(y_buf)\n",
    "plt.scatter(X_buf[y_buf == 0, 0], X_buf[y_buf == 0, 1], color=\"red\", s=10, label=\"Cluster1\")\n",
    "plt.scatter(X_buf[y_buf == 1, 0], X_buf[y_buf == 1, 1], color=\"blue\", s=10, label=\"Cluster2\")"
   ]
  },
  {
   "cell_type": "markdown",
   "metadata": {},
   "source": [
    "## Pro and Cons Approaches 1 & 2"
   ]
  },
  {
   "cell_type": "markdown",
   "metadata": {},
   "source": [
    "### Sequential K-Means\n",
    "\n",
    "Pros : \n",
    "\n",
    "- no extra buffer\n",
    "\n",
    "Cons :\n",
    "- inlier class only consists of two points : cluster centroid and the estimation value of outlier"
   ]
  },
  {
   "cell_type": "markdown",
   "metadata": {},
   "source": [
    "### Sequential K-Means\n",
    "\n",
    "Pros : \n",
    "\n",
    "- inlier class has more than two points : \n",
    "    cluster centroid, \n",
    "    the estimation value of outlier, \n",
    "    actual data points that belong to the cluster within the current window.\n",
    "    Hence the decision boundary between inlier class and outlier class should be more accurate\n",
    "\n",
    "Cons :\n",
    "- require extra buffer to store data point in each cluster"
   ]
  },
  {
   "cell_type": "code",
   "execution_count": null,
   "metadata": {},
   "outputs": [],
   "source": []
  }
 ],
 "metadata": {
  "kernelspec": {
   "display_name": "Python 3",
   "language": "python",
   "name": "python3"
  },
  "language_info": {
   "codemirror_mode": {
    "name": "ipython",
    "version": 3
   },
   "file_extension": ".py",
   "mimetype": "text/x-python",
   "name": "python",
   "nbconvert_exporter": "python",
   "pygments_lexer": "ipython3",
   "version": "3.8.5"
  }
 },
 "nbformat": 4,
 "nbformat_minor": 4
}
