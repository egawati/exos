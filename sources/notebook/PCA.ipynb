{
 "cells": [
  {
   "cell_type": "code",
   "execution_count": 1,
   "metadata": {},
   "outputs": [],
   "source": [
    "import numpy as np\n",
    "import time\n",
    "from numpy.linalg import eig\n",
    "from sklearn.metrics import mean_squared_error\n",
    "from ipynb.fs.full.OnlineStatistics import OnlineStatistics"
   ]
  },
  {
   "cell_type": "code",
   "execution_count": 2,
   "metadata": {},
   "outputs": [],
   "source": [
    "def pca_reconstruction(cov, C, variance_explained=1, profiling=False):\n",
    "    if profiling:\n",
    "        start = time.perf_counter()\n",
    "    \n",
    "    eig_values, eig_vectors = eig(cov)\n",
    "    k = len(eig_values)\n",
    "    if variance_explained != 1:\n",
    "        trace = sum(eig_values)\n",
    "        var_explained = 0\n",
    "        for i, val in enumerate(eig_values):\n",
    "            var_explained += val/trace\n",
    "#             print(f'{i} - {var_explained}')\n",
    "            if var_explained >= variance_explained:\n",
    "                k = i\n",
    "    Y = eig_vectors[:,0:k].T.dot(C.T)\n",
    "    C_estimate = eig_vectors[:,0:k].dot(Y)\n",
    "    \n",
    "    if profiling:\n",
    "        duration = start - time.perf_counter()\n",
    "        return C_estimate, duration\n",
    "    \n",
    "    return C_estimate"
   ]
  },
  {
   "cell_type": "code",
   "execution_count": 3,
   "metadata": {},
   "outputs": [],
   "source": [
    "def reconstruct_pca(A, variance_explained=1, profiling=False):\n",
    "    if profiling:\n",
    "        start = time.perf_counter()\n",
    "        \n",
    "    M = np.mean(A, axis=0)\n",
    "    C = A - M\n",
    "    cov = np.cov(C.T)\n",
    "    C_estimate = pca_reconstruction(cov, C, variance_explained)\n",
    "    A_estimate = C_estimate.T + M\n",
    "    \n",
    "    if profiling:\n",
    "        duration = start - time.perf_counter()\n",
    "        return A_estimate, duration\n",
    "\n",
    "    return A_estimate"
   ]
  },
  {
   "cell_type": "markdown",
   "metadata": {},
   "source": [
    "## Online Covariance"
   ]
  },
  {
   "cell_type": "markdown",
   "metadata": {},
   "source": [
    "**Assuming A is a window, let's estimate its covariance using incremental technique and then compute the PCA reconstruction**"
   ]
  },
  {
   "cell_type": "code",
   "execution_count": 4,
   "metadata": {},
   "outputs": [],
   "source": [
    "def reconstruct_pca_with_online_stat(A, variance_explained=1, profiling=False):\n",
    "    if profiling:\n",
    "        start = time.perf_counter()\n",
    "        \n",
    "    ostat = OnlineStatistics(A.shape[1])\n",
    "    for x in A:\n",
    "        ostat.update(x.reshape((1,-1)))\n",
    "    C = A - ostat.mean\n",
    "    C_estimate = pca_reconstruction(ostat.cov, C, variance_explained)\n",
    "    A_estimate = C_estimate.T + ostat.mean\n",
    "    if profiling:\n",
    "        duration = start - time.perf_counter()\n",
    "        return A_estimate, duration\n",
    "    return A_estimate"
   ]
  },
  {
   "cell_type": "code",
   "execution_count": 5,
   "metadata": {},
   "outputs": [],
   "source": [
    "# from ipynb.fs.full.OnlineStatistics import OnlineStatistics\n",
    "# np.random.seed(1)\n",
    "# rng = np.random.RandomState(1999)\n",
    "# A = rng.randn(10,3) + 2\n",
    "# M = np.mean(A, axis=0)\n",
    "# C = A - M\n",
    "\n",
    "# ## online technique to update covariance\n",
    "# ostat = OnlineStatistics(A.shape[1])\n",
    "# ostat.update(A)\n",
    "\n",
    "# C_estimate = pca_reconstruction(ostat.cov, C, variance_explained=0.9025)\n",
    "# A_estimate_online = C_estimate.T + M\n",
    "# print(f'mse {mean_squared_error(A, A_estimate_online)}')"
   ]
  },
  {
   "cell_type": "markdown",
   "metadata": {},
   "source": [
    "**Another way to estimate covariance of A online and then compute the PCA reconstruction**"
   ]
  },
  {
   "cell_type": "code",
   "execution_count": 6,
   "metadata": {},
   "outputs": [],
   "source": [
    "# from ipynb.fs.full.OnlineStatistics import OnlineStatistics\n",
    "# M = np.mean(A, axis=0)\n",
    "# C = A - M\n",
    "# ostat = OnlineStatistics(A.shape[1])\n",
    "# for x in A:\n",
    "#     ostat.update(x.reshape((1,-1)))\n",
    "# C_estimate = pca_reconstruction(ostat.cov, C, variance_explained=0.9025)\n",
    "# A_estimate_online = C_estimate.T + M\n",
    "# print(f'mse {mean_squared_error(A, A_estimate_online)}')"
   ]
  },
  {
   "cell_type": "code",
   "execution_count": 7,
   "metadata": {},
   "outputs": [],
   "source": [
    "# from ipynb.fs.full.OnlineStatistics import OnlineStatistics\n",
    "# ostat = OnlineStatistics(A.shape[1])\n",
    "# for x in A:\n",
    "#     ostat.update(x.reshape((1,-1)))\n",
    "# C = A - ostat.mean\n",
    "# C_estimate = pca_reconstruction(ostat.cov, C, variance_explained=0.9025)\n",
    "# A_estimate_online = C_estimate.T + ostat.mean\n",
    "# print(f'mse {mean_squared_error(A, A_estimate_online)}')"
   ]
  },
  {
   "cell_type": "code",
   "execution_count": 8,
   "metadata": {},
   "outputs": [],
   "source": [
    "# A_estimate_online = reconstruct_pca_with_online_stat(A, variance_explained=0.9025, profiling=False)\n",
    "# print(f'mse {mean_squared_error(A, A_estimate_online)}')"
   ]
  },
  {
   "cell_type": "markdown",
   "metadata": {},
   "source": [
    "For each individual technique study the impact of the hyper parameters, and then compare them with different dataset (different size of the matrix)"
   ]
  }
 ],
 "metadata": {
  "kernelspec": {
   "display_name": "Python 3 (ipykernel)",
   "language": "python",
   "name": "python3"
  },
  "language_info": {
   "codemirror_mode": {
    "name": "ipython",
    "version": 3
   },
   "file_extension": ".py",
   "mimetype": "text/x-python",
   "name": "python",
   "nbconvert_exporter": "python",
   "pygments_lexer": "ipython3",
   "version": "3.10.2"
  }
 },
 "nbformat": 4,
 "nbformat_minor": 4
}
