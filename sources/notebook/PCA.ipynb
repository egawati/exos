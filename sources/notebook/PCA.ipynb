{
 "cells": [
  {
   "cell_type": "code",
   "execution_count": 1,
   "metadata": {},
   "outputs": [],
   "source": [
    "import numpy as np\n",
    "from numpy.linalg import eig\n",
    "from sklearn.metrics import mean_squared_error"
   ]
  },
  {
   "cell_type": "code",
   "execution_count": 2,
   "metadata": {},
   "outputs": [],
   "source": [
    "def pca_reconstruction(cov, C, variance_explained=1):\n",
    "    eig_values, eig_vectors = eig(cov)\n",
    "    k = len(eig_values)\n",
    "    if variance_explained != 1:\n",
    "        trace = sum(eig_values)\n",
    "        var_explained = 0\n",
    "        for i, val in enumerate(eig_values):\n",
    "            var_explained += val/trace\n",
    "#             print(f'{i} - {var_explained}')\n",
    "            if var_explained >= variance_explained:\n",
    "                k = i\n",
    "    Y = eig_vectors[:,0:k].T.dot(C.T)\n",
    "    C_estimate = eig_vectors[:,0:k].dot(Y)\n",
    "    return C_estimate"
   ]
  },
  {
   "cell_type": "code",
   "execution_count": 3,
   "metadata": {},
   "outputs": [
    {
     "name": "stdout",
     "output_type": "stream",
     "text": [
      "A\n",
      "[[1.68251986 2.69206233 0.71562236]\n",
      " [2.39334583 2.21180288 1.58854318]\n",
      " [2.94547341 2.90643341 1.45884194]\n",
      " [3.20463807 1.92962428 2.70887691]\n",
      " [0.96984499 1.03195449 3.3538902 ]\n",
      " [2.80426695 1.64460456 1.19536682]\n",
      " [2.2470435  1.8595206  1.9274096 ]\n",
      " [0.68802366 0.16304126 1.75841876]\n",
      " [1.16916187 0.6220643  1.90347192]\n",
      " [2.09439562 1.49333031 2.62422045]]\n",
      "A_estimate\n",
      "[[2.23893731 2.70507408 1.79826347]\n",
      " [2.44874966 2.21309849 1.69634439]\n",
      " [2.93485582 2.90618512 1.43818292]\n",
      " [2.63649479 1.91633832 1.60342043]\n",
      " [0.6107843  1.0235579  2.65525311]\n",
      " [2.93642103 1.64769497 1.45250369]\n",
      " [2.19698175 1.85834991 1.83000268]\n",
      " [1.04066331 0.1712877  2.44456219]\n",
      " [1.36007201 0.62652871 2.27493252]\n",
      " [1.79475379 1.48632322 2.04119674]]\n",
      "mse 0.16514016595783557\n"
     ]
    }
   ],
   "source": [
    "## generate 3 dimension data set of 10 points\n",
    "np.random.seed(1)\n",
    "rng = np.random.RandomState(1999)\n",
    "A = rng.randn(10, 3) + 2\n",
    "print('A')\n",
    "print(A)\n",
    "M = np.mean(A, axis=0)\n",
    "C = A - M\n",
    "cov = np.cov(C.T)\n",
    "C_estimate = pca_reconstruction(cov, C, variance_explained=0.9025)\n",
    "A_estimate = C_estimate.T + M\n",
    "print('A_estimate')\n",
    "print(A_estimate)\n",
    "print(f'mse {mean_squared_error(A, A_estimate)}')"
   ]
  },
  {
   "cell_type": "code",
   "execution_count": 4,
   "metadata": {},
   "outputs": [
    {
     "data": {
      "text/plain": [
       "array([4.93960488e-01, 4.89745438e-03, 1.79863365e-04, 5.14999110e-01,\n",
       "       2.05696288e-01, 2.78645395e-02, 3.99855285e-03, 1.98405179e-01,\n",
       "       5.81498629e-02, 1.43250322e-01])"
      ]
     },
     "execution_count": 4,
     "metadata": {},
     "output_type": "execute_result"
    }
   ],
   "source": [
    "mse = (np.square(A - A_estimate)).mean(axis=1)\n",
    "mse"
   ]
  },
  {
   "cell_type": "markdown",
   "metadata": {},
   "source": [
    "## Online Covariance"
   ]
  },
  {
   "cell_type": "markdown",
   "metadata": {},
   "source": [
    "**Assuming A is a window, let's estimate its covariance using incremental technique and then compute the PCA reconstruction**"
   ]
  },
  {
   "cell_type": "code",
   "execution_count": 5,
   "metadata": {},
   "outputs": [
    {
     "name": "stdout",
     "output_type": "stream",
     "text": [
      "mse 0.16514016595783557\n"
     ]
    }
   ],
   "source": [
    "from ipynb.fs.full.OnlineStatistics import OnlineStatistics\n",
    "M = np.mean(A, axis=0)\n",
    "C = A - M\n",
    "\n",
    "## online technique to update covariance\n",
    "ostat = OnlineStatistics(A.shape[1])\n",
    "ostat.update(A)\n",
    "\n",
    "C_estimate = pca_reconstruction(ostat.cov, C, variance_explained=0.9025)\n",
    "A_estimate_online = C_estimate.T + M\n",
    "print(f'mse {mean_squared_error(A, A_estimate_online)}')"
   ]
  },
  {
   "cell_type": "markdown",
   "metadata": {},
   "source": [
    "**Another way to estimate covariance of A online and then compute the PCA reconstruction**"
   ]
  },
  {
   "cell_type": "code",
   "execution_count": 9,
   "metadata": {},
   "outputs": [
    {
     "name": "stdout",
     "output_type": "stream",
     "text": [
      "mse 2.120063682781469e-31\n"
     ]
    }
   ],
   "source": [
    "from ipynb.fs.full.OnlineStatistics import OnlineStatistics\n",
    "M = np.mean(A, axis=0)\n",
    "C = A - M\n",
    "ostat = OnlineStatistics(A.shape[1])\n",
    "for x in A:\n",
    "    ostat.update(x.reshape((1,-1)))\n",
    "C_estimate = pca_reconstruction(ostat.cov, C, variance_explained=0.9025)\n",
    "A_estimate_online = C_estimate.T + M\n",
    "print(f'mse {mean_squared_error(A, A_estimate_online)}')"
   ]
  },
  {
   "cell_type": "code",
   "execution_count": 7,
   "metadata": {},
   "outputs": [
    {
     "name": "stdout",
     "output_type": "stream",
     "text": [
      "A_estimate_online \n",
      "[[2.23893731 2.70507408 1.79826347]\n",
      " [2.44874966 2.21309849 1.69634439]\n",
      " [2.93485582 2.90618512 1.43818292]\n",
      " [2.63649479 1.91633832 1.60342043]\n",
      " [0.6107843  1.0235579  2.65525311]\n",
      " [2.93642103 1.64769497 1.45250369]\n",
      " [2.19698175 1.85834991 1.83000268]\n",
      " [1.04066331 0.1712877  2.44456219]\n",
      " [1.36007201 0.62652871 2.27493252]\n",
      " [1.79475379 1.48632322 2.04119674]]\n",
      "A_estimate \n",
      "[[2.23893731 2.70507408 1.79826347]\n",
      " [2.44874966 2.21309849 1.69634439]\n",
      " [2.93485582 2.90618512 1.43818292]\n",
      " [2.63649479 1.91633832 1.60342043]\n",
      " [0.6107843  1.0235579  2.65525311]\n",
      " [2.93642103 1.64769497 1.45250369]\n",
      " [2.19698175 1.85834991 1.83000268]\n",
      " [1.04066331 0.1712877  2.44456219]\n",
      " [1.36007201 0.62652871 2.27493252]\n",
      " [1.79475379 1.48632322 2.04119674]]\n"
     ]
    }
   ],
   "source": [
    "print(f'A_estimate_online \\n{A_estimate_online}')\n",
    "print(f'A_estimate \\n{A_estimate}')"
   ]
  },
  {
   "cell_type": "code",
   "execution_count": null,
   "metadata": {},
   "outputs": [],
   "source": []
  }
 ],
 "metadata": {
  "kernelspec": {
   "display_name": "Python 3",
   "language": "python",
   "name": "python3"
  },
  "language_info": {
   "codemirror_mode": {
    "name": "ipython",
    "version": 3
   },
   "file_extension": ".py",
   "mimetype": "text/x-python",
   "name": "python",
   "nbconvert_exporter": "python",
   "pygments_lexer": "ipython3",
   "version": "3.8.5"
  }
 },
 "nbformat": 4,
 "nbformat_minor": 4
}
