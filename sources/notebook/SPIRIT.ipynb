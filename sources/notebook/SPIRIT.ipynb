{
 "cells": [
  {
   "cell_type": "code",
   "execution_count": null,
   "metadata": {},
   "outputs": [],
   "source": [
    "import numpy as np\n",
    "import time\n",
    "from numpy.linalg import qr\n",
    "from sklearn.metrics import mean_squared_error"
   ]
  },
  {
   "cell_type": "code",
   "execution_count": null,
   "metadata": {},
   "outputs": [],
   "source": [
    "def track_W(old_x, old_w, old_d, lamda):\n",
    "    y = np.dot(old_w.T , old_x)\n",
    "    d = lamda*old_d + y**2\n",
    "    e = old_x - old_w*y\n",
    "    w = old_w + e*y/d\n",
    "    x = old_x - w*y\n",
    "    w = w/(np.linalg.norm(w))\n",
    "    return w, d, x"
   ]
  },
  {
   "cell_type": "code",
   "execution_count": null,
   "metadata": {},
   "outputs": [],
   "source": [
    "def SPIRIT(xt, t, E, E_est, W, d, k, lamda=1, fE=0.95, FE=0.98, profiling=False):\n",
    "    if profiling:\n",
    "        start = time.perf_counter()\n",
    "    \n",
    "    x = xt.copy()\n",
    "    for i in range(k):\n",
    "        W[:,i], d[i], x = track_W(x, W[:,i], d[i], lamda)\n",
    "#     print(f'W[:,0:k].shape {W[:,0:k].shape}')\n",
    "    \n",
    "    #need to ensure that W[:,0:k] are orthogonal matrix\n",
    "    Q, R = qr(W[:,0:k])\n",
    "    W[:,0:k] = Q\n",
    "#     print(f'Q.shape {Q.shape}')\n",
    "#     print(f'R.shape {R.shape}')\n",
    "#     print(f'W[:,0:k].shape {W[:,0:k].shape}')\n",
    "    \n",
    "    # compute hidden variables\n",
    "    Y = np.dot(W[:,0:k].T, xt)\n",
    "#     print(f'Y.shape {Y.shape}') \n",
    "    \n",
    "    # compute the reconstruction \n",
    "    xt_estimate = np.dot(W[:,0:k],Y)\n",
    "#     print(f'xt_estimate.shape {xt_estimate.shape}')\n",
    "    \n",
    "    #update energy\n",
    "    E = (lamda*(t-1)*E + np.sum(xt**2)) / t\n",
    "#     print(f'E {E}')\n",
    "    E_est = (lamda*(t-1)*E_est + np.sum(Y**2)) / t\n",
    "#     print(f'E_est {E_est}')\n",
    "    \n",
    "    #determine whether to update the number of hidden variables\n",
    "    if E_est < (fE*E) and k < xt.shape[0]:\n",
    "        k = k + 1\n",
    "#         print(f'Updating k=k+1 = {k}')\n",
    "    elif E_est > (FE*E) and k > 1:\n",
    "        k = k - 1\n",
    "#         print(f'Updating k=k-1 = {k}')\n",
    "\n",
    "    if profiling:\n",
    "        duration = time.perf_counter() - start\n",
    "        return W, d, k, xt_estimate, duration\n",
    "        \n",
    "    return W, d, k, xt_estimate"
   ]
  },
  {
   "cell_type": "code",
   "execution_count": null,
   "metadata": {},
   "outputs": [],
   "source": [
    "## generate 3 dimension data set of 10 points\n",
    "np.random.seed(1)\n",
    "rng = np.random.RandomState(1999)\n",
    "A = rng.randn(10, 3) + 2\n",
    "# initialize SPIRIT parameters\n",
    "W = np.identity(A.shape[1])\n",
    "k = 1\n",
    "E = 0\n",
    "E_est = 0\n",
    "t = 1\n",
    "d = 0.01 * np.ones(A.shape[1])\n",
    "fE = 0.95\n",
    "FE = 0.98\n",
    "lamda = 1"
   ]
  },
  {
   "cell_type": "code",
   "execution_count": null,
   "metadata": {},
   "outputs": [],
   "source": [
    "A_estimate = None\n",
    "for i in range(len(A)):\n",
    "    xt = A[i,:]\n",
    "    W, d, k, xt_estimate = SPIRIT(xt, t, E, E_est, W, d, k, lamda, fE, FE)\n",
    "    if A_estimate is None:\n",
    "        A_estimate = xt_estimate\n",
    "    else:\n",
    "        A_estimate = np.vstack((A_estimate, xt_estimate))"
   ]
  },
  {
   "cell_type": "code",
   "execution_count": null,
   "metadata": {},
   "outputs": [],
   "source": [
    "# print('A')\n",
    "# print(A)\n",
    "# print('A_estimate')\n",
    "# print(A_estimate)"
   ]
  },
  {
   "cell_type": "code",
   "execution_count": null,
   "metadata": {},
   "outputs": [],
   "source": [
    "mse = mean_squared_error(A, A_estimate)"
   ]
  },
  {
   "cell_type": "code",
   "execution_count": null,
   "metadata": {},
   "outputs": [],
   "source": [
    "mse = (np.square(A - A_estimate)).mean(axis=1)"
   ]
  },
  {
   "cell_type": "code",
   "execution_count": null,
   "metadata": {},
   "outputs": [],
   "source": []
  }
 ],
 "metadata": {
  "kernelspec": {
   "display_name": "Python 3",
   "language": "python",
   "name": "python3"
  },
  "language_info": {
   "codemirror_mode": {
    "name": "ipython",
    "version": 3
   },
   "file_extension": ".py",
   "mimetype": "text/x-python",
   "name": "python",
   "nbconvert_exporter": "python",
   "pygments_lexer": "ipython3",
   "version": "3.8.5"
  }
 },
 "nbformat": 4,
 "nbformat_minor": 4
}
