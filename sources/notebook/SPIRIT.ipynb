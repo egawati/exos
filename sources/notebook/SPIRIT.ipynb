{
 "cells": [
  {
   "cell_type": "code",
   "execution_count": 1,
   "metadata": {},
   "outputs": [],
   "source": [
    "import numpy as np\n",
    "import pandas as pd\n",
    "from numpy.linalg import eig\n",
    "from numpy.linalg import svd\n",
    "from numpy.linalg import qr"
   ]
  },
  {
   "cell_type": "code",
   "execution_count": 2,
   "metadata": {},
   "outputs": [],
   "source": [
    "def track_W(old_x, old_w, old_d, lamda):\n",
    "    y = np.dot(old_w.T , old_x)\n",
    "    d = lamda*old_d + y**2\n",
    "    e = old_x - old_w*y\n",
    "    w = old_w + e*y/d\n",
    "    x = old_x - w*y\n",
    "    w = w/(np.linalg.norm(w))\n",
    "    return w, d, x"
   ]
  },
  {
   "cell_type": "code",
   "execution_count": 3,
   "metadata": {},
   "outputs": [],
   "source": [
    "def SPIRIT(xt, t, E, E_est, W, d, k, lamda=1, fE=0.95, FE=0.98):\n",
    "    x = xt\n",
    "    for i in range(k):\n",
    "        W[:,i], d[i], x = track_W(x, W[:,i], d[i], lamda)\n",
    "    print(f'W[:,0:k].shape {W[:,0:k].shape}')\n",
    "    \n",
    "    #need to ensure that W[:,0:k] are orthogonal matrix\n",
    "    Q, R = qr(W[:,0:k])\n",
    "    W[:,0:k] = Q\n",
    "    print(f'Q.shape {Q.shape}')\n",
    "    print(f'R.shape {R.shape}')\n",
    "    print(f'W[:,0:k].shape {W[:,0:k].shape}')\n",
    "    \n",
    "    # compute hidden variables\n",
    "    Y = np.dot(W[:,0:k].T, xt)\n",
    "    print(f'Y.shape {Y.shape}') \n",
    "    \n",
    "    # compute the reconstruction \n",
    "    xt_estimate = W[:,0:k] * Y\n",
    "    print(f'xt_estimate.shape {xt_estimate.shape}')\n",
    "    \n",
    "    #update energy\n",
    "    E = (lamda*(t-1)*E + np.sum(xt**2)) / t\n",
    "    print(f'E {E}')\n",
    "    E_est = (lamda*(t-1)*E_est + np.sum(Y**2)) / t\n",
    "    print(f'E_est {E_est}')\n",
    "    \n",
    "    #determine whether to update the number of hidden variables\n",
    "    if E_est < (fE*E) and k < xt.shape[0]:\n",
    "        k = k + 1\n",
    "        print(f'Updating k=k+1 = {k}')\n",
    "    elif E_est > (FE*E) and k > 1:\n",
    "        k = k - 1\n",
    "        print(f'Updating k=k-1 = {k}')\n",
    "    return W, d, k, xt_estimate.flatten()"
   ]
  },
  {
   "cell_type": "code",
   "execution_count": 4,
   "metadata": {},
   "outputs": [
    {
     "name": "stdout",
     "output_type": "stream",
     "text": [
      "W[:,0:k].shape (3, 1)\n",
      "Q.shape (3, 1)\n",
      "R.shape (1, 1)\n",
      "W[:,0:k].shape (3, 1)\n",
      "Y.shape (1,)\n",
      "xt_estimate.shape (3, 1)\n",
      "E 10.590188021422057\n",
      "E_est 10.590162188207207\n",
      "xt [1.68251986 2.69206233 0.71562236]\n",
      "xt_estimate [1.68686635 2.68951613 0.71494551]\n"
     ]
    }
   ],
   "source": [
    "rng = np.random.RandomState(1999)\n",
    "A = rng.randn(5, 3) + 2\n",
    "xt = A[0,:]\n",
    "W = np.identity(xt.shape[0])\n",
    "k = 1\n",
    "E = 0\n",
    "E_est = 0\n",
    "t = 1\n",
    "d = 0.01 * np.ones(xt.shape[0])\n",
    "W, d, k, xt_estimate = SPIRIT(xt, t, E, E_est, W, d, k, lamda=1, fE=0.95, FE=0.98)\n",
    "print(f'xt {xt}')\n",
    "print(f'xt_estimate {xt_estimate}')"
   ]
  },
  {
   "cell_type": "code",
   "execution_count": 5,
   "metadata": {},
   "outputs": [
    {
     "name": "stdout",
     "output_type": "stream",
     "text": [
      "W[:,0:k].shape (3, 1)\n",
      "Q.shape (3, 1)\n",
      "R.shape (1, 1)\n",
      "W[:,0:k].shape (3, 1)\n",
      "Y.shape (1,)\n",
      "xt_estimate.shape (3, 1)\n",
      "E 6.571822826698817\n",
      "E_est 6.545909305844012\n",
      "xt [2.39334583 2.21180288 1.58854318]\n",
      "xt_estimate [2.31313436 2.37420956 1.45064021]\n"
     ]
    }
   ],
   "source": [
    "xt = A[1,:]\n",
    "t = 2\n",
    "W, d, k, xt_estimate = SPIRIT(xt, t, E, E_est, W, d, k, lamda=1, fE=0.95, FE=0.98)\n",
    "print(f'xt {xt}')\n",
    "print(f'xt_estimate {xt_estimate}')"
   ]
  },
  {
   "cell_type": "code",
   "execution_count": 6,
   "metadata": {},
   "outputs": [
    {
     "name": "stdout",
     "output_type": "stream",
     "text": [
      "W[:,0:k].shape (3, 1)\n",
      "Q.shape (3, 1)\n",
      "R.shape (1, 1)\n",
      "W[:,0:k].shape (3, 1)\n",
      "Y.shape (1,)\n",
      "xt_estimate.shape (3, 1)\n",
      "E 6.417129533602622\n",
      "E_est 6.410289471273079\n",
      "xt [2.94547341 2.90643341 1.45884194]\n",
      "xt_estimate [2.88546924 2.89514024 1.58842647]\n"
     ]
    }
   ],
   "source": [
    "xt = A[2,:]\n",
    "t = 3\n",
    "W, d, k, xt_estimate = SPIRIT(xt, t, E, E_est, W, d, k, lamda=1, fE=0.95, FE=0.98)\n",
    "print(f'xt {xt}')\n",
    "print(f'xt_estimate {xt_estimate}')"
   ]
  },
  {
   "cell_type": "code",
   "execution_count": 7,
   "metadata": {},
   "outputs": [
    {
     "data": {
      "text/plain": [
       "array([[-0.65798653,  0.        ,  0.        ],\n",
       "       [-0.66019185,  1.        ,  0.        ],\n",
       "       [-0.36221603,  0.        ,  1.        ]])"
      ]
     },
     "execution_count": 7,
     "metadata": {},
     "output_type": "execute_result"
    }
   ],
   "source": [
    "W"
   ]
  },
  {
   "cell_type": "code",
   "execution_count": null,
   "metadata": {},
   "outputs": [],
   "source": []
  }
 ],
 "metadata": {
  "kernelspec": {
   "display_name": "Python 3",
   "language": "python",
   "name": "python3"
  },
  "language_info": {
   "codemirror_mode": {
    "name": "ipython",
    "version": 3
   },
   "file_extension": ".py",
   "mimetype": "text/x-python",
   "name": "python",
   "nbconvert_exporter": "python",
   "pygments_lexer": "ipython3",
   "version": "3.8.5"
  }
 },
 "nbformat": 4,
 "nbformat_minor": 4
}
