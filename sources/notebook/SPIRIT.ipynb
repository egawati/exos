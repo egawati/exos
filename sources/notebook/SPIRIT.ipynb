{
 "cells": [
  {
   "cell_type": "code",
   "execution_count": 1,
   "metadata": {},
   "outputs": [],
   "source": [
    "import numpy as np\n",
    "import time\n",
    "import math\n",
    "from numpy.linalg import qr\n",
    "from sklearn.metrics import mean_squared_error"
   ]
  },
  {
   "cell_type": "code",
   "execution_count": 2,
   "metadata": {},
   "outputs": [],
   "source": [
    "def track_W(old_x, old_w, old_d, lamda):\n",
    "    y = np.matmul(old_w.T , old_x)\n",
    "    d = lamda*old_d + y**2\n",
    "    e = old_x - old_w*y\n",
    "    w = old_w + e*y/d\n",
    "    x = old_x - w*y\n",
    "    w = w/(np.linalg.norm(w))\n",
    "    return w, d, x"
   ]
  },
  {
   "cell_type": "code",
   "execution_count": 3,
   "metadata": {},
   "outputs": [],
   "source": [
    "def grams(A):\n",
    "    n = A.shape[1]\n",
    "    Q = A\n",
    "    Asave = A;\n",
    "    for j in range(n):\n",
    "      for k in range(j-1):\n",
    "        mult = np.divide(np.matmul(A[:,j].T, A[:,k]), np.matmul(A[:,k].T, A[:,k]))\n",
    "        A[:,j] = A[:,j] - np.dot(mult, A[:,k])\n",
    "    \n",
    "    for j in range(n):\n",
    "      if np.linalg.norm(A[:,j]) < math.sqrt(2.2204e-16):\n",
    "        print('Columns of A are linearly dependent.')\n",
    "      Q[:,j] = A[:,j] / np.linalg.norm(A[:,j])\n",
    "    \n",
    "    R = np.dot(Q.T, Asave)\n",
    "    return Q, R"
   ]
  },
  {
   "cell_type": "code",
   "execution_count": 4,
   "metadata": {},
   "outputs": [],
   "source": [
    "def SPIRIT(xt, t, E, E_est, W, d, k, lamda=1, fE=0.95, FE=0.98, profiling=False):\n",
    "    if profiling:\n",
    "        start = time.perf_counter()\n",
    "    \n",
    "    x = xt.copy()\n",
    "    for i in range(k):\n",
    "        W[:,i], d[i], x = track_W(x, W[:,i], d[i], lamda)\n",
    "#     print(f'W[:,0:k].shape {W[:,0:k].shape}')\n",
    "    \n",
    "    #need to ensure that W[:,0:k] are orthogonal matrix\n",
    "    W[:,0:k], _ = qr(W[:,0:k])\n",
    "#     print(f'Q.shape {Q.shape}')\n",
    "#     print(f'R.shape {R.shape}')\n",
    "#     print(f'W[:,0:k].shape {W[:,0:k].shape}')\n",
    "    \n",
    "    # compute hidden variables\n",
    "    Y = np.dot(W[:,0:k].T, xt)\n",
    "#     print(f'Y.shape {Y.shape}') \n",
    "    \n",
    "    # compute the reconstruction \n",
    "    xt_estimate = np.dot(W[:,0:k],Y)\n",
    "#     print(f'xt_estimate.shape {xt_estimate.shape}')\n",
    "    \n",
    "    #update energy\n",
    "    E = (lamda*(t-1)*E + np.sum(xt**2)) / t\n",
    "#     print(f'E {E}')\n",
    "    E_est = (lamda*(t-1)*E_est + np.sum(Y**2)) / t\n",
    "#     print(f'E_est {E_est}')\n",
    "    \n",
    "    #determine whether to update the number of hidden variables\n",
    "    if E_est < (fE*E) and k < xt.shape[0]:\n",
    "        k = k + 1\n",
    "#         print(f'Updating k=k+1 = {k}')\n",
    "    elif E_est > (FE*E) and k > 1:\n",
    "        k = k - 1\n",
    "#         print(f'Updating k=k-1 = {k}')\n",
    "\n",
    "    if profiling:\n",
    "        duration = time.perf_counter() - start\n",
    "        return W, d, k, xt_estimate, duration\n",
    "        \n",
    "    return W, d, k, xt_estimate"
   ]
  },
  {
   "cell_type": "code",
   "execution_count": 5,
   "metadata": {},
   "outputs": [],
   "source": [
    "## generate 3 dimension data set of 10 points\n",
    "np.random.seed(1)\n",
    "rng = np.random.RandomState(1999)\n",
    "A = rng.randn(10, 3) + 2\n",
    "# initialize SPIRIT parameters\n",
    "W = np.identity(A.shape[1])\n",
    "k = 1\n",
    "E = 0\n",
    "E_est = 0\n",
    "t = 1\n",
    "d = 0.01 * np.ones((A.shape[1],1))\n",
    "fE = 0.95\n",
    "FE = 0.98\n",
    "lamda = 1"
   ]
  },
  {
   "cell_type": "code",
   "execution_count": 6,
   "metadata": {},
   "outputs": [],
   "source": [
    "A_estimate = None\n",
    "duration = 0\n",
    "for i in range(len(A)):\n",
    "    xt = A[i,:].T\n",
    "    W, d, k, xt_estimate, runtime = SPIRIT(xt, t, E, E_est, W, d, k, lamda, fE, FE, profiling=True)\n",
    "    duration += runtime\n",
    "    if A_estimate is None:\n",
    "        A_estimate = xt_estimate\n",
    "    else:\n",
    "        A_estimate = np.vstack((A_estimate, xt_estimate))"
   ]
  },
  {
   "cell_type": "code",
   "execution_count": 7,
   "metadata": {},
   "outputs": [],
   "source": [
    "mse = mean_squared_error(A, A_estimate)"
   ]
  },
  {
   "cell_type": "code",
   "execution_count": 8,
   "metadata": {},
   "outputs": [],
   "source": [
    "def spirit_all(A, lamda, energy, k0=None, holdOffTime=None):\n",
    "    if not holdOffTime:\n",
    "        holdOffTime = 10\n",
    "    \n",
    "    if not k0:\n",
    "        k0=3\n",
    "    \n",
    "    n = A.shape[1] ## dimension\n",
    "    totalTime = A.shape[0]\n",
    "    Proj = np.zeros((totalTime, n))\n",
    "    recon = np.zeros((totalTime, n))\n",
    "    W = np.identity(n)\n",
    "    d = 0.01 * np.ones((A.shape[1],1))\n",
    "    m = k0\n",
    "    relErrors = np.zeros((totalTime, 1))\n",
    "\n",
    "    sumYSq=0;\n",
    "    sumXSq=0;\n",
    "\n",
    "    lastChangeAt = 1;\n",
    "    for t in range(totalTime):\n",
    "        x = A[t,:].T\n",
    "        for j in range(m):\n",
    "            W[:,j], d[j], x = track_W(x, W[:,j], d[j], lamda) \n",
    "        W[:,0:m], _ = qr(W[:,0:m])\n",
    "        Y = np.dot(W[:,0:m].T, A[t,:].T)\n",
    "\n",
    "        xActual = A[t,:].T\n",
    "        xProj = np.dot(W[:,0:m], Y)\n",
    "        Proj[t,0:m] = Y\n",
    "#         from IPython.core.debugger import set_trace\n",
    "#         set_trace()\n",
    "        recon[t,:] = xProj\n",
    "        xOrth = xActual - xProj\n",
    "        relErrors[t] = np.sum(xOrth**2)/np.sum(xActual**2)\n",
    "        \n",
    "        sumYSq = lamda * sumYSq + np.sum(Y**2)\n",
    "        sumXSq = lamda * sumXSq + np.sum(A[t,:]**2)\n",
    "        \n",
    "        if(sumYSq < energy[0]*sumXSq and lastChangeAt < t - holdOffTime and m < n):\n",
    "            lastChangeAt = t\n",
    "            m = m+1\n",
    "        elif (sumYSq > energy[1]*sumXSq and lastChangeAt < t - holdOffTime and m < n and m>1):\n",
    "            lastChangeAt = t\n",
    "            m = m-1;\n",
    "        \n",
    "    W[:,0:m], _ = qr(W[:,0:m])\n",
    "    W = W[:,0:m]\n",
    "    k = m\n",
    "    errs = relErrors\n",
    "    return W, m, Proj, recon"
   ]
  },
  {
   "cell_type": "code",
   "execution_count": 9,
   "metadata": {},
   "outputs": [],
   "source": [
    "# np.random.seed(1)\n",
    "# rng = np.random.RandomState(1999)\n",
    "# A = rng.randn(10000, 100) + 2\n",
    "# start = time.perf_counter()\n",
    "# W, m, Proj, recon = spirit_all(A, lamda=1, energy=(0.95,0.98), k0=1)\n",
    "# runtime = time.perf_counter() - start\n",
    "# runtime"
   ]
  },
  {
   "cell_type": "code",
   "execution_count": 10,
   "metadata": {},
   "outputs": [],
   "source": [
    "# mse = mean_squared_error(A, recon)\n",
    "# mse"
   ]
  },
  {
   "cell_type": "code",
   "execution_count": null,
   "metadata": {},
   "outputs": [],
   "source": []
  }
 ],
 "metadata": {
  "kernelspec": {
   "display_name": "Python 3",
   "language": "python",
   "name": "python3"
  },
  "language_info": {
   "codemirror_mode": {
    "name": "ipython",
    "version": 3
   },
   "file_extension": ".py",
   "mimetype": "text/x-python",
   "name": "python",
   "nbconvert_exporter": "python",
   "pygments_lexer": "ipython3",
   "version": "3.8.5"
  }
 },
 "nbformat": 4,
 "nbformat_minor": 4
}
