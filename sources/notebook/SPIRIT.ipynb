{
 "cells": [
  {
   "cell_type": "code",
   "execution_count": 1,
   "metadata": {},
   "outputs": [],
   "source": [
    "import numpy as np\n",
    "from numpy.linalg import qr\n",
    "from sklearn.metrics import mean_squared_error"
   ]
  },
  {
   "cell_type": "code",
   "execution_count": 2,
   "metadata": {},
   "outputs": [],
   "source": [
    "def track_W(old_x, old_w, old_d, lamda):\n",
    "    y = np.dot(old_w.T , old_x)\n",
    "    d = lamda*old_d + y**2\n",
    "    e = old_x - old_w*y\n",
    "    w = old_w + e*y/d\n",
    "    x = old_x - w*y\n",
    "    w = w/(np.linalg.norm(w))\n",
    "    return w, d, x"
   ]
  },
  {
   "cell_type": "code",
   "execution_count": 3,
   "metadata": {},
   "outputs": [],
   "source": [
    "def SPIRIT(xt, t, E, E_est, W, d, k, lamda=1, fE=0.95, FE=0.98):\n",
    "    x = xt.copy()\n",
    "    for i in range(k):\n",
    "        W[:,i], d[i], x = track_W(x, W[:,i], d[i], lamda)\n",
    "#     print(f'W[:,0:k].shape {W[:,0:k].shape}')\n",
    "    \n",
    "    #need to ensure that W[:,0:k] are orthogonal matrix\n",
    "    Q, R = qr(W[:,0:k])\n",
    "    W[:,0:k] = Q\n",
    "#     print(f'Q.shape {Q.shape}')\n",
    "#     print(f'R.shape {R.shape}')\n",
    "#     print(f'W[:,0:k].shape {W[:,0:k].shape}')\n",
    "    \n",
    "    # compute hidden variables\n",
    "    Y = np.dot(W[:,0:k].T, xt)\n",
    "#     print(f'Y.shape {Y.shape}') \n",
    "    \n",
    "    # compute the reconstruction \n",
    "    xt_estimate = np.dot(W[:,0:k],Y)\n",
    "#     print(f'xt_estimate.shape {xt_estimate.shape}')\n",
    "    \n",
    "    #update energy\n",
    "    E = (lamda*(t-1)*E + np.sum(xt**2)) / t\n",
    "#     print(f'E {E}')\n",
    "    E_est = (lamda*(t-1)*E_est + np.sum(Y**2)) / t\n",
    "#     print(f'E_est {E_est}')\n",
    "    \n",
    "    #determine whether to update the number of hidden variables\n",
    "    if E_est < (fE*E) and k < xt.shape[0]:\n",
    "        k = k + 1\n",
    "#         print(f'Updating k=k+1 = {k}')\n",
    "    elif E_est > (FE*E) and k > 1:\n",
    "        k = k - 1\n",
    "#         print(f'Updating k=k-1 = {k}')\n",
    "    return W, d, k, xt_estimate"
   ]
  },
  {
   "cell_type": "code",
   "execution_count": 4,
   "metadata": {},
   "outputs": [],
   "source": [
    "## generate 3 dimension data set of 10 points\n",
    "np.random.seed(1)\n",
    "rng = np.random.RandomState(1999)\n",
    "A = rng.randn(10, 3) + 2\n",
    "# initialize SPIRIT parameters\n",
    "W = np.identity(A.shape[1])\n",
    "k = 1\n",
    "E = 0\n",
    "E_est = 0\n",
    "t = 1\n",
    "d = 0.01 * np.ones(A.shape[1])\n",
    "fE = 0.95\n",
    "FE = 0.98\n",
    "lamda = 1"
   ]
  },
  {
   "cell_type": "code",
   "execution_count": 5,
   "metadata": {},
   "outputs": [],
   "source": [
    "A_estimate = None\n",
    "for i in range(len(A)):\n",
    "    xt = A[i,:]\n",
    "    W, d, k, xt_estimate = SPIRIT(xt, t, E, E_est, W, d, k, lamda, fE, FE)\n",
    "    if A_estimate is None:\n",
    "        A_estimate = xt_estimate\n",
    "    else:\n",
    "        A_estimate = np.vstack((A_estimate, xt_estimate))"
   ]
  },
  {
   "cell_type": "code",
   "execution_count": 6,
   "metadata": {},
   "outputs": [
    {
     "name": "stdout",
     "output_type": "stream",
     "text": [
      "A\n",
      "[[1.68251986 2.69206233 0.71562236]\n",
      " [2.39334583 2.21180288 1.58854318]\n",
      " [2.94547341 2.90643341 1.45884194]\n",
      " [3.20463807 1.92962428 2.70887691]\n",
      " [0.96984499 1.03195449 3.3538902 ]\n",
      " [2.80426695 1.64460456 1.19536682]\n",
      " [2.2470435  1.8595206  1.9274096 ]\n",
      " [0.68802366 0.16304126 1.75841876]\n",
      " [1.16916187 0.6220643  1.90347192]\n",
      " [2.09439562 1.49333031 2.62422045]]\n",
      "A_estimate\n",
      "[[1.68686635 2.68951613 0.71494551]\n",
      " [2.31313436 2.37420956 1.45064021]\n",
      " [2.88546924 2.89514024 1.58842647]\n",
      " [3.07342868 2.60649241 2.04256242]\n",
      " [1.90970857 1.64833589 1.64122764]\n",
      " [2.81524762 1.60271317 1.22494098]\n",
      " [2.31533224 1.87896589 1.82048878]\n",
      " [0.97654663 0.78251744 0.79857392]\n",
      " [1.1319285  0.65926073 1.91268586]\n",
      " [2.32488633 1.81634467 2.0861019 ]]\n"
     ]
    }
   ],
   "source": [
    "print('A')\n",
    "print(A)\n",
    "print('A_estimate')\n",
    "print(A_estimate)"
   ]
  },
  {
   "cell_type": "code",
   "execution_count": 7,
   "metadata": {},
   "outputs": [
    {
     "data": {
      "text/plain": [
       "0.23485365448683496"
      ]
     },
     "execution_count": 7,
     "metadata": {},
     "output_type": "execute_result"
    }
   ],
   "source": [
    "mse = mean_squared_error(A, A_estimate)\n",
    "mse"
   ]
  },
  {
   "cell_type": "code",
   "execution_count": 8,
   "metadata": {},
   "outputs": [
    {
     "data": {
      "text/plain": [
       "array([8.61107162e-06, 1.72756806e-02, 6.84006233e-03, 3.06447122e-01,\n",
       "       1.39882754e+00, 9.16698238e-04, 5.49117781e-03, 4.62766114e-01,\n",
       "       9.51598140e-04, 1.49011941e-01])"
      ]
     },
     "execution_count": 8,
     "metadata": {},
     "output_type": "execute_result"
    }
   ],
   "source": [
    "mse = (np.square(A - A_estimate)).mean(axis=1)\n",
    "mse"
   ]
  },
  {
   "cell_type": "code",
   "execution_count": null,
   "metadata": {},
   "outputs": [],
   "source": []
  }
 ],
 "metadata": {
  "kernelspec": {
   "display_name": "Python 3",
   "language": "python",
   "name": "python3"
  },
  "language_info": {
   "codemirror_mode": {
    "name": "ipython",
    "version": 3
   },
   "file_extension": ".py",
   "mimetype": "text/x-python",
   "name": "python",
   "nbconvert_exporter": "python",
   "pygments_lexer": "ipython3",
   "version": "3.8.5"
  }
 },
 "nbformat": 4,
 "nbformat_minor": 4
}
