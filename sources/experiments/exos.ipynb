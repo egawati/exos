{
 "cells": [
  {
   "cell_type": "code",
   "execution_count": 1,
   "id": "a5726995-89ce-467c-b6c3-70d5e0945bf4",
   "metadata": {},
   "outputs": [],
   "source": [
    "import exos.streams\n",
    "from exos.streams.generator import stream_producer\n",
    "from exos.streams.generator import stream_consumer\n",
    "from exos.streams.simulator import run_experiment\n",
    "\n",
    "from multiprocessing import Process, Queue, Condition\n",
    "\n",
    "from skmultiflow.data import TemporalDataStream\n",
    "\n",
    "import numpy as np"
   ]
  },
  {
   "cell_type": "code",
   "execution_count": 2,
   "id": "6bc7dec5-2b5d-484c-a38b-173b8d5acfb9",
   "metadata": {},
   "outputs": [
    {
     "name": "stderr",
     "output_type": "stream",
     "text": [
      "Produced 0 = [[1 2]\n",
      " [3 4]]\n",
      "Produced 2 = [[21 22]\n",
      " [23 24]]\n",
      "Produced 1 = [[ 11  12 101]\n",
      " [ 13  14 102]]\n",
      "Produced 2 = [[25 26]\n",
      " [27 28]]\n",
      "Produced 0 = [[5 6]\n",
      " [7 8]]\n",
      "Produced 1 = [[ 15  16 103]\n",
      " [ 17  18 104]]\n",
      "Produced 0 = [[ 9 10]]\n",
      "Produced 2 = [[29 30]]\n",
      "Produced 1 = [[ 19  20 105]]\n"
     ]
    },
    {
     "name": "stdout",
     "output_type": "stream",
     "text": [
      "[[  1   2  11  12 101  21  22]\n",
      " [  3   4  13  14 102  23  24]]\n",
      "[[  5   6  15  16 103  25  26]\n",
      " [  7   8  17  18 104  27  28]]\n",
      "[  9  10  19  20 105  29  30]\n",
      "Done\n"
     ]
    }
   ],
   "source": [
    "data1 = np.array([[1,2],[3,4],[5,6],[7,8], [9,10]])\n",
    "data2 = np.array([[11,12,101],[13,14,102],[15,16,103],[17,18,104], [19,20,105]])\n",
    "data3 = np.array([[21,22],[23,24],[25,26],[27,28], [29,30]])\n",
    "\n",
    "y = np.array([100, 200, 300, 400, 500])\n",
    "ts1 = TemporalDataStream(data1, y)\n",
    "ts2 = TemporalDataStream(data2, y)\n",
    "ts3 = TemporalDataStream(data3, y)\n",
    "\n",
    "sources = (ts1, ts2, ts3)\n",
    "n_streams = len(sources)\n",
    "queues = [Queue()] * n_streams\n",
    "\n",
    "condition = Condition()\n",
    "\n",
    "producers = [Process(target=stream_producer, args=(condition, queues, sources[i], i, 2), daemon=True) for i in range(n_streams)]\n",
    "for p in producers:\n",
    "    p.start()\n",
    "\n",
    "buffer_queue = Queue()        \n",
    "consumer = Process(target=stream_consumer, args=(condition, queues, buffer_queue), daemon=True)\n",
    "consumer.start()\n",
    "\n",
    "experiment_queue = Queue()\n",
    "experiment = Process(target=run_experiment, args=(buffer_queue, experiment_queue, n_streams), daemon=True)\n",
    "experiment.start()\n",
    "\n",
    "for p in producers:\n",
    "    p.join()\n",
    "\n",
    "for queue in queues:\n",
    "    queue.put(None)\n",
    "consumer.join()\n",
    "\n",
    "buffer_queue.put(None)\n",
    "while True:\n",
    "    result = experiment_queue.get()\n",
    "    if result is None:\n",
    "        break\n",
    "    else:\n",
    "        print(result)\n",
    "experiment_queue.put(None)\n",
    "experiment.join()\n",
    "\n",
    "print(\"Done\")"
   ]
  },
  {
   "cell_type": "code",
   "execution_count": null,
   "id": "b5631e39-f552-4b56-932f-952da0d5372f",
   "metadata": {},
   "outputs": [],
   "source": []
  }
 ],
 "metadata": {
  "kernelspec": {
   "display_name": "Python 3 (ipykernel)",
   "language": "python",
   "name": "python3"
  },
  "language_info": {
   "codemirror_mode": {
    "name": "ipython",
    "version": 3
   },
   "file_extension": ".py",
   "mimetype": "text/x-python",
   "name": "python",
   "nbconvert_exporter": "python",
   "pygments_lexer": "ipython3",
   "version": "3.10.2"
  }
 },
 "nbformat": 4,
 "nbformat_minor": 5
}
