{
 "cells": [
  {
   "cell_type": "code",
   "execution_count": 1,
   "id": "104fc425-1f7a-4785-a38e-a8be64c5be89",
   "metadata": {},
   "outputs": [],
   "source": [
    "from ipynb.fs.full.metrics import exos_running_time_df\n",
    "from ipynb.fs.full.metrics import compute_performance\n",
    "from ipynb.fs.full.metrics import unpickled_results\n",
    "import pandas as pd\n",
    "pd.set_option('precision', 2)\n",
    "\n",
    "import pickle\n",
    "import os"
   ]
  },
  {
   "cell_type": "markdown",
   "id": "eaee261d-c2d5-4607-9e3f-eb35dc3957f9",
   "metadata": {},
   "source": [
    "# Accuracy and Running Time"
   ]
  },
  {
   "cell_type": "code",
   "execution_count": 2,
   "id": "7ac4a907-2384-4942-9e5c-7b26e84e8236",
   "metadata": {},
   "outputs": [
    {
     "ename": "NameError",
     "evalue": "name 'nstreams' is not defined",
     "output_type": "error",
     "traceback": [
      "\u001b[0;31m---------------------------------------------------------------------------\u001b[0m",
      "\u001b[0;31mNameError\u001b[0m                                 Traceback (most recent call last)",
      "\u001b[0;32m/tmp/ipykernel_109315/3746161600.py\u001b[0m in \u001b[0;36m<module>\u001b[0;34m\u001b[0m\n\u001b[1;32m     26\u001b[0m     \u001b[0mdf\u001b[0m\u001b[0;34m.\u001b[0m\u001b[0mto_pickle\u001b[0m\u001b[0;34m(\u001b[0m\u001b[0;34mf'{result_folder}/performance_{nstreams}_k1_{bfname}.pkl'\u001b[0m\u001b[0;34m)\u001b[0m\u001b[0;34m\u001b[0m\u001b[0;34m\u001b[0m\u001b[0m\n\u001b[1;32m     27\u001b[0m     \u001b[0;32mreturn\u001b[0m \u001b[0mdf\u001b[0m\u001b[0;34m\u001b[0m\u001b[0;34m\u001b[0m\u001b[0m\n\u001b[0;32m---> 28\u001b[0;31m \u001b[0mdf\u001b[0m \u001b[0;34m=\u001b[0m \u001b[0mget_performance_df\u001b[0m\u001b[0;34m(\u001b[0m\u001b[0;34m)\u001b[0m\u001b[0;34m\u001b[0m\u001b[0;34m\u001b[0m\u001b[0m\n\u001b[0m\u001b[1;32m     29\u001b[0m \u001b[0mdf\u001b[0m\u001b[0;34m\u001b[0m\u001b[0;34m\u001b[0m\u001b[0m\n",
      "\u001b[0;32m/tmp/ipykernel_109315/3746161600.py\u001b[0m in \u001b[0;36mget_performance_df\u001b[0;34m(n_streams, bfname, gt_folder, rel_path, n_experiments)\u001b[0m\n\u001b[1;32m     24\u001b[0m     \u001b[0maccuracy\u001b[0m \u001b[0;34m=\u001b[0m \u001b[0;34m{\u001b[0m\u001b[0;34m'experiment'\u001b[0m \u001b[0;34m:\u001b[0m \u001b[0mexperiments\u001b[0m\u001b[0;34m,\u001b[0m \u001b[0;34m'accuracy'\u001b[0m \u001b[0;34m:\u001b[0m \u001b[0mresults\u001b[0m\u001b[0;34m,\u001b[0m \u001b[0;34m'running_time'\u001b[0m \u001b[0;34m:\u001b[0m \u001b[0msimulation_times\u001b[0m\u001b[0;34m}\u001b[0m\u001b[0;34m\u001b[0m\u001b[0;34m\u001b[0m\u001b[0m\n\u001b[1;32m     25\u001b[0m     \u001b[0mdf\u001b[0m \u001b[0;34m=\u001b[0m \u001b[0mpd\u001b[0m\u001b[0;34m.\u001b[0m\u001b[0mDataFrame\u001b[0m\u001b[0;34m(\u001b[0m\u001b[0maccuracy\u001b[0m\u001b[0;34m)\u001b[0m\u001b[0;34m\u001b[0m\u001b[0;34m\u001b[0m\u001b[0m\n\u001b[0;32m---> 26\u001b[0;31m     \u001b[0mdf\u001b[0m\u001b[0;34m.\u001b[0m\u001b[0mto_pickle\u001b[0m\u001b[0;34m(\u001b[0m\u001b[0;34mf'{result_folder}/performance_{nstreams}_k1_{bfname}.pkl'\u001b[0m\u001b[0;34m)\u001b[0m\u001b[0;34m\u001b[0m\u001b[0;34m\u001b[0m\u001b[0m\n\u001b[0m\u001b[1;32m     27\u001b[0m     \u001b[0;32mreturn\u001b[0m \u001b[0mdf\u001b[0m\u001b[0;34m\u001b[0m\u001b[0;34m\u001b[0m\u001b[0m\n\u001b[1;32m     28\u001b[0m \u001b[0mdf\u001b[0m \u001b[0;34m=\u001b[0m \u001b[0mget_performance_df\u001b[0m\u001b[0;34m(\u001b[0m\u001b[0;34m)\u001b[0m\u001b[0;34m\u001b[0m\u001b[0;34m\u001b[0m\u001b[0m\n",
      "\u001b[0;31mNameError\u001b[0m: name 'nstreams' is not defined"
     ]
    }
   ],
   "source": [
    "def get_performance_df(n_streams=2, \n",
    "                       bfname = '100K_Case1', \n",
    "                       gt_folder = '/home/epanjei/Codes/OutlierGen/exos/nstreams/two',\n",
    "                       rel_path =  'pickles/nstreams/2',\n",
    "                       n_experiments=10):\n",
    "    cwd = os.getcwd()\n",
    "    gt_filename = f'{n_streams}_{bfname}.pkl'\n",
    "    result_folder = os.path.join(cwd, rel_path)\n",
    "    n_experiments = 10\n",
    "    results = list()\n",
    "    experiments = list()\n",
    "    simulation_times = list()\n",
    "    for i in range(1,n_experiments+1):\n",
    "        matched, matched2, n_outliers, s_time = compute_performance(gt_folder= gt_folder, \n",
    "                                                         gt_filename= gt_filename, \n",
    "                                                         result_folder=result_folder, \n",
    "                                                         result_filename=f'{i}_{gt_filename}',\n",
    "                                                         n_streams=n_streams, \n",
    "                                                         window_size=1000,\n",
    "                                                         score_precision = 0.1)\n",
    "        results.append((len(matched)/n_outliers) * 100)\n",
    "        simulation_times.append(s_time)\n",
    "        experiments.append(i)\n",
    "    accuracy = {'experiment' : experiments, 'accuracy' : results, 'running_time' : simulation_times}\n",
    "    df = pd.DataFrame(accuracy)\n",
    "    df.to_pickle(f'{result_folder}/performance_{n_streams}_k1_{bfname}.pkl')\n",
    "    return df\n",
    "df = get_performance_df()\n",
    "df"
   ]
  },
  {
   "cell_type": "code",
   "execution_count": null,
   "id": "2cfc9d55-e9f5-4c57-af7c-6510c55f5afc",
   "metadata": {},
   "outputs": [],
   "source": []
  }
 ],
 "metadata": {
  "kernelspec": {
   "display_name": "Python 3 (ipykernel)",
   "language": "python",
   "name": "python3"
  },
  "language_info": {
   "codemirror_mode": {
    "name": "ipython",
    "version": 3
   },
   "file_extension": ".py",
   "mimetype": "text/x-python",
   "name": "python",
   "nbconvert_exporter": "python",
   "pygments_lexer": "ipython3",
   "version": "3.9.7"
  }
 },
 "nbformat": 4,
 "nbformat_minor": 5
}
