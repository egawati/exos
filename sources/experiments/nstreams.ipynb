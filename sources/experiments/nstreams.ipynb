{
 "cells": [
  {
   "cell_type": "code",
   "execution_count": 1,
   "id": "104fc425-1f7a-4785-a38e-a8be64c5be89",
   "metadata": {},
   "outputs": [],
   "source": [
    "from ipynb.fs.full.metrics import exos_running_time_df\n",
    "from ipynb.fs.full.metrics import compute_accuracy"
   ]
  },
  {
   "cell_type": "code",
   "execution_count": 2,
   "id": "7ac4a907-2384-4942-9e5c-7b26e84e8236",
   "metadata": {},
   "outputs": [
    {
     "name": "stdout",
     "output_type": "stream",
     "text": [
      "63.14999999999999\n",
      "61.199999999999996\n"
     ]
    }
   ],
   "source": [
    "n_streams = 2\n",
    "gt_folder = '/home/epanjei/Codes/OutlierGen/exos/nstreams/two'\n",
    "gt_filename = '2_100K_Case1.pkl'\n",
    "result_folder = '/home/epanjei/Codes/EXOS/sources/experiments/pickles/nstreams'\n",
    "matched, matched2, n_outliers = compute_accuracy(gt_folder= gt_folder, \n",
    "                                                 gt_filename= gt_filename, \n",
    "                                                 result_folder=result_folder, \n",
    "                                                 result_filename=gt_filename,\n",
    "                                                 n_streams=n_streams, \n",
    "                                                 window_size=1000,\n",
    "                                                 score_precision = 0.1)\n",
    "print(len(matched)/n_outliers * 100)\n",
    "print(len(matched2)/n_outliers * 100)"
   ]
  },
  {
   "cell_type": "code",
   "execution_count": 3,
   "id": "58ec5fc2-d9c5-4afa-aae5-06eeab152358",
   "metadata": {},
   "outputs": [
    {
     "name": "stdout",
     "output_type": "stream",
     "text": [
      "73.0\n",
      "62.075\n"
     ]
    }
   ],
   "source": [
    "n_streams = 4\n",
    "gt_folder = '/home/epanjei/Codes/OutlierGen/exos/nstreams/four'\n",
    "gt_filename = '4_100K_Case1.pkl'\n",
    "result_folder = '/home/epanjei/Codes/EXOS/sources/experiments/pickles/nstreams'\n",
    "matched, matched2, n_outliers = compute_accuracy(gt_folder= gt_folder, \n",
    "                                                 gt_filename= gt_filename, \n",
    "                                                 result_folder=result_folder, \n",
    "                                                 result_filename=gt_filename,\n",
    "                                                 n_streams=n_streams, \n",
    "                                                 window_size=1000,\n",
    "                                                 score_precision = 0.1)\n",
    "print(len(matched)/n_outliers * 100)\n",
    "print(len(matched2)/n_outliers * 100)"
   ]
  },
  {
   "cell_type": "code",
   "execution_count": 4,
   "id": "df793062-a894-420c-baee-9ada54932c4f",
   "metadata": {},
   "outputs": [
    {
     "name": "stdout",
     "output_type": "stream",
     "text": [
      "74.775\n",
      "61.275\n"
     ]
    }
   ],
   "source": [
    "n_streams = 8\n",
    "gt_folder = '/home/epanjei/Codes/OutlierGen/exos/nstreams/eight'\n",
    "gt_filename = '8_100K_Case1.pkl'\n",
    "result_folder = '/home/epanjei/Codes/EXOS/sources/experiments/pickles/nstreams'\n",
    "matched, matched2, n_outliers = compute_accuracy(gt_folder= gt_folder, \n",
    "                                                 gt_filename= gt_filename, \n",
    "                                                 result_folder=result_folder, \n",
    "                                                 result_filename=gt_filename,\n",
    "                                                 n_streams=n_streams, \n",
    "                                                 window_size=1000,\n",
    "                                                 score_precision = 0.1)\n",
    "print(len(matched)/n_outliers * 100)\n",
    "print(len(matched2)/n_outliers * 100)"
   ]
  },
  {
   "cell_type": "code",
   "execution_count": 5,
   "id": "3451c7a7-f078-410a-ad6b-e30114086fab",
   "metadata": {},
   "outputs": [
    {
     "name": "stdout",
     "output_type": "stream",
     "text": [
      "80.13125\n",
      "62.08125\n"
     ]
    }
   ],
   "source": [
    "n_streams = 16\n",
    "gt_folder = '/home/epanjei/Codes/OutlierGen/exos/nstreams/sixteen'\n",
    "gt_filename = '16_100K_Case1.pkl'\n",
    "result_folder = '/home/epanjei/Codes/EXOS/sources/experiments/pickles/nstreams'\n",
    "matched, matched2, n_outliers = compute_accuracy(gt_folder= gt_folder, \n",
    "                                                 gt_filename= gt_filename, \n",
    "                                                 result_folder=result_folder, \n",
    "                                                 result_filename=gt_filename,\n",
    "                                                 n_streams=n_streams, \n",
    "                                                 window_size=1000,\n",
    "                                                 score_precision = 0.1)\n",
    "print(len(matched)/n_outliers * 100)\n",
    "print(len(matched2)/n_outliers * 100)"
   ]
  },
  {
   "cell_type": "code",
   "execution_count": 6,
   "id": "55477112-415a-44c6-923e-e1994fc5907c",
   "metadata": {},
   "outputs": [
    {
     "name": "stdout",
     "output_type": "stream",
     "text": [
      "81.9375\n",
      "62.20833333333333\n"
     ]
    }
   ],
   "source": [
    "n_streams = 24\n",
    "gt_folder = '/home/epanjei/Codes/OutlierGen/exos/nstreams/twentyfour'\n",
    "gt_filename = '24_100K_Case1.pkl'\n",
    "result_folder = '/home/epanjei/Codes/EXOS/sources/experiments/pickles/nstreams'\n",
    "matched, matched2, n_outliers = compute_accuracy(gt_folder= gt_folder, \n",
    "                                                 gt_filename= gt_filename, \n",
    "                                                 result_folder=result_folder, \n",
    "                                                 result_filename=gt_filename,\n",
    "                                                 n_streams=n_streams, \n",
    "                                                 window_size=1000,\n",
    "                                                 score_precision = 0.1)\n",
    "print(len(matched)/n_outliers * 100)\n",
    "print(len(matched2)/n_outliers * 100)"
   ]
  },
  {
   "cell_type": "code",
   "execution_count": 7,
   "id": "14321fff-45f8-4421-95e9-7c0b2f9e70f6",
   "metadata": {},
   "outputs": [
    {
     "name": "stdout",
     "output_type": "stream",
     "text": [
      "83.240625\n",
      "60.9625\n"
     ]
    }
   ],
   "source": [
    "n_streams = 32\n",
    "gt_folder = '/home/epanjei/Codes/OutlierGen/exos/nstreams/thirtytwo'\n",
    "gt_filename = '32_100K_Case1.pkl'\n",
    "result_folder = '/home/epanjei/Codes/EXOS/sources/experiments/pickles/nstreams'\n",
    "matched, matched2, n_outliers = compute_accuracy(gt_folder= gt_folder, \n",
    "                                                 gt_filename= gt_filename, \n",
    "                                                 result_folder=result_folder, \n",
    "                                                 result_filename=gt_filename,\n",
    "                                                 n_streams=n_streams, \n",
    "                                                 window_size=1000,\n",
    "                                                 score_precision = 0.1)\n",
    "print(len(matched)/n_outliers * 100)\n",
    "print(len(matched2)/n_outliers * 100)"
   ]
  },
  {
   "cell_type": "code",
   "execution_count": null,
   "id": "f7ec57bf-3b08-4bb0-8bdc-2e4197670e00",
   "metadata": {},
   "outputs": [],
   "source": []
  }
 ],
 "metadata": {
  "kernelspec": {
   "display_name": "Python 3 (ipykernel)",
   "language": "python",
   "name": "python3"
  },
  "language_info": {
   "codemirror_mode": {
    "name": "ipython",
    "version": 3
   },
   "file_extension": ".py",
   "mimetype": "text/x-python",
   "name": "python",
   "nbconvert_exporter": "python",
   "pygments_lexer": "ipython3",
   "version": "3.9.7"
  }
 },
 "nbformat": 4,
 "nbformat_minor": 5
}
