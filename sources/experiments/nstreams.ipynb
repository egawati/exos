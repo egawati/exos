{
 "cells": [
  {
   "cell_type": "code",
   "execution_count": 1,
   "id": "104fc425-1f7a-4785-a38e-a8be64c5be89",
   "metadata": {},
   "outputs": [],
   "source": [
    "from ipynb.fs.full.metrics import exos_running_time_df\n",
    "from ipynb.fs.full.metrics import compute_accuracy\n",
    "import pandas as pd\n",
    "pd.set_option('precision', 2)"
   ]
  },
  {
   "cell_type": "markdown",
   "id": "eaee261d-c2d5-4607-9e3f-eb35dc3957f9",
   "metadata": {},
   "source": [
    "# Accuracy"
   ]
  },
  {
   "cell_type": "code",
   "execution_count": 2,
   "id": "7ac4a907-2384-4942-9e5c-7b26e84e8236",
   "metadata": {},
   "outputs": [],
   "source": [
    "results = list()\n",
    "n_streams = 2\n",
    "gt_folder = '/home/epanjei/Codes/OutlierGen/exos/nstreams/two'\n",
    "gt_filename = '2_100K_Case1.pkl'\n",
    "result_folder = '/home/epanjei/Codes/EXOS/sources/experiments/pickles/nstreams'\n",
    "matched, matched2, n_outliers = compute_accuracy(gt_folder= gt_folder, \n",
    "                                                 gt_filename= gt_filename, \n",
    "                                                 result_folder=result_folder, \n",
    "                                                 result_filename=gt_filename,\n",
    "                                                 n_streams=n_streams, \n",
    "                                                 window_size=1000,\n",
    "                                                 score_precision = 0.1)\n",
    "results.append((len(matched)/n_outliers) * 100)"
   ]
  },
  {
   "cell_type": "code",
   "execution_count": 3,
   "id": "58ec5fc2-d9c5-4afa-aae5-06eeab152358",
   "metadata": {},
   "outputs": [],
   "source": [
    "n_streams = 4\n",
    "gt_folder = '/home/epanjei/Codes/OutlierGen/exos/nstreams/four'\n",
    "gt_filename = '4_100K_Case1.pkl'\n",
    "result_folder = '/home/epanjei/Codes/EXOS/sources/experiments/pickles/nstreams'\n",
    "matched, matched2, n_outliers = compute_accuracy(gt_folder= gt_folder, \n",
    "                                                 gt_filename= gt_filename, \n",
    "                                                 result_folder=result_folder, \n",
    "                                                 result_filename=gt_filename,\n",
    "                                                 n_streams=n_streams, \n",
    "                                                 window_size=1000,\n",
    "                                                 score_precision = 0.1)\n",
    "results.append((len(matched)/n_outliers) * 100)"
   ]
  },
  {
   "cell_type": "code",
   "execution_count": 4,
   "id": "df793062-a894-420c-baee-9ada54932c4f",
   "metadata": {},
   "outputs": [],
   "source": [
    "n_streams = 8\n",
    "gt_folder = '/home/epanjei/Codes/OutlierGen/exos/nstreams/eight'\n",
    "gt_filename = '8_100K_Case1.pkl'\n",
    "result_folder = '/home/epanjei/Codes/EXOS/sources/experiments/pickles/nstreams'\n",
    "matched, matched2, n_outliers = compute_accuracy(gt_folder= gt_folder, \n",
    "                                                 gt_filename= gt_filename, \n",
    "                                                 result_folder=result_folder, \n",
    "                                                 result_filename=gt_filename,\n",
    "                                                 n_streams=n_streams, \n",
    "                                                 window_size=1000,\n",
    "                                                 score_precision = 0.1)\n",
    "results.append((len(matched)/n_outliers) * 100)"
   ]
  },
  {
   "cell_type": "code",
   "execution_count": 5,
   "id": "3451c7a7-f078-410a-ad6b-e30114086fab",
   "metadata": {},
   "outputs": [],
   "source": [
    "n_streams = 16\n",
    "gt_folder = '/home/epanjei/Codes/OutlierGen/exos/nstreams/sixteen'\n",
    "gt_filename = '16_100K_Case1.pkl'\n",
    "result_folder = '/home/epanjei/Codes/EXOS/sources/experiments/pickles/nstreams'\n",
    "matched, matched2, n_outliers = compute_accuracy(gt_folder= gt_folder, \n",
    "                                                 gt_filename= gt_filename, \n",
    "                                                 result_folder=result_folder, \n",
    "                                                 result_filename=gt_filename,\n",
    "                                                 n_streams=n_streams, \n",
    "                                                 window_size=1000,\n",
    "                                                 score_precision = 0.1)\n",
    "results.append((len(matched)/n_outliers) * 100)"
   ]
  },
  {
   "cell_type": "code",
   "execution_count": 6,
   "id": "55477112-415a-44c6-923e-e1994fc5907c",
   "metadata": {},
   "outputs": [],
   "source": [
    "n_streams = 24\n",
    "gt_folder = '/home/epanjei/Codes/OutlierGen/exos/nstreams/twentyfour'\n",
    "gt_filename = '24_100K_Case1.pkl'\n",
    "result_folder = '/home/epanjei/Codes/EXOS/sources/experiments/pickles/nstreams'\n",
    "matched, matched2, n_outliers = compute_accuracy(gt_folder= gt_folder, \n",
    "                                                 gt_filename= gt_filename, \n",
    "                                                 result_folder=result_folder, \n",
    "                                                 result_filename=gt_filename,\n",
    "                                                 n_streams=n_streams, \n",
    "                                                 window_size=1000,\n",
    "                                                 score_precision = 0.1)\n",
    "results.append((len(matched)/n_outliers) * 100)"
   ]
  },
  {
   "cell_type": "code",
   "execution_count": 7,
   "id": "14321fff-45f8-4421-95e9-7c0b2f9e70f6",
   "metadata": {},
   "outputs": [],
   "source": [
    "n_streams = 32\n",
    "gt_folder = '/home/epanjei/Codes/OutlierGen/exos/nstreams/thirtytwo'\n",
    "gt_filename = '32_100K_Case1.pkl'\n",
    "result_folder = '/home/epanjei/Codes/EXOS/sources/experiments/pickles/nstreams'\n",
    "matched, matched2, n_outliers = compute_accuracy(gt_folder= gt_folder, \n",
    "                                                 gt_filename= gt_filename, \n",
    "                                                 result_folder=result_folder, \n",
    "                                                 result_filename=gt_filename,\n",
    "                                                 n_streams=n_streams, \n",
    "                                                 window_size=1000,\n",
    "                                                 score_precision = 0.1)\n",
    "results.append((len(matched)/n_outliers) * 100)\n",
    "accuracy = {'nstreams' : (2,4,8,16,24,32), 'accuracy' : results}"
   ]
  },
  {
   "cell_type": "code",
   "execution_count": 10,
   "id": "0b1bc113-c705-4d2c-a0b1-aad2e44c6172",
   "metadata": {},
   "outputs": [
    {
     "data": {
      "text/html": [
       "<div>\n",
       "<style scoped>\n",
       "    .dataframe tbody tr th:only-of-type {\n",
       "        vertical-align: middle;\n",
       "    }\n",
       "\n",
       "    .dataframe tbody tr th {\n",
       "        vertical-align: top;\n",
       "    }\n",
       "\n",
       "    .dataframe thead th {\n",
       "        text-align: right;\n",
       "    }\n",
       "</style>\n",
       "<table border=\"1\" class=\"dataframe\">\n",
       "  <thead>\n",
       "    <tr style=\"text-align: right;\">\n",
       "      <th></th>\n",
       "      <th>nstreams</th>\n",
       "      <th>accuracy</th>\n",
       "    </tr>\n",
       "  </thead>\n",
       "  <tbody>\n",
       "    <tr>\n",
       "      <th>0</th>\n",
       "      <td>2</td>\n",
       "      <td>63.15</td>\n",
       "    </tr>\n",
       "    <tr>\n",
       "      <th>1</th>\n",
       "      <td>4</td>\n",
       "      <td>73.00</td>\n",
       "    </tr>\n",
       "    <tr>\n",
       "      <th>2</th>\n",
       "      <td>8</td>\n",
       "      <td>74.78</td>\n",
       "    </tr>\n",
       "    <tr>\n",
       "      <th>3</th>\n",
       "      <td>16</td>\n",
       "      <td>80.13</td>\n",
       "    </tr>\n",
       "    <tr>\n",
       "      <th>4</th>\n",
       "      <td>24</td>\n",
       "      <td>81.94</td>\n",
       "    </tr>\n",
       "    <tr>\n",
       "      <th>5</th>\n",
       "      <td>32</td>\n",
       "      <td>83.24</td>\n",
       "    </tr>\n",
       "  </tbody>\n",
       "</table>\n",
       "</div>"
      ],
      "text/plain": [
       "   nstreams  accuracy\n",
       "0         2     63.15\n",
       "1         4     73.00\n",
       "2         8     74.78\n",
       "3        16     80.13\n",
       "4        24     81.94\n",
       "5        32     83.24"
      ]
     },
     "execution_count": 10,
     "metadata": {},
     "output_type": "execute_result"
    }
   ],
   "source": [
    "df = pd.DataFrame(accuracy)\n",
    "df.to_pickle(f'{result_folder}/100K_Case1_k1.pkl')\n",
    "df"
   ]
  },
  {
   "cell_type": "markdown",
   "id": "6b924b78-fd68-4fe0-8f28-5adb93636c6e",
   "metadata": {},
   "source": [
    "# Execution Time"
   ]
  },
  {
   "cell_type": "code",
   "execution_count": 26,
   "id": "c5262da7-3f80-4110-8878-160384d95d74",
   "metadata": {},
   "outputs": [
    {
     "data": {
      "text/html": [
       "<div>\n",
       "<style scoped>\n",
       "    .dataframe tbody tr th:only-of-type {\n",
       "        vertical-align: middle;\n",
       "    }\n",
       "\n",
       "    .dataframe tbody tr th {\n",
       "        vertical-align: top;\n",
       "    }\n",
       "\n",
       "    .dataframe thead th {\n",
       "        text-align: right;\n",
       "    }\n",
       "</style>\n",
       "<table border=\"1\" class=\"dataframe\">\n",
       "  <thead>\n",
       "    <tr style=\"text-align: right;\">\n",
       "      <th></th>\n",
       "      <th>nstreams</th>\n",
       "      <th>total_running_time</th>\n",
       "    </tr>\n",
       "  </thead>\n",
       "  <tbody>\n",
       "    <tr>\n",
       "      <th>0</th>\n",
       "      <td>2</td>\n",
       "      <td>28.236000</td>\n",
       "    </tr>\n",
       "    <tr>\n",
       "      <th>1</th>\n",
       "      <td>4</td>\n",
       "      <td>32.760508</td>\n",
       "    </tr>\n",
       "    <tr>\n",
       "      <th>2</th>\n",
       "      <td>8</td>\n",
       "      <td>44.677942</td>\n",
       "    </tr>\n",
       "    <tr>\n",
       "      <th>3</th>\n",
       "      <td>16</td>\n",
       "      <td>82.385187</td>\n",
       "    </tr>\n",
       "    <tr>\n",
       "      <th>4</th>\n",
       "      <td>24</td>\n",
       "      <td>128.088126</td>\n",
       "    </tr>\n",
       "    <tr>\n",
       "      <th>5</th>\n",
       "      <td>32</td>\n",
       "      <td>172.367530</td>\n",
       "    </tr>\n",
       "  </tbody>\n",
       "</table>\n",
       "</div>"
      ],
      "text/plain": [
       "   nstreams  total_running_time\n",
       "0         2           28.236000\n",
       "1         4           32.760508\n",
       "2         8           44.677942\n",
       "3        16           82.385187\n",
       "4        24          128.088126\n",
       "5        32          172.367530"
      ]
     },
     "execution_count": 26,
     "metadata": {},
     "output_type": "execute_result"
    }
   ],
   "source": [
    "import pickle\n",
    "import os\n",
    "cwd = os.getcwd()\n",
    "\n",
    "from ipynb.fs.full.metrics import exos_running_time_df\n",
    "from ipynb.fs.full.metrics import unpickled_results\n",
    "\n",
    "result_folder = 'pickles/nstreams'\n",
    "nstreams = (2, 4, 8, 16, 24, 32)\n",
    "basic_filename = '100K_Case1.pkl'\n",
    "\n",
    "simulation_times = list()\n",
    "\n",
    "for i in nstreams:\n",
    "    rel_path = f'{result_folder}/{i}_{basic_filename}'\n",
    "    file_path = os.path.join(cwd, rel_path)\n",
    "    result = unpickled_results(file_path)\n",
    "    simulation_times.append(result['simulator_time'])\n",
    "\n",
    "execution_times = {'nstreams' : nstreams, 'total_running_time' : simulation_times}\n",
    "df = pd.DataFrame(execution_times)\n",
    "rel_path = f'{result_folder}/time_100K_Case1_k1.pkl'\n",
    "df.to_pickle(os.path.join(cwd, rel_path))\n",
    "df"
   ]
  },
  {
   "cell_type": "code",
   "execution_count": null,
   "id": "4950558e-6dbf-400b-8cdc-c42d7efe3ee1",
   "metadata": {},
   "outputs": [],
   "source": []
  }
 ],
 "metadata": {
  "kernelspec": {
   "display_name": "Python 3 (ipykernel)",
   "language": "python",
   "name": "python3"
  },
  "language_info": {
   "codemirror_mode": {
    "name": "ipython",
    "version": 3
   },
   "file_extension": ".py",
   "mimetype": "text/x-python",
   "name": "python",
   "nbconvert_exporter": "python",
   "pygments_lexer": "ipython3",
   "version": "3.10.2"
  }
 },
 "nbformat": 4,
 "nbformat_minor": 5
}
