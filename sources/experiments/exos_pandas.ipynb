{
 "cells": [
  {
   "cell_type": "code",
   "execution_count": 1,
   "id": "65c7ca91-1ab8-451a-8a1e-6b2a8d713259",
   "metadata": {},
   "outputs": [],
   "source": [
    "import pandas as pd\n",
    "import pickle"
   ]
  },
  {
   "cell_type": "code",
   "execution_count": 2,
   "id": "1e978f08-77c1-4630-9728-22b2d76ab9b0",
   "metadata": {},
   "outputs": [],
   "source": [
    "def exos_running_time_df(results):\n",
    "    df_dict = {}\n",
    "    output = results['output']\n",
    "    windows = output.keys()\n",
    "    neigh_times = list()\n",
    "    est_times = list()\n",
    "    out_attrs_times = list()\n",
    "    for window in windows:\n",
    "        est_times.append(output[window]['est_time'])\n",
    "        del output[window]['est_time']\n",
    "        neigh_time = max([output[window][stream_id]['temporal_neighbor_time'] for stream_id in output[window].keys()])\n",
    "        neigh_times.append(neigh_time)\n",
    "        out_attrs_time = max([output[window][stream_id]['out_attrs_time'] for stream_id in output[window].keys()])\n",
    "        out_attrs_times.append(out_attrs_time)\n",
    "    df_dict['windows'] = windows\n",
    "    df_dict['est_times'] = est_times\n",
    "    df_dict['neigh_times'] = neigh_times\n",
    "    df_dict['out_attrs_times'] = out_attrs_times\n",
    "    return pd.DataFrame.from_dict(df_dict)"
   ]
  },
  {
   "cell_type": "code",
   "execution_count": 3,
   "id": "266371eb-098e-472e-b4e8-1a1fd7901c0b",
   "metadata": {},
   "outputs": [],
   "source": [
    "def unpickled_results(filename):\n",
    "    exos_file = open(filename, 'rb')\n",
    "    results = pickle.load(exos_file)\n",
    "    return results"
   ]
  },
  {
   "cell_type": "code",
   "execution_count": 4,
   "id": "12e837e9-7022-44ee-bf42-9721729a940a",
   "metadata": {},
   "outputs": [
    {
     "data": {
      "text/plain": [
       "70.91050506299871"
      ]
     },
     "execution_count": 4,
     "metadata": {},
     "output_type": "execute_result"
    }
   ],
   "source": [
    "results = unpickled_results('default.pkl')\n",
    "exos_running_time_df(results)\n",
    "results['simulator_time']"
   ]
  },
  {
   "cell_type": "code",
   "execution_count": 5,
   "id": "3e023681-e51f-4bd2-9414-cbbbc7e216cb",
   "metadata": {},
   "outputs": [],
   "source": [
    "def compute_accuracy(gt_folder, gt_filename, result_folder, result_filename,\n",
    "                     n_streams, window_size):\n",
    "    result_path = f'{result_folder}/{result_filename}'\n",
    "    results = unpickled_results(result_path)\n",
    "    windows = tuple(results['output'].keys())\n",
    "    for i in range(n_streams):\n",
    "        gt_path = f'{gt_folder}/{i}_{gt_filename}'\n",
    "        df = pd.read_pickle(gt_path)\n",
    "        df = df[['label', 'outlying_attributes']]\n",
    "        for j, window in enumerate(windows):\n",
    "            new_df = df.iloc[j*window_size:(j+1)*window_size].reset_index(drop=True)\n",
    "            outlier_indices = results['output'][window][i]['outlier_indices'][i]\n",
    "            print(f'outlier indices at stream {i} window {j} is {outlier_indices}')"
   ]
  },
  {
   "cell_type": "code",
   "execution_count": 6,
   "id": "01fe10ce-59d5-4287-b37f-44c21741a271",
   "metadata": {},
   "outputs": [
    {
     "name": "stdout",
     "output_type": "stream",
     "text": [
      "outlier indices at stream 0 window 0 is [23, 73, 107, 8, 12, 65, 80, 91]\n",
      "outlier indices at stream 0 window 1 is [14, 78, 99, 108, 109, 119, 131, 147, 50, 55, 116]\n",
      "outlier indices at stream 0 window 2 is [36, 40, 43, 65, 125, 55, 108, 121]\n",
      "outlier indices at stream 0 window 3 is [40, 58, 152, 159, 92, 104]\n",
      "outlier indices at stream 0 window 4 is [45, 58, 80, 104, 126, 12, 33, 36, 90, 127, 135]\n",
      "outlier indices at stream 0 window 5 is [50, 70, 124, 128, 31, 76]\n",
      "outlier indices at stream 0 window 6 is [7, 17, 19, 58, 59, 145, 156, 72, 74, 90, 92, 115, 153]\n",
      "outlier indices at stream 0 window 7 is [39, 59, 67, 69, 72, 100, 127, 4, 26, 52, 126]\n",
      "outlier indices at stream 0 window 8 is [87, 89, 107, 122, 154, 91, 103, 127]\n",
      "outlier indices at stream 0 window 9 is [15, 17, 45, 160, 21, 81, 90, 98, 135, 143]\n",
      "outlier indices at stream 0 window 10 is [12, 38, 55, 76, 93, 109, 110, 147, 154, 0, 64, 157]\n",
      "outlier indices at stream 0 window 11 is [9, 24, 53, 112, 125, 2, 6, 13, 36, 79, 81, 82, 85, 100, 114, 124]\n",
      "outlier indices at stream 0 window 12 is [4, 11, 31, 61, 94, 96, 98, 123, 21, 73, 76, 118, 125]\n",
      "outlier indices at stream 0 window 13 is [40, 66, 73, 99, 103, 150, 0, 28, 47, 67, 76]\n",
      "outlier indices at stream 0 window 14 is [73, 124, 16, 23, 25, 42, 54, 62, 105, 121, 136]\n",
      "outlier indices at stream 0 window 15 is [18, 39, 75, 80, 97, 114, 123, 100, 126]\n",
      "outlier indices at stream 0 window 16 is [9, 43, 66, 76, 77, 116, 127, 33, 34, 47, 79, 135, 137]\n",
      "outlier indices at stream 0 window 17 is [4, 6, 35, 41, 53, 112, 117, 8, 27, 29, 54, 93, 101]\n",
      "outlier indices at stream 0 window 18 is [33, 47, 48, 67, 103, 111, 26, 30, 91, 129]\n",
      "outlier indices at stream 0 window 19 is [35, 42, 57, 76, 77, 90, 106, 161, 171, 23, 55, 89]\n",
      "outlier indices at stream 0 window 20 is [25, 26, 61, 71, 94, 103]\n",
      "outlier indices at stream 0 window 21 is [2, 38, 91, 136, 160, 67, 87, 95, 156]\n",
      "outlier indices at stream 0 window 22 is [6, 30, 54, 82, 22, 41, 49, 144]\n",
      "outlier indices at stream 0 window 23 is [2, 28, 110, 126, 55, 60, 83, 91, 124, 135]\n",
      "outlier indices at stream 0 window 24 is [18, 25, 35, 37, 50, 63, 103, 139, 143, 23, 42, 149]\n",
      "outlier indices at stream 0 window 25 is [5, 23, 67, 70, 91, 104, 111, 7]\n",
      "outlier indices at stream 0 window 26 is [10, 30, 36, 54, 64, 7, 27, 72, 130, 146]\n",
      "outlier indices at stream 0 window 27 is [87, 102, 104, 128, 10, 40, 43, 79, 82, 89, 115, 119, 123, 125]\n",
      "outlier indices at stream 0 window 28 is [33, 52, 84, 98]\n",
      "outlier indices at stream 0 window 29 is [4, 13, 78, 2, 73, 74, 88, 93, 127, 128, 129]\n",
      "outlier indices at stream 0 window 30 is [75, 76, 15, 44, 51, 68, 78, 83, 126, 131]\n",
      "outlier indices at stream 0 window 31 is [9, 15, 24, 48, 57, 79, 140, 19, 26, 131]\n",
      "outlier indices at stream 0 window 32 is [42, 46, 124, 158, 163, 3, 40, 48, 93, 145, 146]\n",
      "outlier indices at stream 0 window 33 is [50, 59, 93, 120, 2, 6, 13, 66, 71]\n",
      "outlier indices at stream 0 window 34 is [85, 103, 126, 13, 15, 47, 62, 78, 124, 142]\n",
      "outlier indices at stream 0 window 35 is [19, 47, 53, 56, 79, 103, 111, 2, 5, 16, 24, 42, 83, 94, 109]\n",
      "outlier indices at stream 0 window 36 is [28, 38, 79, 14, 89, 111]\n",
      "outlier indices at stream 0 window 37 is [4, 14, 90, 134, 146, 28, 75, 82, 130, 142]\n",
      "outlier indices at stream 0 window 38 is [28, 115, 133, 138, 38, 51]\n",
      "outlier indices at stream 0 window 39 is [3, 93, 0, 52, 59, 66, 77, 83, 127]\n",
      "outlier indices at stream 0 window 40 is [55, 108, 109, 139, 28, 43, 64]\n",
      "outlier indices at stream 0 window 41 is [83, 107, 16, 26, 50, 53, 61, 66, 84, 104]\n",
      "outlier indices at stream 0 window 42 is [21, 59, 100, 101, 135, 124, 141]\n",
      "outlier indices at stream 0 window 43 is [41, 75, 79, 0, 21, 46, 77, 107]\n",
      "outlier indices at stream 0 window 44 is [141, 13, 15, 36, 38, 88, 99, 101]\n",
      "outlier indices at stream 0 window 45 is [3, 12, 28, 30, 72, 137, 7, 33, 106, 129]\n",
      "outlier indices at stream 0 window 46 is [15, 29, 61, 86, 88, 100, 108, 116, 39, 57]\n",
      "outlier indices at stream 0 window 47 is [55, 79, 92, 4, 15, 105]\n",
      "outlier indices at stream 0 window 48 is [46, 85, 7, 55, 93, 101, 126]\n",
      "outlier indices at stream 0 window 49 is [9, 15, 25, 27, 35, 151, 6, 34, 97, 122, 152]\n",
      "outlier indices at stream 0 window 50 is [8, 19, 5, 13, 20, 23, 24, 113, 133]\n",
      "outlier indices at stream 0 window 51 is [13, 26, 48, 105, 132, 3, 23, 24, 59, 90]\n",
      "outlier indices at stream 0 window 52 is [21, 23, 41, 51, 57, 94, 4, 19, 36, 48, 49, 68, 93, 110]\n",
      "outlier indices at stream 0 window 53 is [3, 5, 22, 93, 110, 131, 7, 23, 48, 60, 76, 112, 129]\n",
      "outlier indices at stream 0 window 54 is [26, 82, 95, 111, 116, 125, 144, 42, 63, 92, 101, 127, 135]\n",
      "outlier indices at stream 0 window 55 is [74, 78, 89, 101, 136, 92]\n",
      "outlier indices at stream 0 window 56 is [0, 11, 28, 112, 114, 117, 21, 32, 47, 95, 119]\n",
      "outlier indices at stream 0 window 57 is [2, 12, 13, 43, 118, 148, 10, 54, 78, 83, 92, 115, 127]\n",
      "outlier indices at stream 0 window 58 is [2, 88, 98, 138, 154, 173, 13, 51, 66, 89, 105, 160, 162]\n",
      "outlier indices at stream 0 window 59 is [12, 19, 23, 46, 80, 94, 111, 25, 29, 61, 87]\n",
      "outlier indices at stream 0 window 60 is [6, 43, 49, 64, 66, 111, 155, 38, 40, 45, 55, 89, 122, 131, 142]\n",
      "outlier indices at stream 0 window 61 is [76, 86, 96, 131, 3, 52, 70, 75, 85]\n",
      "outlier indices at stream 0 window 62 is [28, 58, 89, 4, 9, 10, 25]\n",
      "outlier indices at stream 0 window 63 is [12, 43, 67, 1, 50, 96, 130, 148]\n",
      "outlier indices at stream 0 window 64 is [80, 96, 104, 119, 2, 47, 99, 110, 127]\n",
      "outlier indices at stream 0 window 65 is [2, 75, 88, 93, 118, 119, 39, 56, 68, 69, 87, 124]\n",
      "outlier indices at stream 0 window 66 is [35, 41, 53, 116, 133, 52, 64, 65, 138, 166]\n",
      "outlier indices at stream 0 window 67 is [37, 43, 85, 91, 118, 50, 54, 57, 60, 72, 84, 101, 155]\n",
      "outlier indices at stream 0 window 68 is [70, 103, 127, 3, 42, 91, 99]\n",
      "outlier indices at stream 0 window 69 is [9, 23, 51, 62, 100, 145, 146, 44, 73, 126, 127]\n",
      "outlier indices at stream 0 window 70 is [32, 33, 102, 134, 12, 78, 103, 109]\n",
      "outlier indices at stream 0 window 71 is [8, 14, 20, 41, 47, 115, 125, 137, 34, 35, 40, 67, 72, 93, 147]\n",
      "outlier indices at stream 0 window 72 is [23, 46, 128, 27, 49, 59, 70, 84, 107, 125, 145]\n",
      "outlier indices at stream 0 window 73 is [12, 76, 141, 19, 50, 115, 133, 138, 140, 154, 170]\n",
      "outlier indices at stream 0 window 74 is [45, 23, 24, 31, 64, 120]\n",
      "outlier indices at stream 0 window 75 is [20, 95, 103, 117, 135, 34, 63, 64, 120, 145]\n",
      "outlier indices at stream 0 window 76 is [28, 69, 81, 112, 139, 146, 149, 30, 114, 123, 125, 137]\n",
      "outlier indices at stream 0 window 77 is [42, 66, 87, 114, 126, 151, 13, 45, 85, 120, 144]\n",
      "outlier indices at stream 0 window 78 is [14, 17, 106, 156, 15, 51]\n",
      "outlier indices at stream 0 window 79 is [3, 30, 43, 54, 87, 53, 60, 78, 122]\n",
      "outlier indices at stream 0 window 80 is [18, 39, 93, 130, 24, 41, 50, 72, 91, 120]\n",
      "outlier indices at stream 0 window 81 is [29, 34, 47, 55, 79, 103, 105, 117, 50, 54, 99]\n",
      "outlier indices at stream 0 window 82 is [53, 66, 114, 121, 128, 19, 26, 31, 45, 77]\n",
      "outlier indices at stream 0 window 83 is [29, 44, 146, 148, 7, 54, 61, 67, 83, 84, 87, 91, 94, 125, 144]\n",
      "outlier indices at stream 0 window 84 is [28, 62, 71, 127, 144, 29, 73, 96, 99]\n",
      "outlier indices at stream 0 window 85 is [28, 54, 62, 81, 4, 16, 97, 117, 138, 149]\n",
      "outlier indices at stream 0 window 86 is [4, 120, 154, 8, 31, 38, 49, 54, 135]\n",
      "outlier indices at stream 0 window 87 is [15, 108, 113, 138, 13, 17, 37, 41, 51, 69, 95, 102, 123]\n",
      "outlier indices at stream 0 window 88 is [6, 34, 38, 47, 152, 7, 137]\n",
      "outlier indices at stream 0 window 89 is [5, 19, 78, 120, 138, 156, 46, 79, 85, 90]\n",
      "outlier indices at stream 0 window 90 is [22, 75, 126, 49, 119]\n",
      "outlier indices at stream 0 window 91 is [4, 19, 24, 53, 57, 84, 89, 105, 108, 120, 160, 12, 61, 67, 95, 104, 123]\n",
      "outlier indices at stream 0 window 92 is [19, 48, 84, 148, 9, 40, 87, 94, 127]\n",
      "outlier indices at stream 0 window 93 is [31, 75, 77, 13, 29, 38, 60, 93, 95]\n",
      "outlier indices at stream 0 window 94 is [15, 36, 129, 0, 10, 21, 63, 136, 137]\n",
      "outlier indices at stream 0 window 95 is [36, 37, 57, 147, 81, 130, 132, 140, 141, 151]\n",
      "outlier indices at stream 0 window 96 is [41, 104, 14, 42, 112]\n",
      "outlier indices at stream 0 window 97 is [1, 3, 12, 39, 124, 32, 63, 76]\n",
      "outlier indices at stream 0 window 98 is [1, 79, 100, 120, 128, 8, 30, 32, 33, 86, 129, 134, 142, 150]\n",
      "outlier indices at stream 0 window 99 is [6, 11, 12, 26, 34, 39, 44, 50, 60, 75, 108, 115, 138]\n"
     ]
    }
   ],
   "source": [
    "compute_accuracy(gt_folder='/home/epanjei/Codes/OutlierGen/exos/default', \n",
    "                 gt_filename='default.pkl', \n",
    "                 result_folder='.', \n",
    "                 result_filename='default.pkl',\n",
    "                 n_streams=1, \n",
    "                 window_size=1000)"
   ]
  },
  {
   "cell_type": "code",
   "execution_count": null,
   "id": "3ed3008f-62a5-4952-8cf1-bef8fb07e015",
   "metadata": {},
   "outputs": [],
   "source": []
  },
  {
   "cell_type": "code",
   "execution_count": null,
   "id": "ff48e928-6c92-4144-9eec-42a4aebd391c",
   "metadata": {},
   "outputs": [],
   "source": []
  }
 ],
 "metadata": {
  "kernelspec": {
   "display_name": "Python 3 (ipykernel)",
   "language": "python",
   "name": "python3"
  },
  "language_info": {
   "codemirror_mode": {
    "name": "ipython",
    "version": 3
   },
   "file_extension": ".py",
   "mimetype": "text/x-python",
   "name": "python",
   "nbconvert_exporter": "python",
   "pygments_lexer": "ipython3",
   "version": "3.9.7"
  }
 },
 "nbformat": 4,
 "nbformat_minor": 5
}
