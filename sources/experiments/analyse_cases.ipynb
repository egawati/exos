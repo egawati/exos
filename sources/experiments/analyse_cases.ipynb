{
 "cells": [
  {
   "cell_type": "code",
   "execution_count": 1,
   "id": "3c03ce4a-1ab6-493e-b303-a64b0eeb6036",
   "metadata": {},
   "outputs": [],
   "source": [
    "import pandas as pd\n",
    "pd.set_option('display.precision', 3)\n",
    "from ipynb.fs.full.graphs import plot_categorical_performance\n",
    "from ipynb.fs.full.graphs import draw_multiple_plots_by_cases"
   ]
  },
  {
   "cell_type": "markdown",
   "id": "b77b68ad-aabe-4887-b7f4-2370c3626114",
   "metadata": {},
   "source": [
    "## Case 1"
   ]
  },
  {
   "cell_type": "code",
   "execution_count": 2,
   "id": "15d20f9a-6334-4142-8c97-9824b873ef20",
   "metadata": {},
   "outputs": [],
   "source": [
    "bname = '100K'\n",
    "rel_path = 'dbpca/pickles/performance/Case1'\n",
    "df_exos_dbpca1 = pd.read_pickle(f'{rel_path}/aggregate_15_10K_Case1_30.pkl')"
   ]
  },
  {
   "cell_type": "code",
   "execution_count": 3,
   "id": "de9b863d-30ee-4c94-b874-403ea2da15d1",
   "metadata": {},
   "outputs": [],
   "source": [
    "df_exos_dbpca1.to_csv(f'{rel_path}/aggregate_15_10K_Case1_30.csv', index = False)"
   ]
  },
  {
   "cell_type": "markdown",
   "id": "a60e0428-3223-4dbe-9aa2-a5b5fc514338",
   "metadata": {},
   "source": [
    "## Case 4"
   ]
  },
  {
   "cell_type": "code",
   "execution_count": 4,
   "id": "8eb8ee75-9305-4b27-9746-5679971771e4",
   "metadata": {},
   "outputs": [],
   "source": [
    "bname = '100K'\n",
    "rel_path = 'dbpca/pickles/performance/Case4'\n",
    "df_exos_dbpca4 = pd.read_pickle(f'{rel_path}/aggregate_15_10K_Case4_30.pkl')"
   ]
  },
  {
   "cell_type": "code",
   "execution_count": 5,
   "id": "0d39d118-db93-415d-946a-80eb67738417",
   "metadata": {},
   "outputs": [],
   "source": [
    "df_exos_dbpca4.to_csv(f'{rel_path}/aggregate_15_10K_Case4_30.csv', index = False)"
   ]
  },
  {
   "cell_type": "markdown",
   "id": "cb3fe55e-4604-460c-90a7-dac12d72a59c",
   "metadata": {},
   "source": [
    "## Variance Test"
   ]
  },
  {
   "cell_type": "code",
   "execution_count": null,
   "id": "a66bba29-3bf7-4e99-bcf3-308826c09cdc",
   "metadata": {},
   "outputs": [],
   "source": []
  }
 ],
 "metadata": {
  "kernelspec": {
   "display_name": "Python 3 (ipykernel)",
   "language": "python",
   "name": "python3"
  },
  "language_info": {
   "codemirror_mode": {
    "name": "ipython",
    "version": 3
   },
   "file_extension": ".py",
   "mimetype": "text/x-python",
   "name": "python",
   "nbconvert_exporter": "python",
   "pygments_lexer": "ipython3",
   "version": "3.10.2"
  }
 },
 "nbformat": 4,
 "nbformat_minor": 5
}
