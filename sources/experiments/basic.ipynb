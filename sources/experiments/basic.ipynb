{
 "cells": [
  {
   "cell_type": "code",
   "execution_count": 1,
   "id": "a206eb2d-847c-4b42-acf9-aa888d120c1e",
   "metadata": {},
   "outputs": [],
   "source": [
    "import numpy as np\n",
    "import pandas as pd\n",
    "from skmultiflow.data import TemporalDataStream\n",
    "from exos.streams import run_exos_simulator\n"
   ]
  },
  {
   "cell_type": "code",
   "execution_count": 2,
   "id": "d1a850ab-2249-4ff2-b2fa-412d937931ab",
   "metadata": {},
   "outputs": [],
   "source": [
    "def run_basic_experiment(n_streams=3, size=200, \n",
    "                         window_size=100, n_attrs=2, \n",
    "                         multiplier=10, round_flag = False):\n",
    "    \"\"\"\n",
    "    results.keys()\n",
    "    dict_keys(['output', 'simulator_time'])\n",
    "        results['output'].keys()\n",
    "        dict_keys(['window_0', 'window_1'])\n",
    "            results['output']['window_0'].keys()\n",
    "            dict_keys([0, 1, 2, 'est_time'])\n",
    "                results['output']['window_0'][0].keys()\n",
    "                dict_keys(['out_attrs', 'outlier_indices', 'temporal_neighbor_time', 'out_attrs_time'])\n",
    "                    results['output']['window_0'][0]['out_attrs']\n",
    "                        list of dictionary of feature names and their corresponding contribution value\n",
    "                        the length of the list is equal to the number of outliers in the window ['window_0'] \n",
    "                        of the particular stream [0]\n",
    "                    \n",
    "                    results['output']['window_0'][0]['outlier_indices'].keys()\n",
    "                    dict_keys([0, 1, 2]) --> we don't need info of other streams but 0\n",
    "                    \n",
    "                    results['output']['window_0'][0]['temporal_neighbor_time']\n",
    "                    real number, running time required by temporal neighbor process at stream 0\n",
    "                    \n",
    "                    results['output']['window_0'][0]['out_attrs_time']\n",
    "                    real number, running time required by outlying attributes at stream 0\n",
    "        results['simulator_time']\n",
    "        real number, running time required to run the entire windows\n",
    "    \"\"\"\n",
    "    sources = list()\n",
    "    attributes = list()\n",
    "    feature_names = {}\n",
    "    counter = 0\n",
    "    for i in range(n_streams):\n",
    "        X = np.random.uniform(low=5, high=20, size=(size,n_attrs))\n",
    "        y = np.random.randint(2, size=size)\n",
    "        ts = TemporalDataStream(X, y)\n",
    "        sources.append(ts)\n",
    "        feature_names[i] = [f'A{j}' for j in range(n_attrs)]\n",
    "        attributes.append(counter)\n",
    "        counter = counter + X.shape[1]\n",
    "    d = n_streams * n_attrs\n",
    "    k = d\n",
    "    results = run_exos_simulator(sources, d, k, attributes, feature_names, \n",
    "                                 window_size, n_clusters = (), n_init_data = (), \n",
    "                                 multiplier = 10, round_flag=True)\n",
    "    return results"
   ]
  },
  {
   "cell_type": "code",
   "execution_count": 3,
   "id": "c4452040-fb69-4339-bf44-316e39e6260f",
   "metadata": {},
   "outputs": [],
   "source": [
    "def exos_output_df(results, ):\n",
    "    pass"
   ]
  },
  {
   "cell_type": "code",
   "execution_count": 4,
   "id": "f0f5dd32-e332-4af6-a0e6-00a082919be9",
   "metadata": {},
   "outputs": [],
   "source": [
    "def exos_running_time_df(results):\n",
    "    df_dict = {}\n",
    "    output = results['output']\n",
    "    windows = output.keys()\n",
    "    neigh_times = list()\n",
    "    est_times = list()\n",
    "    out_attrs_times = list()\n",
    "    for window in windows:\n",
    "        est_times.append(output[window]['est_time'])\n",
    "        del output[window]['est_time']\n",
    "        neigh_time = max([output[window][stream_id]['temporal_neighbor_time'] for stream_id in output[window].keys()])\n",
    "        neigh_times.append(neigh_time)\n",
    "        out_attrs_time = max([output[window][stream_id]['out_attrs_time'] for stream_id in output[window].keys()])\n",
    "        out_attrs_times.append(out_attrs_time)\n",
    "    df_dict['windows'] = windows\n",
    "    df_dict['est_times'] = est_times\n",
    "    df_dict['neigh_times'] = neigh_times\n",
    "    df_dict['out_attrs_times'] = out_attrs_times\n",
    "    return pd.DataFrame.from_dict(df_dict)"
   ]
  },
  {
   "cell_type": "code",
   "execution_count": 7,
   "id": "ca695a0b-fa38-4b75-89e6-dc37e935758b",
   "metadata": {},
   "outputs": [
    {
     "name": "stderr",
     "output_type": "stream",
     "text": [
      "Start exos simulator\n",
      "Initializing Queues\n"
     ]
    },
    {
     "name": "stdout",
     "output_type": "stream",
     "text": [
      "producer 0 / 1241 exit\n",
      "producer 1 / 1242 exit\n",
      "customer 1243 exit\n",
      "Run estimator\n",
      "\n",
      "Ready to waking up temporal neighbor\n",
      "\n",
      "estimator --> temporal neighbor woken\n",
      "\n",
      "Run estimator\n",
      "\n",
      "Ready to waking up temporal neighbor\n",
      "\n",
      "estimator --> temporal neighbor woken\n",
      "\n",
      "estimator done\n",
      "\n",
      "estimator 1244 exit\n",
      "\n",
      "Temporal neighbor 0 woke\n",
      "Temporal neighbor 0 woke\n",
      "Temporal neighbor 0 DONE\n",
      "Temporal neighbor 0 / 1245 exit\n",
      "Temporal neighbor 1 woke\n",
      "Temporal neighbor 1 woke\n",
      "Temporal neighbor 1 DONE\n",
      "Temporal neighbor 1 / 1246 exit\n",
      "Generating outlying attributes at 0\n",
      "\n",
      "Generating outlying attributes at 0\n",
      "\n",
      "OA 0 DONE\n",
      "\n",
      "OA 0 / 1247 exit\n",
      "\n",
      "Generating outlying attributes at 1\n",
      "\n",
      "Generating outlying attributes at 1\n",
      "\n",
      "OA 1 DONE\n",
      "\n",
      "OA 1 / 1248 exit\n",
      "\n"
     ]
    },
    {
     "name": "stderr",
     "output_type": "stream",
     "text": [
      "Terminating processes\n",
      "Done\n"
     ]
    },
    {
     "name": "stdout",
     "output_type": "stream",
     "text": [
      "produser at main 0 done\n",
      "produser at main 1 done\n",
      "consumer at main done\n",
      "temporal neighbor at main 0 done\n",
      "explanation at main 0 done\n",
      "temporal neighbor at main 1 done\n",
      "explanation at main 1 done\n",
      "estimator at main done\n",
      "{'output': {'window_0': {0: {'out_attrs': [{0: 0.09504985222491996, 1: 0.08209465925098317}, {0: 0.4561651552517891, 1: 0.5001936541306913}], 'outlier_indices': {0: [0, 1], 1: [0, 1]}, 'temporal_neighbor_time': 0.0008326589997977862, 'out_attrs_time': 0.007241084000042974}, 1: {'out_attrs': [{0: 0.010189129386220845, 1: 0.006227485968502901}, {0: 0.009771871640046429, 1: 0.006585862767307418}], 'outlier_indices': {0: [0, 1], 1: [0, 1]}, 'temporal_neighbor_time': 0.0006151570000838547, 'out_attrs_time': 0.004860803000156011}, 'est_time': 0.009314987999914592}, 'window_1': {0: {'out_attrs': [{0: 0.12503481602744154, 1: 0.17988134957316287}], 'outlier_indices': {0: [0], 1: [0]}, 'temporal_neighbor_time': 0.00038298499998745683, 'out_attrs_time': 0.06311179199997241}, 1: {'out_attrs': [{0: 0.0028256568673618535, 1: 0.005437350380463451}], 'outlier_indices': {0: [0], 1: [0]}, 'temporal_neighbor_time': 0.0004989970000224275, 'out_attrs_time': 0.0036467079999056295}, 'est_time': 0.0010016639998866594}}, 'simulator_time': 6.596252927000023}\n"
     ]
    }
   ],
   "source": [
    "data1 = np.array([[1,2],[3,4],[5,6],[7,8], [9,10],\n",
    "                  [21, 22], [23, 24], [25, 26], [27, 28], [29, 30]])\n",
    "data2 = np.array([[111,112],[113,114],[115,116],[117,118], [119,120],\n",
    "                  [221, 222], [223, 224], [225, 226], [227, 228], [229, 230]])\n",
    "\n",
    "y = np.array([0, 0, 1, 1, 0, 0, 0, 0, 0, 1])\n",
    "ts1 = TemporalDataStream(data1, y)\n",
    "ts2 = TemporalDataStream(data2, y)\n",
    "window_size = 5\n",
    "sources = (ts1, ts2)\n",
    "attributes = (0,2)\n",
    "feature_names = {0: ('A1', 'A2'), 1:('B1', 'B2')}\n",
    "d = 4\n",
    "k = d\n",
    "results = run_exos_simulator(sources, d, k, attributes, feature_names, \n",
    "                                 window_size, n_clusters = (), n_init_data = (), \n",
    "                                 multiplier = 10, round_flag=True)\n",
    "print(results)"
   ]
  },
  {
   "cell_type": "code",
   "execution_count": null,
   "id": "f42563d9-ccb8-42e8-a507-6f34c21a1626",
   "metadata": {},
   "outputs": [],
   "source": []
  }
 ],
 "metadata": {
  "kernelspec": {
   "display_name": "Python 3 (ipykernel)",
   "language": "python",
   "name": "python3"
  },
  "language_info": {
   "codemirror_mode": {
    "name": "ipython",
    "version": 3
   },
   "file_extension": ".py",
   "mimetype": "text/x-python",
   "name": "python",
   "nbconvert_exporter": "python",
   "pygments_lexer": "ipython3",
   "version": "3.10.2"
  }
 },
 "nbformat": 4,
 "nbformat_minor": 5
}
