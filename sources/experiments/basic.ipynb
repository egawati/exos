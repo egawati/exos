{
 "cells": [
  {
   "cell_type": "code",
   "execution_count": 1,
   "id": "a206eb2d-847c-4b42-acf9-aa888d120c1e",
   "metadata": {},
   "outputs": [],
   "source": [
    "import numpy as np\n",
    "import pandas as pd\n",
    "from skmultiflow.data import TemporalDataStream\n",
    "from exos.streams import run_exos_simulator\n"
   ]
  },
  {
   "cell_type": "code",
   "execution_count": 2,
   "id": "d1a850ab-2249-4ff2-b2fa-412d937931ab",
   "metadata": {},
   "outputs": [],
   "source": [
    "def run_basic_experiment(n_streams=3, size=200, \n",
    "                         window_size=100, n_attrs=2, \n",
    "                         multiplier=10, round_flag = False):\n",
    "    \"\"\"\n",
    "    results.keys()\n",
    "    dict_keys(['output', 'simulator_time'])\n",
    "        results['output'].keys()\n",
    "        dict_keys(['window_0', 'window_1'])\n",
    "            results['output']['window_0'].keys()\n",
    "            dict_keys([0, 1, 2, 'est_time'])\n",
    "                results['output']['window_0'][0].keys()\n",
    "                dict_keys(['out_attrs', 'outlier_indices', 'temporal_neighbor_time', 'out_attrs_time'])\n",
    "                    results['output']['window_0'][0]['out_attrs']\n",
    "                        list of dictionary of feature names and their corresponding contribution value\n",
    "                        the length of the list is equal to the number of outliers in the window ['window_0'] \n",
    "                        of the particular stream [0]\n",
    "                    \n",
    "                    results['output']['window_0'][0]['outlier_indices'].keys()\n",
    "                    dict_keys([0, 1, 2]) --> we don't need info of other streams but 0\n",
    "                    \n",
    "                    results['output']['window_0'][0]['temporal_neighbor_time']\n",
    "                    real number, running time required by temporal neighbor process at stream 0\n",
    "                    \n",
    "                    results['output']['window_0'][0]['out_attrs_time']\n",
    "                    real number, running time required by outlying attributes at stream 0\n",
    "        results['simulator_time']\n",
    "        real number, running time required to run the entire windows\n",
    "    \"\"\"\n",
    "    sources = list()\n",
    "    attributes = list()\n",
    "    feature_names = {}\n",
    "    counter = 0\n",
    "    for i in range(n_streams):\n",
    "        X = np.random.uniform(low=5, high=20, size=(size,n_attrs))\n",
    "        y = np.random.randint(2, size=size)\n",
    "        ts = TemporalDataStream(X, y)\n",
    "        sources.append(ts)\n",
    "        feature_names[i] = [f'A{j}' for j in range(n_attrs)]\n",
    "        attributes.append(counter)\n",
    "        counter = counter + X.shape[1]\n",
    "    d = n_streams * n_attrs\n",
    "    k = d\n",
    "    results = run_exos_simulator(sources, d, k, attributes, feature_names, \n",
    "                                 window_size, n_clusters = (), n_init_data = (), \n",
    "                                 multiplier = 10, round_flag=True)\n",
    "    return results"
   ]
  },
  {
   "cell_type": "code",
   "execution_count": 3,
   "id": "c4452040-fb69-4339-bf44-316e39e6260f",
   "metadata": {},
   "outputs": [],
   "source": [
    "def exos_output_df(results, ):\n",
    "    pass"
   ]
  },
  {
   "cell_type": "code",
   "execution_count": 4,
   "id": "f0f5dd32-e332-4af6-a0e6-00a082919be9",
   "metadata": {},
   "outputs": [],
   "source": [
    "def exos_running_time_df(results):\n",
    "    df_dict = {}\n",
    "    output = results['output']\n",
    "    windows = output.keys()\n",
    "    neigh_times = list()\n",
    "    est_times = list()\n",
    "    out_attrs_times = list()\n",
    "    for window in windows:\n",
    "        est_times.append(output[window]['est_time'])\n",
    "        del output[window]['est_time']\n",
    "        neigh_time = max([output[window][stream_id]['temporal_neighbor_time'] for stream_id in output[window].keys()])\n",
    "        neigh_times.append(neigh_time)\n",
    "        out_attrs_time = max([output[window][stream_id]['out_attrs_time'] for stream_id in output[window].keys()])\n",
    "        out_attrs_times.append(out_attrs_time)\n",
    "    df_dict['windows'] = windows\n",
    "    df_dict['est_times'] = est_times\n",
    "    df_dict['neigh_times'] = neigh_times\n",
    "    df_dict['out_attrs_times'] = out_attrs_times\n",
    "    return pd.DataFrame.from_dict(df_dict)"
   ]
  },
  {
   "cell_type": "code",
   "execution_count": 5,
   "id": "ca695a0b-fa38-4b75-89e6-dc37e935758b",
   "metadata": {},
   "outputs": [
    {
     "name": "stderr",
     "output_type": "stream",
     "text": [
      "Start exos simulator\n",
      "Initializing Queues\n",
      "producer 1 / 30985 exit\n",
      "producer 0 / 30980 exit\n",
      "customer 30993 exit\n",
      "Run estimator\n",
      "\n",
      "Run temporal neighbor 0\n",
      "\n",
      "Run temporal neighbor 1\n",
      "\n",
      "Generating outlying attributes at 0\n",
      "\n",
      "Generating outlying attributes at 1\n",
      "\n"
     ]
    },
    {
     "name": "stdout",
     "output_type": "stream",
     "text": [
      "hyperplane weights are [-0.02647631  0.00123104]\n",
      "\n",
      "hyperplane weights are [ 0.00117681 -0.00488398]\n",
      "\n",
      "outlier_indices <class 'list'>\n",
      "hyperplane weights are [0. 0.]\n",
      "\n"
     ]
    },
    {
     "name": "stderr",
     "output_type": "stream",
     "text": [
      "produser at main 0 done\n",
      "\n",
      "produser at main 1 done\n",
      "\n",
      "/home/epanjei/Codes/EXOS/sources/exos.explainer/src/exos/explainer/outlying_attributes.py:63: RuntimeWarning: invalid value encountered in true_divide\n",
      "  attr_contributions = abs_weights/np.sum(abs_weights)\n",
      "consumer at main done\n",
      "\n"
     ]
    },
    {
     "name": "stdout",
     "output_type": "stream",
     "text": [
      "outlier_indices <class 'list'>"
     ]
    },
    {
     "name": "stderr",
     "output_type": "stream",
     "text": [
      "value is 1\n",
      "\n"
     ]
    },
    {
     "name": "stdout",
     "output_type": "stream",
     "text": [
      "\n"
     ]
    },
    {
     "name": "stderr",
     "output_type": "stream",
     "text": [
      "Ready to waking up temporal neighbor\n",
      "\n",
      "estimator --> temporal neighbor woken\n",
      "\n",
      "Temporal neighbor 1 woke\n",
      "Temporal neighbor 0 woke\n",
      "Run temporal neighbor 1\n",
      "\n",
      "Run temporal neighbor 0\n",
      "\n",
      "Run estimator\n",
      "\n",
      "Generating outlying attributes at 0\n",
      "\n",
      "Generating outlying attributes at 1\n",
      "\n"
     ]
    },
    {
     "name": "stdout",
     "output_type": "stream",
     "text": [
      "hyperplane weights are [0. 0.]\n",
      "hyperplane weights are [0. 0.]\n",
      "\n",
      "\n"
     ]
    },
    {
     "name": "stderr",
     "output_type": "stream",
     "text": [
      "/home/epanjei/Codes/EXOS/sources/exos.explainer/src/exos/explainer/outlying_attributes.py:63: RuntimeWarning: invalid value encountered in true_divide\n",
      "  attr_contributions = abs_weights/np.sum(abs_weights)\n"
     ]
    },
    {
     "name": "stdout",
     "output_type": "stream",
     "text": [
      "outlier_indices <class 'list'>"
     ]
    },
    {
     "name": "stderr",
     "output_type": "stream",
     "text": [
      "/home/epanjei/Codes/EXOS/sources/exos.explainer/src/exos/explainer/outlying_attributes.py:63: RuntimeWarning: invalid value encountered in true_divide\n",
      "  attr_contributions = abs_weights/np.sum(abs_weights)\n"
     ]
    },
    {
     "name": "stdout",
     "output_type": "stream",
     "text": [
      "\n",
      "outlier_indices <class 'list'>\n"
     ]
    },
    {
     "name": "stderr",
     "output_type": "stream",
     "text": [
      "Ready to waking up temporal neighbor\n",
      "\n",
      "estimator --> temporal neighbor woken\n",
      "\n",
      "Temporal neighbor 1 woke\n",
      "Temporal neighbor 0 woke\n",
      "Run temporal neighbor 1\n",
      "\n",
      "Run temporal neighbor 0\n",
      "\n",
      "Temporal neighbor 1 DONE\n",
      "estimator done\n",
      "\n",
      "Temporal neighbor 0 DONE\n",
      "Temporal neighbor 1 / 31032 exit\n",
      "estimator 31005 exit\n",
      "\n",
      "OA 1 DONE\n",
      "\n",
      "Temporal neighbor 0 / 31021 exit\n",
      "OA 1 / 31052 exit\n",
      "\n",
      "OA 0 DONE\n",
      "\n",
      "OA 0 / 31042 exit\n",
      "\n",
      "temporal neighbor at main 0 done\n",
      "\n",
      "temporal neighbor at main 1 done\n",
      "\n",
      "value is -1\n",
      "\n",
      "estimator at main done\n",
      "\n",
      "value is -1\n",
      "\n",
      "OA at main 0 done\n",
      "\n",
      "OA at main 1 done\n",
      "\n",
      "value is -1\n",
      "\n",
      "Terminating processes\n",
      "Done\n"
     ]
    },
    {
     "name": "stdout",
     "output_type": "stream",
     "text": [
      "{'output': {'window_0': {0: {'out_attrs': [{'A1': 0.9555700206688228, 'A2': 0.044429979331177316}, {'A1': 0.19416833672225858, 'A2': 0.8058316632777414}], 'outlier_indices': {0: [2, 3], 1: [2, 3]}, 'temporal_neighbor_time': 0.015239926000504056, 'out_attrs_time': 0.03249625399985234}, 1: {'out_attrs': [{}], 'outlier_indices': {0: [2, 3], 1: [2, 3]}, 'temporal_neighbor_time': 0.015281623000191757, 'out_attrs_time': 0.025290081999628455}, 'est_time': 0.025495214000329725}, 'window_1': {0: {'out_attrs': [{}], 'outlier_indices': {0: [4], 1: [4]}, 'temporal_neighbor_time': 0.003679180001199711, 'out_attrs_time': 0.024588078000306268}, 1: {'out_attrs': [{}], 'outlier_indices': {0: [4], 1: [4]}, 'temporal_neighbor_time': 0.0035289459992782213, 'out_attrs_time': 0.016368747999877087}, 'est_time': 0.005715556999348337}}, 'simulator_time': 0.3930263679994823}\n"
     ]
    }
   ],
   "source": [
    "data1 = np.array([[1,2],[3,4],[5,600],[700,8], [9,10],\n",
    "                  [21, 22], [23, 24], [25, 26], [27, 28], [200, 300]])\n",
    "data2 = np.array([[111,112],[113,114],[5,116],[117,8], [119,120],\n",
    "                  [221, 222], [223, 224], [225, 226], [227, 228], [1000,1001]])\n",
    "\n",
    "y = np.array([0, 0, 1, 1, 0, 0, 0, 0, 0, 1])\n",
    "y2 = np.array([0, 0, 0, 1, 0, 0, 0, 0, 0, 1])\n",
    "ts1 = TemporalDataStream(data1, y)\n",
    "ts2 = TemporalDataStream(data2, y2)\n",
    "window_size = 5\n",
    "sources = (ts1, ts2)\n",
    "attributes = (0,2)\n",
    "feature_names = {0: ('A1', 'A2'), 1:('B1', 'B2')}\n",
    "d = 4\n",
    "k = d\n",
    "results = run_exos_simulator(sources, d, k, attributes, feature_names, \n",
    "                                 window_size, n_clusters = (), n_init_data = (), \n",
    "                                 round_flag=True)\n",
    "print(results)"
   ]
  },
  {
   "cell_type": "code",
   "execution_count": 6,
   "id": "d4fcae63-25e5-49a2-884d-2ab74b4f7c1b",
   "metadata": {},
   "outputs": [
    {
     "name": "stdout",
     "output_type": "stream",
     "text": [
      "{\n",
      "  \"output\": {\n",
      "    \"window_0\": {\n",
      "      \"0\": {\n",
      "        \"out_attrs\": [\n",
      "          {\n",
      "            \"A1\": 0.9555700206688228,\n",
      "            \"A2\": 0.044429979331177316\n",
      "          },\n",
      "          {\n",
      "            \"A1\": 0.19416833672225858,\n",
      "            \"A2\": 0.8058316632777414\n",
      "          }\n",
      "        ],\n",
      "        \"outlier_indices\": {\n",
      "          \"0\": [\n",
      "            2,\n",
      "            3\n",
      "          ],\n",
      "          \"1\": [\n",
      "            2,\n",
      "            3\n",
      "          ]\n",
      "        },\n",
      "        \"temporal_neighbor_time\": 0.015239926000504056,\n",
      "        \"out_attrs_time\": 0.03249625399985234\n",
      "      },\n",
      "      \"1\": {\n",
      "        \"out_attrs\": [\n",
      "          {}\n",
      "        ],\n",
      "        \"outlier_indices\": {\n",
      "          \"0\": [\n",
      "            2,\n",
      "            3\n",
      "          ],\n",
      "          \"1\": [\n",
      "            2,\n",
      "            3\n",
      "          ]\n",
      "        },\n",
      "        \"temporal_neighbor_time\": 0.015281623000191757,\n",
      "        \"out_attrs_time\": 0.025290081999628455\n",
      "      },\n",
      "      \"est_time\": 0.025495214000329725\n",
      "    },\n",
      "    \"window_1\": {\n",
      "      \"0\": {\n",
      "        \"out_attrs\": [\n",
      "          {}\n",
      "        ],\n",
      "        \"outlier_indices\": {\n",
      "          \"0\": [\n",
      "            4\n",
      "          ],\n",
      "          \"1\": [\n",
      "            4\n",
      "          ]\n",
      "        },\n",
      "        \"temporal_neighbor_time\": 0.003679180001199711,\n",
      "        \"out_attrs_time\": 0.024588078000306268\n",
      "      },\n",
      "      \"1\": {\n",
      "        \"out_attrs\": [\n",
      "          {}\n",
      "        ],\n",
      "        \"outlier_indices\": {\n",
      "          \"0\": [\n",
      "            4\n",
      "          ],\n",
      "          \"1\": [\n",
      "            4\n",
      "          ]\n",
      "        },\n",
      "        \"temporal_neighbor_time\": 0.0035289459992782213,\n",
      "        \"out_attrs_time\": 0.016368747999877087\n",
      "      },\n",
      "      \"est_time\": 0.005715556999348337\n",
      "    }\n",
      "  },\n",
      "  \"simulator_time\": 0.3930263679994823\n",
      "}\n"
     ]
    }
   ],
   "source": [
    "import json\n",
    "# Serializing json  \n",
    "json_object = json.dumps(results, indent = 2) \n",
    "print(json_object)"
   ]
  },
  {
   "cell_type": "code",
   "execution_count": 8,
   "id": "50bf4267-6131-426a-a46b-7271216550da",
   "metadata": {},
   "outputs": [
    {
     "data": {
      "text/plain": [
       "dict_keys(['window_0', 'window_1'])"
      ]
     },
     "execution_count": 8,
     "metadata": {},
     "output_type": "execute_result"
    }
   ],
   "source": [
    "results['output'].keys()"
   ]
  },
  {
   "cell_type": "code",
   "execution_count": null,
   "id": "c87b7094-efb3-40a7-80df-48ab6cd09ddf",
   "metadata": {},
   "outputs": [],
   "source": []
  }
 ],
 "metadata": {
  "kernelspec": {
   "display_name": "Python 3 (ipykernel)",
   "language": "python",
   "name": "python3"
  },
  "language_info": {
   "codemirror_mode": {
    "name": "ipython",
    "version": 3
   },
   "file_extension": ".py",
   "mimetype": "text/x-python",
   "name": "python",
   "nbconvert_exporter": "python",
   "pygments_lexer": "ipython3",
   "version": "3.9.7"
  }
 },
 "nbformat": 4,
 "nbformat_minor": 5
}
