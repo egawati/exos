{
 "cells": [
  {
   "cell_type": "code",
   "execution_count": 12,
   "id": "a206eb2d-847c-4b42-acf9-aa888d120c1e",
   "metadata": {},
   "outputs": [],
   "source": [
    "import numpy as np\n",
    "import pandas as pd\n",
    "from skmultiflow.data import TemporalDataStream\n",
    "from exos.streams import run_exos_simulator"
   ]
  },
  {
   "cell_type": "code",
   "execution_count": 13,
   "id": "d1a850ab-2249-4ff2-b2fa-412d937931ab",
   "metadata": {},
   "outputs": [],
   "source": [
    "def run_basic_experiment(n_streams=3, size=200, \n",
    "                         window_size=100, n_attrs=2, \n",
    "                         multiplier=10, round_flag = False):\n",
    "    \"\"\"\n",
    "    results.keys()\n",
    "    dict_keys(['output', 'simulator_time'])\n",
    "        results['output'].keys()\n",
    "        dict_keys(['window_0', 'window_1'])\n",
    "            results['output']['window_0'].keys()\n",
    "            dict_keys([0, 1, 2, 'est_time'])\n",
    "                results['output']['window_0'][0].keys()\n",
    "                dict_keys(['out_attrs', 'outlier_indices', 'temporal_neighbor_time', 'out_attrs_time'])\n",
    "                    results['output']['window_0'][0]['out_attrs']\n",
    "                        list of dictionary of feature names and their corresponding contribution value\n",
    "                        the length of the list is equal to the number of outliers in the window ['window_0'] \n",
    "                        of the particular stream [0]\n",
    "                    \n",
    "                    results['output']['window_0'][0]['outlier_indices'].keys()\n",
    "                    dict_keys([0, 1, 2]) --> we don't need info of other streams but 0\n",
    "                    \n",
    "                    results['output']['window_0'][0]['temporal_neighbor_time']\n",
    "                    real number, running time required by temporal neighbor process at stream 0\n",
    "                    \n",
    "                    results['output']['window_0'][0]['out_attrs_time']\n",
    "                    real number, running time required by outlying attributes at stream 0\n",
    "        results['simulator_time']\n",
    "        real number, running time required to run the entire windows\n",
    "    \"\"\"\n",
    "    sources = list()\n",
    "    attributes = list()\n",
    "    feature_names = {}\n",
    "    counter = 0\n",
    "    for i in range(n_streams):\n",
    "        X = np.random.uniform(low=5, high=20, size=(size,n_attrs))\n",
    "        y = np.random.randint(2, size=size)\n",
    "        ts = TemporalDataStream(X, y)\n",
    "        sources.append(ts)\n",
    "        feature_names[i] = [f'A{j}' for j in range(n_attrs)]\n",
    "        attributes.append(counter)\n",
    "        counter = counter + X.shape[1]\n",
    "    d = n_streams * n_attrs\n",
    "    k = d\n",
    "    results = run_exos_simulator(sources, d, k, attributes, feature_names, \n",
    "                                 window_size, n_clusters = (), n_init_data = (), \n",
    "                                 multiplier = 10, round_flag=True)\n",
    "    return results"
   ]
  },
  {
   "cell_type": "code",
   "execution_count": 14,
   "id": "c4452040-fb69-4339-bf44-316e39e6260f",
   "metadata": {},
   "outputs": [],
   "source": [
    "def exos_output_df(results, ):\n",
    "    pass"
   ]
  },
  {
   "cell_type": "code",
   "execution_count": 15,
   "id": "f0f5dd32-e332-4af6-a0e6-00a082919be9",
   "metadata": {},
   "outputs": [],
   "source": [
    "def exos_running_time_df(results):\n",
    "    df_dict = {}\n",
    "    output = results['output']\n",
    "    windows = output.keys()\n",
    "    neigh_times = list()\n",
    "    est_times = list()\n",
    "    out_attrs_times = list()\n",
    "    for window in windows:\n",
    "        est_times.append(output[window]['est_time'])\n",
    "        del output[window]['est_time']\n",
    "        neigh_time = max([output[window][stream_id]['temporal_neighbor_time'] for stream_id in output[window].keys()])\n",
    "        neigh_times.append(neigh_time)\n",
    "        out_attrs_time = max([output[window][stream_id]['out_attrs_time'] for stream_id in output[window].keys()])\n",
    "        out_attrs_times.append(out_attrs_time)\n",
    "    df_dict['windows'] = windows\n",
    "    df_dict['est_times'] = est_times\n",
    "    df_dict['neigh_times'] = neigh_times\n",
    "    df_dict['out_attrs_times'] = out_attrs_times\n",
    "    return pd.DataFrame.from_dict(df_dict)"
   ]
  },
  {
   "cell_type": "code",
   "execution_count": null,
   "id": "66dbc1fa-6751-48fc-a750-13a70ba87c10",
   "metadata": {},
   "outputs": [
    {
     "name": "stderr",
     "output_type": "stream",
     "text": [
      "Start exos simulator\n",
      "Initializing Queues\n"
     ]
    }
   ],
   "source": [
    "results = run_basic_experiment(n_streams=32, size=200, \n",
    "                               window_size=100, n_attrs=5, \n",
    "                               multiplier=10, round_flag = False)\n"
   ]
  },
  {
   "cell_type": "code",
   "execution_count": 11,
   "id": "b37d9e5e-4d82-4b11-9986-950b9cc3c9f3",
   "metadata": {},
   "outputs": [
    {
     "data": {
      "text/html": [
       "<div>\n",
       "<style scoped>\n",
       "    .dataframe tbody tr th:only-of-type {\n",
       "        vertical-align: middle;\n",
       "    }\n",
       "\n",
       "    .dataframe tbody tr th {\n",
       "        vertical-align: top;\n",
       "    }\n",
       "\n",
       "    .dataframe thead th {\n",
       "        text-align: right;\n",
       "    }\n",
       "</style>\n",
       "<table border=\"1\" class=\"dataframe\">\n",
       "  <thead>\n",
       "    <tr style=\"text-align: right;\">\n",
       "      <th></th>\n",
       "      <th>windows</th>\n",
       "      <th>est_times</th>\n",
       "      <th>neigh_times</th>\n",
       "      <th>out_attrs_times</th>\n",
       "    </tr>\n",
       "  </thead>\n",
       "  <tbody>\n",
       "    <tr>\n",
       "      <th>0</th>\n",
       "      <td>window_0</td>\n",
       "      <td>0.034141</td>\n",
       "      <td>0.006438</td>\n",
       "      <td>0.238525</td>\n",
       "    </tr>\n",
       "    <tr>\n",
       "      <th>1</th>\n",
       "      <td>window_1</td>\n",
       "      <td>0.008403</td>\n",
       "      <td>0.006771</td>\n",
       "      <td>0.205190</td>\n",
       "    </tr>\n",
       "  </tbody>\n",
       "</table>\n",
       "</div>"
      ],
      "text/plain": [
       "    windows  est_times  neigh_times  out_attrs_times\n",
       "0  window_0   0.034141     0.006438         0.238525\n",
       "1  window_1   0.008403     0.006771         0.205190"
      ]
     },
     "execution_count": 11,
     "metadata": {},
     "output_type": "execute_result"
    }
   ],
   "source": [
    "exos_running_time_df(results)"
   ]
  },
  {
   "cell_type": "code",
   "execution_count": null,
   "id": "ca695a0b-fa38-4b75-89e6-dc37e935758b",
   "metadata": {},
   "outputs": [],
   "source": []
  }
 ],
 "metadata": {
  "kernelspec": {
   "display_name": "Python 3 (ipykernel)",
   "language": "python",
   "name": "python3"
  },
  "language_info": {
   "codemirror_mode": {
    "name": "ipython",
    "version": 3
   },
   "file_extension": ".py",
   "mimetype": "text/x-python",
   "name": "python",
   "nbconvert_exporter": "python",
   "pygments_lexer": "ipython3",
   "version": "3.10.2"
  }
 },
 "nbformat": 4,
 "nbformat_minor": 5
}
