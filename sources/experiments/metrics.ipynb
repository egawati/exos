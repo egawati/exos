{
 "cells": [
  {
   "cell_type": "code",
   "execution_count": 1,
   "id": "65c7ca91-1ab8-451a-8a1e-6b2a8d713259",
   "metadata": {},
   "outputs": [],
   "source": [
    "import pandas as pd\n",
    "import pickle"
   ]
  },
  {
   "cell_type": "code",
   "execution_count": 2,
   "id": "1e978f08-77c1-4630-9728-22b2d76ab9b0",
   "metadata": {},
   "outputs": [],
   "source": [
    "def exos_running_time_df(results):\n",
    "    df_dict = {}\n",
    "    output = results['output']\n",
    "    windows = output.keys()\n",
    "    neigh_times = list()\n",
    "    est_times = list()\n",
    "    out_attrs_times = list()\n",
    "    for window in windows:\n",
    "        est_times.append(output[window]['est_time'])\n",
    "        del output[window]['est_time']\n",
    "        neigh_time = max([output[window][stream_id]['temporal_neighbor_time'] for stream_id in output[window].keys()])\n",
    "        neigh_times.append(neigh_time)\n",
    "        out_attrs_time = max([output[window][stream_id]['out_attrs_time'] for stream_id in output[window].keys()])\n",
    "        out_attrs_times.append(out_attrs_time)\n",
    "    df_dict['windows'] = windows\n",
    "    df_dict['est_times'] = est_times\n",
    "    df_dict['neigh_times'] = neigh_times\n",
    "    df_dict['out_attrs_times'] = out_attrs_times\n",
    "    return pd.DataFrame.from_dict(df_dict)"
   ]
  },
  {
   "cell_type": "code",
   "execution_count": 3,
   "id": "266371eb-098e-472e-b4e8-1a1fd7901c0b",
   "metadata": {},
   "outputs": [],
   "source": [
    "def unpickled_results(filename):\n",
    "    exos_file = open(filename, 'rb')\n",
    "    results = pickle.load(exos_file)\n",
    "    return results"
   ]
  },
  {
   "cell_type": "code",
   "execution_count": 4,
   "id": "f6408a56-f548-40de-91c0-c1ca5ebc4150",
   "metadata": {},
   "outputs": [],
   "source": [
    "def match_attribute_based_on_contribution_score(outlying_attributes, ground_truth):\n",
    "    \"\"\"\n",
    "    Inputs\n",
    "    ------\n",
    "    outlying_attributes: dict\n",
    "        key-value pair, key=attribute's name, value=attribute's contribution score\n",
    "    ground_truth : list\n",
    "        list of outlying attributes\n",
    "    outlying attributes are ordered by their contribution scores from the highest to the lowest\n",
    "    \"\"\"\n",
    "    high_score_attr = list(outlying_attributes.keys())[0]\n",
    "    if high_score_attr in ground_truth:\n",
    "        return True\n",
    "    return False"
   ]
  },
  {
   "cell_type": "code",
   "execution_count": 5,
   "id": "7966e4b8-bb36-40c7-8fc9-c5ccb56919b2",
   "metadata": {},
   "outputs": [],
   "source": [
    "def match_all_attributes(outlying_attributes, ground_truth, score_precision):\n",
    "    \"\"\"\n",
    "    Inputs\n",
    "    ------\n",
    "    outlying_attributes: dict\n",
    "        key-value pair, key=attribute's name, value=attribute's contribution score\n",
    "    ground_truth : list\n",
    "        list of outlying attributes\n",
    "    \"\"\"\n",
    "    check = list(set(outlying_attributes.keys()) & set(ground_truth))\n",
    "    if len(check) == len(ground_truth):\n",
    "        return True\n",
    "    else:\n",
    "        return False"
   ]
  },
  {
   "cell_type": "code",
   "execution_count": 6,
   "id": "72ec1683-f831-4d64-a0fb-bb674cb35612",
   "metadata": {},
   "outputs": [],
   "source": [
    "def match_all_attributes_v2(outlying_attributes, ground_truth, score_precision):\n",
    "    \"\"\"\n",
    "    Inputs\n",
    "    ------\n",
    "    outlying_attributes: dict\n",
    "        key-value pair, key=attribute's name, value=attribute's contribution score\n",
    "    ground_truth : list\n",
    "        list of outlying attributes\n",
    "    \"\"\"\n",
    "    check = list(set(outlying_attributes.keys()) & set(ground_truth))\n",
    "    if len(check) == len(ground_truth):\n",
    "        print(f'outlying_attributes {outlying_attributes}')\n",
    "        print(f'ground_truth {ground_truth}')\n",
    "        print(f'check {check}')\n",
    "        return True\n",
    "    else:\n",
    "        return False"
   ]
  },
  {
   "cell_type": "code",
   "execution_count": 7,
   "id": "3e023681-e51f-4bd2-9414-cbbbc7e216cb",
   "metadata": {},
   "outputs": [],
   "source": [
    "def compute_performance(gt_folder, gt_filename, result_folder, result_filename,\n",
    "                     n_streams, window_size, score_precision = 0.1):\n",
    "    result_path = f'{result_folder}/{result_filename}'\n",
    "    results = unpickled_results(result_path)\n",
    "    windows = tuple(results['output'].keys()) ## get tuple of window ids : (window_0, window_1, ...)\n",
    "    n_outliers = 0\n",
    "    matched = list()\n",
    "    matched2 = list()\n",
    "    for i in range(n_streams):\n",
    "        gt_path = f'{gt_folder}/{i}_{gt_filename}'\n",
    "        df = pd.read_pickle(gt_path)\n",
    "        df = df[['label', 'outlying_attributes']]\n",
    "        for j, window in enumerate(windows):\n",
    "            outlier_indices = results['output'][window][i]['outlier_indices'][i]\n",
    "            if outlier_indices is not None:\n",
    "                new_df = df.iloc[j*window_size:(j+1)*window_size].reset_index(drop=True)\n",
    "                n_outliers += len(outlier_indices)\n",
    "                ground_truth = new_df.iloc[outlier_indices].reset_index(drop=True)\n",
    "                outlying_attributes = results['output'][window][i]['out_attrs']\n",
    "                for idx , gt in ground_truth.iterrows():\n",
    "                    check = match_attribute_based_on_contribution_score(outlying_attributes[idx],\n",
    "                                                                   gt['outlying_attributes'])\n",
    "                    matched.append(check)\n",
    "                    check2 = match_all_attributes(outlying_attributes[idx], \n",
    "                                              gt['outlying_attributes'], \n",
    "                                              score_precision)\n",
    "                    matched2.append(check2)\n",
    "    matched = [True for item in matched if item == True]\n",
    "    matched2 = [True for item in matched2 if item == True]\n",
    "    return matched, matched2, n_outliers, results['simulator_time']"
   ]
  }
 ],
 "metadata": {
  "kernelspec": {
   "display_name": "Python 3 (ipykernel)",
   "language": "python",
   "name": "python3"
  },
  "language_info": {
   "codemirror_mode": {
    "name": "ipython",
    "version": 3
   },
   "file_extension": ".py",
   "mimetype": "text/x-python",
   "name": "python",
   "nbconvert_exporter": "python",
   "pygments_lexer": "ipython3",
   "version": "3.9.7"
  }
 },
 "nbformat": 4,
 "nbformat_minor": 5
}
