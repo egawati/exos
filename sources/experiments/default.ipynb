{
 "cells": [
  {
   "cell_type": "code",
   "execution_count": 1,
   "id": "8265e6cc-d25a-4524-92ec-d9a09b2f3ce1",
   "metadata": {},
   "outputs": [],
   "source": [
    "from ipynb.fs.full.exos_pandas import exos_running_time_df\n",
    "from ipynb.fs.full.exos_pandas import unpickled_results\n",
    "from ipynb.fs.full.exos_pandas import match_attribute_based_on_contribution_score\n",
    "from ipynb.fs.full.exos_pandas import match_all_attributes\n",
    "from ipynb.fs.full.exos_pandas import compute_accuracy"
   ]
  },
  {
   "cell_type": "code",
   "execution_count": 2,
   "id": "5301ffd8-2f62-43ba-abf9-16015cdaf956",
   "metadata": {},
   "outputs": [
    {
     "name": "stdout",
     "output_type": "stream",
     "text": [
      "79.58125\n",
      "52.65\n"
     ]
    }
   ],
   "source": [
    "matched, matched2, n_outliers = compute_accuracy(gt_folder='/home/epanjei/Codes/OutlierGen/exos/default', \n",
    "                 gt_filename='default.pkl', \n",
    "                 result_folder='.', \n",
    "                 result_filename='default.pkl',\n",
    "                 n_streams=16, \n",
    "                 window_size=1000,\n",
    "                 score_precision = 0.1)\n",
    "print(len(matched)/n_outliers * 100)\n",
    "print(len(matched2)/n_outliers * 100)"
   ]
  }
 ],
 "metadata": {
  "kernelspec": {
   "display_name": "Python 3 (ipykernel)",
   "language": "python",
   "name": "python3"
  },
  "language_info": {
   "codemirror_mode": {
    "name": "ipython",
    "version": 3
   },
   "file_extension": ".py",
   "mimetype": "text/x-python",
   "name": "python",
   "nbconvert_exporter": "python",
   "pygments_lexer": "ipython3",
   "version": "3.9.7"
  }
 },
 "nbformat": 4,
 "nbformat_minor": 5
}
