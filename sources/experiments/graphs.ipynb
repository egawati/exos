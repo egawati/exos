{
 "cells": [
  {
   "cell_type": "code",
   "execution_count": 1,
   "id": "e3d88133-6937-45e4-99ed-659f6b386f7f",
   "metadata": {},
   "outputs": [],
   "source": [
    "import matplotlib.pyplot as plt\n",
    "import pandas as pd\n",
    "import numpy as np\n",
    "# y = [1, 4, 9, 16, 25,36,49, 64]\n",
    "# x1 = [1, 16, 30, 42,55, 68, 77,88]\n",
    "# x2 = [1,6,12,18,28, 40, 52, 65]\n",
    "# fig=plt.figure()\n",
    "# ax=fig.add_axes([0,0,1,1])\n",
    "# l1=ax.plot(x1,y,'ys-') # solid line with yellow colour and square marker\n",
    "# l2=ax.plot(x2,y,'go--') # dash line with green colour and circle marker\n",
    "# ax.legend(labels=('tv', 'Smartphone'), loc='lower right') # legend placed at lower right\n",
    "# ax.set_title(\"Advertisement effect on sales\")\n",
    "# ax.set_xlabel('medium')\n",
    "# ax.set_ylabel('sales')\n",
    "# plt.show()"
   ]
  },
  {
   "cell_type": "code",
   "execution_count": 2,
   "id": "820bf66c-da5b-456d-a1d0-71084a8db35a",
   "metadata": {},
   "outputs": [],
   "source": [
    "def plot_nstreams_performance(Xs, y, xlabel, ylabel, \n",
    "                              lines, labels, title, \n",
    "                              loc='lower right', xlim=(0,25)):\n",
    "    fig = plt.figure()\n",
    "    ax=fig.add_axes([0,0,1,1])\n",
    "    X = None\n",
    "    for i, X in enumerate(Xs):\n",
    "        ax.plot(X, y, lines[i])\n",
    "    ax.legend(labels=labels, loc=loc)\n",
    "    #ax.set_title(title)\n",
    "    ax.set_xlabel(xlabel)\n",
    "    ax.set_ylabel(ylabel)\n",
    "    plt.xticks(np.arange(min(X), max(X)+3, 5))\n",
    "    plt.show()"
   ]
  },
  {
   "cell_type": "code",
   "execution_count": null,
   "id": "b790f244-c67c-4490-8f23-1584b0995b71",
   "metadata": {},
   "outputs": [],
   "source": []
  }
 ],
 "metadata": {
  "kernelspec": {
   "display_name": "Python 3 (ipykernel)",
   "language": "python",
   "name": "python3"
  },
  "language_info": {
   "codemirror_mode": {
    "name": "ipython",
    "version": 3
   },
   "file_extension": ".py",
   "mimetype": "text/x-python",
   "name": "python",
   "nbconvert_exporter": "python",
   "pygments_lexer": "ipython3",
   "version": "3.9.7"
  }
 },
 "nbformat": 4,
 "nbformat_minor": 5
}
