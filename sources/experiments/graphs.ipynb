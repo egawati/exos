{
 "cells": [
  {
   "cell_type": "code",
   "execution_count": 1,
   "id": "e3d88133-6937-45e4-99ed-659f6b386f7f",
   "metadata": {},
   "outputs": [],
   "source": [
    "import matplotlib.pyplot as plt\n",
    "import pandas as pd\n",
    "import numpy as np"
   ]
  },
  {
   "cell_type": "code",
   "execution_count": 2,
   "id": "820bf66c-da5b-456d-a1d0-71084a8db35a",
   "metadata": {},
   "outputs": [],
   "source": [
    "def plot_nstreams_performance(Xs, ys, xlabel, ylabel, \n",
    "                              lines, labels, title, \n",
    "                              loc='lower right', xlim=(0,25)):\n",
    "    fig = plt.figure()\n",
    "    ax=fig.add_axes([0,0,1,1])\n",
    "    X = None\n",
    "    for i, X in enumerate(Xs):\n",
    "        ax.plot(X, ys[i], lines[i])\n",
    "    ax.legend(labels=labels, loc=loc)\n",
    "    #ax.set_title(title)\n",
    "    ax.set_xlabel(xlabel)\n",
    "    ax.set_ylabel(ylabel)\n",
    "    plt.xticks(np.arange(min(X), max(X)+3, 5))\n",
    "    plt.show()"
   ]
  },
  {
   "cell_type": "code",
   "execution_count": 3,
   "id": "b790f244-c67c-4490-8f23-1584b0995b71",
   "metadata": {},
   "outputs": [],
   "source": [
    "def plot_categorical_performance(Xs, ys, xlabel, ylabel, \n",
    "                              lines, labels, title, \n",
    "                              loc='lower right',):\n",
    "    fig = plt.figure()\n",
    "    ax=fig.add_axes([0,0,1,1])\n",
    "    X = None\n",
    "    for i, X in enumerate(Xs):\n",
    "        ax.plot(X, ys[i], lines[i])\n",
    "    ax.legend(labels=labels, loc=loc)\n",
    "    #ax.set_title(title)\n",
    "    ax.set_xlabel(xlabel)\n",
    "    ax.set_ylabel(ylabel)\n",
    "    plt.show()"
   ]
  },
  {
   "cell_type": "code",
   "execution_count": 4,
   "id": "a6e46f4b-9d56-4469-9990-af59a2168ae1",
   "metadata": {},
   "outputs": [],
   "source": [
    "def plot_categorical_performance_v2(ax, xval, ys, xlabel, ylabel, \n",
    "                                 lines, labels, loc):\n",
    "    for i in range(len(labels)):\n",
    "        ax.plot(xval, ys[i], lines[i])\n",
    "    ax.legend(labels=labels)\n",
    "    #ax.set_xlabel(xlabel)\n",
    "    ax.set_ylabel(ylabel)\n",
    "    return ax\n",
    "\n",
    "def draw_multiple_plots_by_cases(yvals, xval, nsubplots, figsize, \n",
    "                                 lines, labels, title, \n",
    "                                 ylabels, xlabel,\n",
    "                                 loc='lower right', sharey=True):\n",
    "    \"\"\"\n",
    "    yvals is a dictionary \n",
    "    \"\"\"\n",
    "    fig, axs = plt.subplots(1, nsubplots, figsize=figsize, sharey=sharey)\n",
    "    for i, key in enumerate(list(yvals.keys())):\n",
    "        ys = yvals[key]\n",
    "        axs[i] = plot_categorical_performance_v2(axs[i], xval, ys, xlabel, ylabels[i], \n",
    "                                              lines, labels,loc)\n",
    "    fig.suptitle(title)\n",
    "    plt.show()"
   ]
  },
  {
   "cell_type": "code",
   "execution_count": null,
   "id": "f75bc34b-ee4d-442c-b5cc-69d2d329eae3",
   "metadata": {},
   "outputs": [],
   "source": []
  }
 ],
 "metadata": {
  "kernelspec": {
   "display_name": "Python 3 (ipykernel)",
   "language": "python",
   "name": "python3"
  },
  "language_info": {
   "codemirror_mode": {
    "name": "ipython",
    "version": 3
   },
   "file_extension": ".py",
   "mimetype": "text/x-python",
   "name": "python",
   "nbconvert_exporter": "python",
   "pygments_lexer": "ipython3",
   "version": "3.10.2"
  }
 },
 "nbformat": 4,
 "nbformat_minor": 5
}
