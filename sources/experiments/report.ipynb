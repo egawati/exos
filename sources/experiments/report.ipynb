{
 "cells": [
  {
   "cell_type": "code",
   "execution_count": 1,
   "id": "864a1594-b36d-43ef-9192-442968274816",
   "metadata": {},
   "outputs": [],
   "source": [
    "import pandas as pd\n",
    "pd.set_option('display.precision', 2)"
   ]
  },
  {
   "cell_type": "markdown",
   "id": "dd54f77d-6a3f-4a52-bdf0-d4ba29a4e016",
   "metadata": {},
   "source": [
    "## Varying number of streams\n",
    "\n",
    "- Number of streams = {2, 4, 8, 16, 24, 32}\n",
    "- Total data per stream = 100K (1% outlier)\n",
    "- Window size = 1000\n",
    "- Number of principal component = 1\n",
    "- Case 1 : data attributes are strongly correlated within each stream and across other streams\n",
    "- Number of attributes in each stream varies : {3, 7, 10, 16}\n"
   ]
  },
  {
   "cell_type": "code",
   "execution_count": 2,
   "id": "b9f337ba-dec7-4cc6-93c6-084d4705b24a",
   "metadata": {},
   "outputs": [
    {
     "data": {
      "text/html": [
       "<div>\n",
       "<style scoped>\n",
       "    .dataframe tbody tr th:only-of-type {\n",
       "        vertical-align: middle;\n",
       "    }\n",
       "\n",
       "    .dataframe tbody tr th {\n",
       "        vertical-align: top;\n",
       "    }\n",
       "\n",
       "    .dataframe thead th {\n",
       "        text-align: right;\n",
       "    }\n",
       "</style>\n",
       "<table border=\"1\" class=\"dataframe\">\n",
       "  <thead>\n",
       "    <tr style=\"text-align: right;\">\n",
       "      <th></th>\n",
       "      <th>nstreams</th>\n",
       "      <th>accuracy</th>\n",
       "    </tr>\n",
       "  </thead>\n",
       "  <tbody>\n",
       "    <tr>\n",
       "      <th>0</th>\n",
       "      <td>2</td>\n",
       "      <td>63.15</td>\n",
       "    </tr>\n",
       "    <tr>\n",
       "      <th>1</th>\n",
       "      <td>4</td>\n",
       "      <td>73.00</td>\n",
       "    </tr>\n",
       "    <tr>\n",
       "      <th>2</th>\n",
       "      <td>8</td>\n",
       "      <td>74.78</td>\n",
       "    </tr>\n",
       "    <tr>\n",
       "      <th>3</th>\n",
       "      <td>16</td>\n",
       "      <td>80.13</td>\n",
       "    </tr>\n",
       "    <tr>\n",
       "      <th>4</th>\n",
       "      <td>24</td>\n",
       "      <td>81.94</td>\n",
       "    </tr>\n",
       "    <tr>\n",
       "      <th>5</th>\n",
       "      <td>32</td>\n",
       "      <td>83.24</td>\n",
       "    </tr>\n",
       "  </tbody>\n",
       "</table>\n",
       "</div>"
      ],
      "text/plain": [
       "   nstreams  accuracy\n",
       "0         2     63.15\n",
       "1         4     73.00\n",
       "2         8     74.78\n",
       "3        16     80.13\n",
       "4        24     81.94\n",
       "5        32     83.24"
      ]
     },
     "execution_count": 2,
     "metadata": {},
     "output_type": "execute_result"
    }
   ],
   "source": [
    "folder = './pickles/nstreams'\n",
    "df = pd.read_pickle((f'{folder}/100K_Case1_k1.pkl'))\n",
    "df"
   ]
  },
  {
   "cell_type": "code",
   "execution_count": 3,
   "id": "1c4c30c9-403d-4e66-8f8b-c9a2f4487806",
   "metadata": {},
   "outputs": [
    {
     "data": {
      "text/html": [
       "<div>\n",
       "<style scoped>\n",
       "    .dataframe tbody tr th:only-of-type {\n",
       "        vertical-align: middle;\n",
       "    }\n",
       "\n",
       "    .dataframe tbody tr th {\n",
       "        vertical-align: top;\n",
       "    }\n",
       "\n",
       "    .dataframe thead th {\n",
       "        text-align: right;\n",
       "    }\n",
       "</style>\n",
       "<table border=\"1\" class=\"dataframe\">\n",
       "  <thead>\n",
       "    <tr style=\"text-align: right;\">\n",
       "      <th></th>\n",
       "      <th>nstreams</th>\n",
       "      <th>total_running_time</th>\n",
       "    </tr>\n",
       "  </thead>\n",
       "  <tbody>\n",
       "    <tr>\n",
       "      <th>0</th>\n",
       "      <td>2</td>\n",
       "      <td>28.24</td>\n",
       "    </tr>\n",
       "    <tr>\n",
       "      <th>1</th>\n",
       "      <td>4</td>\n",
       "      <td>32.76</td>\n",
       "    </tr>\n",
       "    <tr>\n",
       "      <th>2</th>\n",
       "      <td>8</td>\n",
       "      <td>44.68</td>\n",
       "    </tr>\n",
       "    <tr>\n",
       "      <th>3</th>\n",
       "      <td>16</td>\n",
       "      <td>82.39</td>\n",
       "    </tr>\n",
       "    <tr>\n",
       "      <th>4</th>\n",
       "      <td>24</td>\n",
       "      <td>128.09</td>\n",
       "    </tr>\n",
       "    <tr>\n",
       "      <th>5</th>\n",
       "      <td>32</td>\n",
       "      <td>172.37</td>\n",
       "    </tr>\n",
       "  </tbody>\n",
       "</table>\n",
       "</div>"
      ],
      "text/plain": [
       "   nstreams  total_running_time\n",
       "0         2               28.24\n",
       "1         4               32.76\n",
       "2         8               44.68\n",
       "3        16               82.39\n",
       "4        24              128.09\n",
       "5        32              172.37"
      ]
     },
     "execution_count": 3,
     "metadata": {},
     "output_type": "execute_result"
    }
   ],
   "source": [
    "df_time = pd.read_pickle((f'{folder}/time_100K_Case1_k1.pkl'))\n",
    "df_time"
   ]
  },
  {
   "cell_type": "markdown",
   "id": "4da60da6-afe0-4710-84f7-d2e8f1d4e98f",
   "metadata": {},
   "source": [
    "Todo : \n",
    "- when comparing EXOS with other techniques, compute the difference in accuracy and running time\n",
    "- run one set of experiments multiple time and then take the average (because of flunctuation in the system)\n",
    "- the interval (nstreams) should be the same not exponential\n",
    "- check why n=30 is something special in statistics\n",
    "- in statistics, how do they take average on experiments (how many experiments to run)\n",
    "- use graph to show the results"
   ]
  },
  {
   "cell_type": "code",
   "execution_count": null,
   "id": "1eece91c-181b-4eb9-809c-2100d2328e8b",
   "metadata": {},
   "outputs": [],
   "source": []
  }
 ],
 "metadata": {
  "kernelspec": {
   "display_name": "Python 3 (ipykernel)",
   "language": "python",
   "name": "python3"
  },
  "language_info": {
   "codemirror_mode": {
    "name": "ipython",
    "version": 3
   },
   "file_extension": ".py",
   "mimetype": "text/x-python",
   "name": "python",
   "nbconvert_exporter": "python",
   "pygments_lexer": "ipython3",
   "version": "3.9.7"
  }
 },
 "nbformat": 4,
 "nbformat_minor": 5
}
